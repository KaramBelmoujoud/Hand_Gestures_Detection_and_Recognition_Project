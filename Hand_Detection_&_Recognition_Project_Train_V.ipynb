{
  "cells": [
    {
      "cell_type": "code",
      "execution_count": 1,
      "metadata": {
        "id": "jGI8K15iWN2n"
      },
      "outputs": [
        {
          "name": "stdout",
          "output_type": "stream",
          "text": [
            "Requirement already satisfied: mediapipe in c:\\users\\kibbou\\appdata\\local\\packages\\pythonsoftwarefoundation.python.3.9_qbz5n2kfra8p0\\localcache\\local-packages\\python39\\site-packages (0.9.1.0)\n",
            "Requirement already satisfied: absl-py in c:\\users\\kibbou\\appdata\\local\\packages\\pythonsoftwarefoundation.python.3.9_qbz5n2kfra8p0\\localcache\\local-packages\\python39\\site-packages (from mediapipe) (1.4.0)\n",
            "Requirement already satisfied: attrs>=19.1.0 in c:\\users\\kibbou\\appdata\\local\\packages\\pythonsoftwarefoundation.python.3.9_qbz5n2kfra8p0\\localcache\\local-packages\\python39\\site-packages (from mediapipe) (22.2.0)\n",
            "Requirement already satisfied: flatbuffers>=2.0 in c:\\users\\kibbou\\appdata\\local\\packages\\pythonsoftwarefoundation.python.3.9_qbz5n2kfra8p0\\localcache\\local-packages\\python39\\site-packages (from mediapipe) (23.3.3)\n",
            "Requirement already satisfied: matplotlib in c:\\users\\kibbou\\appdata\\local\\packages\\pythonsoftwarefoundation.python.3.9_qbz5n2kfra8p0\\localcache\\local-packages\\python39\\site-packages (from mediapipe) (3.7.1)\n",
            "Requirement already satisfied: numpy in c:\\users\\kibbou\\appdata\\local\\packages\\pythonsoftwarefoundation.python.3.9_qbz5n2kfra8p0\\localcache\\local-packages\\python39\\site-packages (from mediapipe) (1.23.5)\n",
            "Requirement already satisfied: opencv-contrib-python in c:\\users\\kibbou\\appdata\\local\\packages\\pythonsoftwarefoundation.python.3.9_qbz5n2kfra8p0\\localcache\\local-packages\\python39\\site-packages (from mediapipe) (4.7.0.72)\n",
            "Requirement already satisfied: protobuf<4,>=3.11 in c:\\users\\kibbou\\appdata\\local\\packages\\pythonsoftwarefoundation.python.3.9_qbz5n2kfra8p0\\localcache\\local-packages\\python39\\site-packages (from mediapipe) (3.20.3)\n",
            "Requirement already satisfied: contourpy>=1.0.1 in c:\\users\\kibbou\\appdata\\local\\packages\\pythonsoftwarefoundation.python.3.9_qbz5n2kfra8p0\\localcache\\local-packages\\python39\\site-packages (from matplotlib->mediapipe) (1.0.7)\n",
            "Requirement already satisfied: cycler>=0.10 in c:\\users\\kibbou\\appdata\\local\\packages\\pythonsoftwarefoundation.python.3.9_qbz5n2kfra8p0\\localcache\\local-packages\\python39\\site-packages (from matplotlib->mediapipe) (0.11.0)\n",
            "Requirement already satisfied: fonttools>=4.22.0 in c:\\users\\kibbou\\appdata\\local\\packages\\pythonsoftwarefoundation.python.3.9_qbz5n2kfra8p0\\localcache\\local-packages\\python39\\site-packages (from matplotlib->mediapipe) (4.39.0)\n",
            "Requirement already satisfied: kiwisolver>=1.0.1 in c:\\users\\kibbou\\appdata\\local\\packages\\pythonsoftwarefoundation.python.3.9_qbz5n2kfra8p0\\localcache\\local-packages\\python39\\site-packages (from matplotlib->mediapipe) (1.4.4)\n",
            "Requirement already satisfied: packaging>=20.0 in c:\\users\\kibbou\\appdata\\local\\packages\\pythonsoftwarefoundation.python.3.9_qbz5n2kfra8p0\\localcache\\local-packages\\python39\\site-packages (from matplotlib->mediapipe) (23.0)\n",
            "Requirement already satisfied: pillow>=6.2.0 in c:\\users\\kibbou\\appdata\\local\\packages\\pythonsoftwarefoundation.python.3.9_qbz5n2kfra8p0\\localcache\\local-packages\\python39\\site-packages (from matplotlib->mediapipe) (9.4.0)\n",
            "Requirement already satisfied: pyparsing>=2.3.1 in c:\\users\\kibbou\\appdata\\local\\packages\\pythonsoftwarefoundation.python.3.9_qbz5n2kfra8p0\\localcache\\local-packages\\python39\\site-packages (from matplotlib->mediapipe) (3.0.9)\n",
            "Requirement already satisfied: python-dateutil>=2.7 in c:\\users\\kibbou\\appdata\\local\\packages\\pythonsoftwarefoundation.python.3.9_qbz5n2kfra8p0\\localcache\\local-packages\\python39\\site-packages (from matplotlib->mediapipe) (2.8.2)\n",
            "Requirement already satisfied: importlib-resources>=3.2.0 in c:\\users\\kibbou\\appdata\\local\\packages\\pythonsoftwarefoundation.python.3.9_qbz5n2kfra8p0\\localcache\\local-packages\\python39\\site-packages (from matplotlib->mediapipe) (5.12.0)\n",
            "Requirement already satisfied: zipp>=3.1.0 in c:\\users\\kibbou\\appdata\\local\\packages\\pythonsoftwarefoundation.python.3.9_qbz5n2kfra8p0\\localcache\\local-packages\\python39\\site-packages (from importlib-resources>=3.2.0->matplotlib->mediapipe) (3.15.0)\n",
            "Requirement already satisfied: six>=1.5 in c:\\users\\kibbou\\appdata\\local\\packages\\pythonsoftwarefoundation.python.3.9_qbz5n2kfra8p0\\localcache\\local-packages\\python39\\site-packages (from python-dateutil>=2.7->matplotlib->mediapipe) (1.16.0)\n",
            "Note: you may need to restart the kernel to use updated packages.\n"
          ]
        }
      ],
      "source": [
        "\n",
        "# Install dependencies \n",
        "# pip install opencv-python \n",
        "%pip install mediapipe\n"
      ]
    },
    {
      "cell_type": "markdown",
      "metadata": {
        "id": "rodWEAufWN2y"
      },
      "source": [
        "# Import packages"
      ]
    },
    {
      "cell_type": "code",
      "execution_count": 2,
      "metadata": {
        "id": "N0b9wzQ0WN24"
      },
      "outputs": [],
      "source": [
        "import mediapipe as mp\n",
        "import cv2\n",
        "import numpy as np\n",
        "import uuid\n",
        "import os\n",
        "import copy\n",
        "import itertools\n",
        "from collections import deque, Counter\n",
        "import csv\n",
        "import tensorflow as tf\n",
        "\n"
      ]
    },
    {
      "cell_type": "markdown",
      "metadata": {
        "id": "5Y0mtPShWN27"
      },
      "source": [
        "# Initials MP Hands"
      ]
    },
    {
      "cell_type": "code",
      "execution_count": 3,
      "metadata": {
        "id": "uKM8UnZWWN28"
      },
      "outputs": [],
      "source": [
        "mp_hands = mp.solutions.hands # hands model\n",
        "mp_drawing = mp.solutions.drawing_utils # Drawing utilities"
      ]
    },
    {
      "cell_type": "markdown",
      "metadata": {
        "id": "Rr9LUO97ZRBp"
      },
      "source": [
        "# Detecting Hands Function\n",
        "A list of 21 hand landmarks on the left hand. Each landmark consists of x, y and z. x and y are normalized to [0.0, 1.0] by the image width and height respectively."
      ]
    },
    {
      "cell_type": "code",
      "execution_count": 4,
      "metadata": {
        "id": "pcfh4hlzWN29"
      },
      "outputs": [],
      "source": [
        "def mediapipe_detection(image, model):\n",
        "    image = cv2.flip(image, 1)                     # Mirror display\n",
        "    debug_image = copy.deepcopy(image)\n",
        "    image = cv2.cvtColor(image, cv2.COLOR_BGR2RGB) # COLOR CONVERSION BGR 2 RGB\n",
        "    image.flags.writeable = False                  # Image is no longer writeable\n",
        "    results = model.process(image)                 # Make prediction\n",
        "    image.flags.writeable = True                   # Image is now writeable \n",
        "    image = cv2.cvtColor(image, cv2.COLOR_RGB2BGR) # COLOR COVERSION RGB 2 BGR\n",
        "    return image, results ,debug_image"
      ]
    },
    {
      "cell_type": "markdown",
      "metadata": {
        "id": "B6DaZ939iMe1"
      },
      "source": [
        "# Drawing Landmarks"
      ]
    },
    {
      "cell_type": "code",
      "execution_count": 5,
      "metadata": {
        "id": "qMdAJSpuWN3A"
      },
      "outputs": [],
      "source": [
        "def draw_landmarkss(image, hand):\n",
        "    # Draw Hand connections\n",
        "    mp_drawing.draw_landmarks(image, hand, mp_hands.HAND_CONNECTIONS, \n",
        "                             mp_drawing.DrawingSpec(color=(33, 225, 225), thickness=2, circle_radius=4),\n",
        "                             mp_drawing.DrawingSpec(color=(33, 225, 225), thickness=2, circle_radius=2),\n",
        "                             )"
      ]
    },
    {
      "cell_type": "code",
      "execution_count": 6,
      "metadata": {
        "id": "46FqmyOJ20hA"
      },
      "outputs": [],
      "source": [
        "def draw_bounding_rect(use_brect, image, brect):\n",
        "    if use_brect:\n",
        "        # Outer rectangle\n",
        "        cv2.rectangle(image, (brect[0], brect[1]), (brect[2], brect[3]),\n",
        "                     (0, 0, 0), 1)\n",
        "\n",
        "    return image"
      ]
    },
    {
      "cell_type": "code",
      "execution_count": 7,
      "metadata": {
        "id": "Qki7IswT3bfO"
      },
      "outputs": [],
      "source": [
        "def draw_info(image, mode, number):\n",
        "    if 1 <= mode <= 2:\n",
        "        cv2.putText(image, \"Collecting Data \", (10, 90),\n",
        "                   cv2.FONT_HERSHEY_SIMPLEX, 0.6, (0, 0, 0), 1,\n",
        "                   cv2.LINE_AA)\n",
        "        if 0 <= number <= 9:\n",
        "            cv2.putText(image, \"NUM:\" + str(number), (10, 110),\n",
        "                       cv2.FONT_HERSHEY_SIMPLEX, 0.6, (33, 225, 225), 1,\n",
        "                       cv2.LINE_AA)\n",
        "    return image\n"
      ]
    },
    {
      "cell_type": "code",
      "execution_count": 8,
      "metadata": {
        "id": "-i2iHLrS4bTW"
      },
      "outputs": [],
      "source": [
        "def draw_info_text(image, brect,handedness,finger_gesture_text):\n",
        "    cv2.rectangle(image, (brect[0], brect[1]), (brect[2], brect[1] - 22),\n",
        "                 (0, 0, 0), -1)\n",
        "    \n",
        "    info_text = handedness.classification[0].label[0:]\n",
        "        \n",
        "    if finger_gesture_text != \"\":\n",
        "        cv2.putText(image, \"Hand Gesture:\" + finger_gesture_text, (10, 60),\n",
        "                   cv2.FONT_HERSHEY_SIMPLEX, 1.0, (0, 0, 0), 4, cv2.LINE_AA)\n",
        "        cv2.putText(image, \"Hand Gesture:\" + finger_gesture_text, (10, 60),\n",
        "                   cv2.FONT_HERSHEY_SIMPLEX, 1.0, (255, 255, 255), 2,\n",
        "                   cv2.LINE_AA)\n",
        "        info_text = info_text + ':' + finger_gesture_text\n",
        "    cv2.putText(image, info_text, (brect[0] + 5, brect[1] - 4),\n",
        "               cv2.FONT_HERSHEY_SIMPLEX, 0.6, (255, 255, 255), 1, cv2.LINE_AA)\n",
        "\n",
        "    return image"
      ]
    },
    {
      "cell_type": "code",
      "execution_count": 9,
      "metadata": {
        "id": "Brw7n4HS9Z9c"
      },
      "outputs": [],
      "source": [
        "def draw_point_history(image, point_history):\n",
        "    for index, point in enumerate(point_history):\n",
        "        if point[0]!= 0 and point[1] != 0:\n",
        "            cv2.circle(image, (point[0], point[1]), 1 + int(index / 2),\n",
        "                      (152, 251, 152), 2)\n",
        "\n",
        "    return image"
      ]
    },
    {
      "cell_type": "markdown",
      "metadata": {
        "id": "NsuViGsDh-oH"
      },
      "source": [
        "# Read labels"
      ]
    },
    {
      "cell_type": "code",
      "execution_count": 10,
      "metadata": {
        "id": "FDYT9xlThahn"
      },
      "outputs": [],
      "source": [
        "actions = ['stop','goLeft', 'goRight', 'modeDiaPo','modeNormal']"
      ]
    },
    {
      "cell_type": "markdown",
      "metadata": {
        "id": "_LcBv9AvnYUP"
      },
      "source": [
        "# Draw The Rectangle Of Hand"
      ]
    },
    {
      "cell_type": "code",
      "execution_count": 11,
      "metadata": {
        "id": "KLwP1UM_nYH5"
      },
      "outputs": [],
      "source": [
        "def calc_bounding_rect(image, landmarks):\n",
        "    image_width, image_height = image.shape[1], image.shape[0]\n",
        "\n",
        "    landmark_array = np.empty((0, 2), int)\n",
        "\n",
        "    for _, landmark in enumerate(landmarks.landmark):\n",
        "        landmark_x = min(int(landmark.x * image_width), image_width - 1) \n",
        "        landmark_y = min(int(landmark.y * image_height), image_height - 1)\n",
        "\n",
        "        landmark_point = [np.array((landmark_x, landmark_y))]\n",
        "\n",
        "        landmark_array = np.append(landmark_array, landmark_point, axis=0)\n",
        "\n",
        "    x, y, w, h = cv2.boundingRect(landmark_array)\n",
        "\n",
        "    return [x, y, x + w, y + h] # retuen the coords of 4 points of the rect"
      ]
    },
    {
      "attachments": {},
      "cell_type": "markdown",
      "metadata": {
        "id": "q1LOAcnKn-9v"
      },
      "source": [
        "# Extract Keypoint Values of Hand\n"
      ]
    },
    {
      "cell_type": "code",
      "execution_count": 12,
      "metadata": {
        "id": "ay1ozsC9n-AR"
      },
      "outputs": [],
      "source": [
        "def calc_landmark_list(image, landmarks):\n",
        "    image_width, image_height = image.shape[1], image.shape[0]\n",
        "\n",
        "    landmark_point = []\n",
        "\n",
        "    # Keypoint\n",
        "    for _, landmark in enumerate(landmarks.landmark):\n",
        "        landmark_x = min(int(landmark.x * image_width), image_width - 1)\n",
        "        landmark_y = min(int(landmark.y * image_height), image_height - 1)\n",
        "\n",
        "        landmark_point.append([landmark_x, landmark_y])\n",
        "\n",
        "    return landmark_point # keypoint => [[x1,y1],[x2,y2]]"
      ]
    },
    {
      "cell_type": "markdown",
      "metadata": {
        "id": "tmt0kW3hsG40"
      },
      "source": [
        "# Preprocess Data (Normalisation)\n",
        "\n",
        "In our case  Coords"
      ]
    },
    {
      "cell_type": "code",
      "execution_count": 13,
      "metadata": {
        "id": "HCv-vAPOpbuX"
      },
      "outputs": [],
      "source": [
        "def pre_process_Keypoint_history(image, Keypoints_history):\n",
        "    image_width, image_height = image.shape[1], image.shape[0]\n",
        "\n",
        "    temporarly_Keypoints_history = copy.deepcopy(Keypoints_history)\n",
        "\n",
        "    # Convert to relative coordinates\n",
        "    base_x, base_y = 0, 0\n",
        "    for index, point in enumerate(temporarly_Keypoints_history):\n",
        "        if index == 0:\n",
        "            base_x, base_y = point[0], point[1]\n",
        "           # point => [x,y]\n",
        "         # point => [x,y]\n",
        "\n",
        "        \n",
        "        # Normalization of Coords\n",
        "        temporarly_Keypoints_history[index][0] = (temporarly_Keypoints_history[index][0] -\n",
        "                                        base_x) / image_width # x / image width\n",
        "        temporarly_Keypoints_history[index][1] = (temporarly_Keypoints_history[index][1] -\n",
        "                                        base_y) / image_height # y / image height\n",
        "\n",
        "    # Convert to a one-dimensional list (Flatten the temporarly_Keypoints_history list to 1d list )\n",
        "    temporarly_Keypoints_history = list(\n",
        "        itertools.chain.from_iterable(temporarly_Keypoints_history))\n",
        "\n",
        "    return temporarly_Keypoints_history\n",
        "\n"
      ]
    },
    {
      "cell_type": "code",
      "execution_count": 14,
      "metadata": {
        "id": "WKojZ8og2Rjg"
      },
      "outputs": [],
      "source": [
        "def pre_process_landmark(landmark_list):\n",
        "    temporarly_landmark_list = copy.deepcopy(landmark_list)\n",
        "\n",
        "    # Convert to relative coordinates\n",
        "    base_x, base_y = 0, 0\n",
        "    for index, landmark_point in enumerate(temporarly_landmark_list):\n",
        "        if index == 0:\n",
        "            base_x, base_y = landmark_point[0], landmark_point[1]\n",
        "\n",
        "        temporarly_landmark_list[index][0] = temporarly_landmark_list[index][0] - base_x\n",
        "        temporarly_landmark_list[index][1] = temporarly_landmark_list[index][1] - base_y\n",
        "\n",
        "    # Convert to a one-dimensional list\n",
        "    temporarly_landmark_list = list(\n",
        "        itertools.chain.from_iterable(temporarly_landmark_list))\n",
        "\n",
        "    # Normalization\n",
        "    max_value = max(list(map(abs, temporarly_landmark_list)))\n",
        "\n",
        "    def normalize_(n):\n",
        "        return n / max_value\n",
        "\n",
        "    temporarly_landmark_list = list(map(normalize_, temporarly_landmark_list))\n",
        "\n",
        "    return temporarly_landmark_list"
      ]
    },
    {
      "attachments": {},
      "cell_type": "markdown",
      "metadata": {
        "id": "oYe6SGpOtFP7"
      },
      "source": [
        "# Save Collected Coords"
      ]
    },
    {
      "cell_type": "code",
      "execution_count": 15,
      "metadata": {
        "id": "do3LhTDks2Vn"
      },
      "outputs": [],
      "source": [
        "def logging_csv(number, mode, point_history_list):\n",
        "    if mode == 0:\n",
        "        pass\n",
        "    if mode == 2 and (0 <= number <= 9):\n",
        "        csv_path = 'Gestures_Presentation_Controle_DataSet/KeyPoints.csv'\n",
        "        with open(csv_path, 'a', newline=\"\") as f:\n",
        "            writer = csv.writer(f)\n",
        "            writer.writerow([number, *point_history_list])\n",
        "    return"
      ]
    },
    {
      "cell_type": "markdown",
      "metadata": {
        "id": "hghBGX42-hUS"
      },
      "source": [
        "# Choise of Mode"
      ]
    },
    {
      "cell_type": "code",
      "execution_count": 16,
      "metadata": {
        "id": "RG6j4Uu6-gqo"
      },
      "outputs": [],
      "source": [
        "def select_mode(key, mode):\n",
        "    number = -1\n",
        "    if 48 <= key <= 57:  # 0 ~ 9\n",
        "        number = key - 48\n",
        "    if key == 110:  # n normal\n",
        "        mode = 0\n",
        "    if key == 104:  # h trainig frame\n",
        "        mode = 2\n",
        "    return number, mode"
      ]
    },
    {
      "cell_type": "code",
      "execution_count": 17,
      "metadata": {},
      "outputs": [],
      "source": [
        "def draw_landmarks(image, landmark_point):\n",
        "    # 接続線\n",
        "    if len(landmark_point) > 0:\n",
        "        # 親指\n",
        "        cv2.line(image, tuple(landmark_point[2]), tuple(landmark_point[3]),\n",
        "                (0, 0, 0), 6)\n",
        "        cv2.line(image, tuple(landmark_point[2]), tuple(landmark_point[3]),\n",
        "                (255, 255, 255), 2)\n",
        "        cv2.line(image, tuple(landmark_point[3]), tuple(landmark_point[4]),\n",
        "                (0, 0, 0), 6)\n",
        "        cv2.line(image, tuple(landmark_point[3]), tuple(landmark_point[4]),\n",
        "                (255, 255, 255), 2)\n",
        "\n",
        "        # 人差指\n",
        "        cv2.line(image, tuple(landmark_point[5]), tuple(landmark_point[6]),\n",
        "                (0, 0, 0), 6)\n",
        "        cv2.line(image, tuple(landmark_point[5]), tuple(landmark_point[6]),\n",
        "                (255, 255, 255), 2)\n",
        "        cv2.line(image, tuple(landmark_point[6]), tuple(landmark_point[7]),\n",
        "                (0, 0, 0), 6)\n",
        "        cv2.line(image, tuple(landmark_point[6]), tuple(landmark_point[7]),\n",
        "                (255, 255, 255), 2)\n",
        "        cv2.line(image, tuple(landmark_point[7]), tuple(landmark_point[8]),\n",
        "                (0, 0, 0), 6)\n",
        "        cv2.line(image, tuple(landmark_point[7]), tuple(landmark_point[8]),\n",
        "                (255, 255, 255), 2)\n",
        "\n",
        "        # 中指\n",
        "        cv2.line(image, tuple(landmark_point[9]), tuple(landmark_point[10]),\n",
        "                (0, 0, 0), 6)\n",
        "        cv2.line(image, tuple(landmark_point[9]), tuple(landmark_point[10]),\n",
        "                (255, 255, 255), 2)\n",
        "        cv2.line(image, tuple(landmark_point[10]), tuple(landmark_point[11]),\n",
        "                (0, 0, 0), 6)\n",
        "        cv2.line(image, tuple(landmark_point[10]), tuple(landmark_point[11]),\n",
        "                (255, 255, 255), 2)\n",
        "        cv2.line(image, tuple(landmark_point[11]), tuple(landmark_point[12]),\n",
        "                (0, 0, 0), 6)\n",
        "        cv2.line(image, tuple(landmark_point[11]), tuple(landmark_point[12]),\n",
        "                (255, 255, 255), 2)\n",
        "\n",
        "        # 薬指\n",
        "        cv2.line(image, tuple(landmark_point[13]), tuple(landmark_point[14]),\n",
        "                (0, 0, 0), 6)\n",
        "        cv2.line(image, tuple(landmark_point[13]), tuple(landmark_point[14]),\n",
        "                (255, 255, 255), 2)\n",
        "        cv2.line(image, tuple(landmark_point[14]), tuple(landmark_point[15]),\n",
        "                (0, 0, 0), 6)\n",
        "        cv2.line(image, tuple(landmark_point[14]), tuple(landmark_point[15]),\n",
        "                (255, 255, 255), 2)\n",
        "        cv2.line(image, tuple(landmark_point[15]), tuple(landmark_point[16]),\n",
        "                (0, 0, 0), 6)\n",
        "        cv2.line(image, tuple(landmark_point[15]), tuple(landmark_point[16]),\n",
        "                (255, 255, 255), 2)\n",
        "\n",
        "        # 小指\n",
        "        cv2.line(image, tuple(landmark_point[17]), tuple(landmark_point[18]),\n",
        "                (0, 0, 0), 6)\n",
        "        cv2.line(image, tuple(landmark_point[17]), tuple(landmark_point[18]),\n",
        "                (255, 255, 255), 2)\n",
        "        cv2.line(image, tuple(landmark_point[18]), tuple(landmark_point[19]),\n",
        "                (0, 0, 0), 6)\n",
        "        cv2.line(image, tuple(landmark_point[18]), tuple(landmark_point[19]),\n",
        "                (255, 255, 255), 2)\n",
        "        cv2.line(image, tuple(landmark_point[19]), tuple(landmark_point[20]),\n",
        "                (0, 0, 0), 6)\n",
        "        cv2.line(image, tuple(landmark_point[19]), tuple(landmark_point[20]),\n",
        "                (255, 255, 255), 2)\n",
        "\n",
        "        # 手の平\n",
        "        cv2.line(image, tuple(landmark_point[0]), tuple(landmark_point[1]),\n",
        "                (0, 0, 0), 6)\n",
        "        cv2.line(image, tuple(landmark_point[0]), tuple(landmark_point[1]),\n",
        "                (255, 255, 255), 2)\n",
        "        cv2.line(image, tuple(landmark_point[1]), tuple(landmark_point[2]),\n",
        "                (0, 0, 0), 6)\n",
        "        cv2.line(image, tuple(landmark_point[1]), tuple(landmark_point[2]),\n",
        "                (255, 255, 255), 2)\n",
        "        cv2.line(image, tuple(landmark_point[2]), tuple(landmark_point[5]),\n",
        "                (0, 0, 0), 6)\n",
        "        cv2.line(image, tuple(landmark_point[2]), tuple(landmark_point[5]),\n",
        "                (255, 255, 255), 2)\n",
        "        cv2.line(image, tuple(landmark_point[5]), tuple(landmark_point[9]),\n",
        "                (0, 0, 0), 6)\n",
        "        cv2.line(image, tuple(landmark_point[5]), tuple(landmark_point[9]),\n",
        "                (255, 255, 255), 2)\n",
        "        cv2.line(image, tuple(landmark_point[9]), tuple(landmark_point[13]),\n",
        "                (0, 0, 0), 6)\n",
        "        cv2.line(image, tuple(landmark_point[9]), tuple(landmark_point[13]),\n",
        "                (255, 255, 255), 2)\n",
        "        cv2.line(image, tuple(landmark_point[13]), tuple(landmark_point[17]),\n",
        "                (0, 0, 0), 6)\n",
        "        cv2.line(image, tuple(landmark_point[13]), tuple(landmark_point[17]),\n",
        "                (255, 255, 255), 2)\n",
        "        cv2.line(image, tuple(landmark_point[17]), tuple(landmark_point[0]),\n",
        "                (0, 0, 0), 6)\n",
        "        cv2.line(image, tuple(landmark_point[17]), tuple(landmark_point[0]),\n",
        "                (255, 255, 255), 2)\n",
        "\n",
        "    # キーポイント\n",
        "    for index, landmark in enumerate(landmark_point):\n",
        "        if index == 0:  # 手首1\n",
        "            cv2.circle(image, (landmark[0], landmark[1]), 5, (255, 255, 255),\n",
        "                      -1)\n",
        "            cv2.circle(image, (landmark[0], landmark[1]), 5, (0, 0, 0), 1)\n",
        "        if index == 1:  # 手首2\n",
        "            cv2.circle(image, (landmark[0], landmark[1]), 5, (255, 255, 255),\n",
        "                      -1)\n",
        "            cv2.circle(image, (landmark[0], landmark[1]), 5, (0, 0, 0), 1)\n",
        "        if index == 2:  # 親指：付け根\n",
        "            cv2.circle(image, (landmark[0], landmark[1]), 5, (255, 255, 255),\n",
        "                      -1)\n",
        "            cv2.circle(image, (landmark[0], landmark[1]), 5, (0, 0, 0), 1)\n",
        "        if index == 3:  # 親指：第1関節\n",
        "            cv2.circle(image, (landmark[0], landmark[1]), 5, (255, 255, 255),\n",
        "                      -1)\n",
        "            cv2.circle(image, (landmark[0], landmark[1]), 5, (0, 0, 0), 1)\n",
        "        if index == 4:  # 親指：指先\n",
        "            cv2.circle(image, (landmark[0], landmark[1]), 8, (255, 255, 255),\n",
        "                      -1)\n",
        "            cv2.circle(image, (landmark[0], landmark[1]), 8, (0, 0, 0), 1)\n",
        "        if index == 5:  # 人差指：付け根\n",
        "            cv2.circle(image, (landmark[0], landmark[1]), 5, (255, 255, 255),\n",
        "                      -1)\n",
        "            cv2.circle(image, (landmark[0], landmark[1]), 5, (0, 0, 0), 1)\n",
        "        if index == 6:  # 人差指：第2関節\n",
        "            cv2.circle(image, (landmark[0], landmark[1]), 5, (255, 255, 255),\n",
        "                      -1)\n",
        "            cv2.circle(image, (landmark[0], landmark[1]), 5, (0, 0, 0), 1)\n",
        "        if index == 7:  # 人差指：第1関節\n",
        "            cv2.circle(image, (landmark[0], landmark[1]), 5, (255, 255, 255),\n",
        "                      -1)\n",
        "            cv2.circle(image, (landmark[0], landmark[1]), 5, (0, 0, 0), 1)\n",
        "        if index == 8:  # 人差指：指先\n",
        "            cv2.circle(image, (landmark[0], landmark[1]), 8, (255, 255, 255),\n",
        "                      -1)\n",
        "            cv2.circle(image, (landmark[0], landmark[1]), 8, (0, 0, 0), 1)\n",
        "        if index == 9:  # 中指：付け根\n",
        "            cv2.circle(image, (landmark[0], landmark[1]), 5, (255, 255, 255),\n",
        "                      -1)\n",
        "            cv2.circle(image, (landmark[0], landmark[1]), 5, (0, 0, 0), 1)\n",
        "        if index == 10:  # 中指：第2関節\n",
        "            cv2.circle(image, (landmark[0], landmark[1]), 5, (255, 255, 255),\n",
        "                      -1)\n",
        "            cv2.circle(image, (landmark[0], landmark[1]), 5, (0, 0, 0), 1)\n",
        "        if index == 11:  # 中指：第1関節\n",
        "            cv2.circle(image, (landmark[0], landmark[1]), 5, (255, 255, 255),\n",
        "                      -1)\n",
        "            cv2.circle(image, (landmark[0], landmark[1]), 5, (0, 0, 0), 1)\n",
        "        if index == 12:  # 中指：指先\n",
        "            cv2.circle(image, (landmark[0], landmark[1]), 8, (255, 255, 255),\n",
        "                      -1)\n",
        "            cv2.circle(image, (landmark[0], landmark[1]), 8, (0, 0, 0), 1)\n",
        "        if index == 13:  # 薬指：付け根\n",
        "            cv2.circle(image, (landmark[0], landmark[1]), 5, (255, 255, 255),\n",
        "                      -1)\n",
        "            cv2.circle(image, (landmark[0], landmark[1]), 5, (0, 0, 0), 1)\n",
        "        if index == 14:  # 薬指：第2関節\n",
        "            cv2.circle(image, (landmark[0], landmark[1]), 5, (255, 255, 255),\n",
        "                      -1)\n",
        "            cv2.circle(image, (landmark[0], landmark[1]), 5, (0, 0, 0), 1)\n",
        "        if index == 15:  # 薬指：第1関節\n",
        "            cv2.circle(image, (landmark[0], landmark[1]), 5, (255, 255, 255),\n",
        "                      -1)\n",
        "            cv2.circle(image, (landmark[0], landmark[1]), 5, (0, 0, 0), 1)\n",
        "        if index == 16:  # 薬指：指先\n",
        "            cv2.circle(image, (landmark[0], landmark[1]), 8, (255, 255, 255),\n",
        "                      -1)\n",
        "            cv2.circle(image, (landmark[0], landmark[1]), 8, (0, 0, 0), 1)\n",
        "        if index == 17:  # 小指：付け根\n",
        "            cv2.circle(image, (landmark[0], landmark[1]), 5, (255, 255, 255),\n",
        "                      -1)\n",
        "            cv2.circle(image, (landmark[0], landmark[1]), 5, (0, 0, 0), 1)\n",
        "        if index == 18:  # 小指：第2関節\n",
        "            cv2.circle(image, (landmark[0], landmark[1]), 5, (255, 255, 255),\n",
        "                      -1)\n",
        "            cv2.circle(image, (landmark[0], landmark[1]), 5, (0, 0, 0), 1)\n",
        "        if index == 19:  # 小指：第1関節\n",
        "            cv2.circle(image, (landmark[0], landmark[1]), 5, (255, 255, 255),\n",
        "                      -1)\n",
        "            cv2.circle(image, (landmark[0], landmark[1]), 5, (0, 0, 0), 1)\n",
        "        if index == 20:  # 小指：指先\n",
        "            cv2.circle(image, (landmark[0], landmark[1]), 8, (255, 255, 255),\n",
        "                      -1)\n",
        "            cv2.circle(image, (landmark[0], landmark[1]), 8, (0, 0, 0), 1)\n",
        "\n",
        "    return image"
      ]
    },
    {
      "attachments": {},
      "cell_type": "markdown",
      "metadata": {},
      "source": [
        "# Classifier"
      ]
    },
    {
      "cell_type": "code",
      "execution_count": 18,
      "metadata": {},
      "outputs": [],
      "source": [
        "class Classifier(object):\n",
        "    def __init__(\n",
        "        self,\n",
        "        model_path='C:/oussamaboussaid/Hand_Gestures_Detection_and_Recognition_Project/Gestures_classifier.tflite',\n",
        "        score_th=0.5,\n",
        "        invalid_value=0,\n",
        "        # num_threads=1,\n",
        "    ):\n",
        "        \n",
        "        self.interpreter = tf.lite.Interpreter(model_path=model_path)\n",
        "\n",
        "        self.interpreter.allocate_tensors()\n",
        "        self.input_details = self.interpreter.get_input_details()\n",
        "        self.output_details = self.interpreter.get_output_details()\n",
        "\n",
        "        self.score_th = score_th\n",
        "        self.invalid_value = invalid_value\n",
        "\n",
        "    def __call__(\n",
        "        self,\n",
        "        point_history,\n",
        "    ):\n",
        "        input_details_tensor_index = self.input_details[0]['index']\n",
        "        self.interpreter.set_tensor(\n",
        "            input_details_tensor_index,\n",
        "            np.array([point_history]))\n",
        "        self.interpreter.invoke()\n",
        "\n",
        "        output_details_tensor_index = self.output_details[0]['index']\n",
        "\n",
        "        result = self.interpreter.get_tensor(output_details_tensor_index)\n",
        "\n",
        "        result_index = np.argmax(np.squeeze(result))\n",
        "\n",
        "        # if np.squeeze(result)[result_index] < self.score_th:\n",
        "        #     result_index = self.invalid_value\n",
        "\n",
        "        return result_index\n"
      ]
    },
    {
      "cell_type": "code",
      "execution_count": 19,
      "metadata": {},
      "outputs": [],
      "source": [
        "from keras.models import load_model\n",
        "model_save_path = 'Gestures_classifier.h5'\n",
        "\n",
        "\n",
        "def classifier_h5(pre_processed_Keypoints_list):\n",
        "    model = load_model(model_save_path)\n",
        "    predict_result = model.predict(np.expand_dims(pre_processed_Keypoints_list, axis=0))\n",
        "    result_index = np.argmax(np.squeeze(predict_result))\n",
        "    return result_index\n",
        "\n",
        "\n"
      ]
    },
    {
      "cell_type": "code",
      "execution_count": 20,
      "metadata": {
        "id": "DltqNhrbjSQl"
      },
      "outputs": [],
      "source": [
        "# Parameters Initialisation \n",
        "history_length = 16 # lenght of list that takes max indexes of predections \n",
        "Keypoints_history = deque(maxlen=history_length)\n",
        "Argmax_list = deque(maxlen=history_length)\n",
        "mode = 0 #mode Normal \n",
        "use_boundary_recttangle = True"
      ]
    },
    {
      "cell_type": "code",
      "execution_count": 48,
      "metadata": {
        "id": "cwSHCLEqf7nJ"
      },
      "outputs": [
        {
          "name": "stdout",
          "output_type": "stream",
          "text": [
            "0.0\n",
            "0.0\n",
            "0.0\n",
            "0.0\n",
            "0.0\n",
            "0.0\n",
            "0.0\n",
            "0.0\n",
            "0.0\n",
            "0.0\n",
            "0.0\n",
            "WARNING:tensorflow:No training configuration found in the save file, so the model was *not* compiled. Compile it manually.\n"
          ]
        },
        {
          "name": "stderr",
          "output_type": "stream",
          "text": [
            "WARNING:tensorflow:No training configuration found in the save file, so the model was *not* compiled. Compile it manually.\n"
          ]
        },
        {
          "name": "stdout",
          "output_type": "stream",
          "text": [
            "1/1 [==============================] - 0s 52ms/step\n",
            "0.0\n",
            "WARNING:tensorflow:No training configuration found in the save file, so the model was *not* compiled. Compile it manually.\n"
          ]
        },
        {
          "name": "stderr",
          "output_type": "stream",
          "text": [
            "WARNING:tensorflow:No training configuration found in the save file, so the model was *not* compiled. Compile it manually.\n"
          ]
        },
        {
          "name": "stdout",
          "output_type": "stream",
          "text": [
            "1/1 [==============================] - 0s 52ms/step\n",
            "0.0\n",
            "WARNING:tensorflow:No training configuration found in the save file, so the model was *not* compiled. Compile it manually.\n"
          ]
        },
        {
          "name": "stderr",
          "output_type": "stream",
          "text": [
            "WARNING:tensorflow:No training configuration found in the save file, so the model was *not* compiled. Compile it manually.\n"
          ]
        },
        {
          "name": "stdout",
          "output_type": "stream",
          "text": [
            "1/1 [==============================] - 0s 52ms/step\n",
            "0.0\n",
            "WARNING:tensorflow:No training configuration found in the save file, so the model was *not* compiled. Compile it manually.\n"
          ]
        },
        {
          "name": "stderr",
          "output_type": "stream",
          "text": [
            "WARNING:tensorflow:No training configuration found in the save file, so the model was *not* compiled. Compile it manually.\n"
          ]
        },
        {
          "name": "stdout",
          "output_type": "stream",
          "text": [
            "WARNING:tensorflow:5 out of the last 24 calls to <function Model.make_predict_function.<locals>.predict_function at 0x000001CCE1FB7310> triggered tf.function retracing. Tracing is expensive and the excessive number of tracings could be due to (1) creating @tf.function repeatedly in a loop, (2) passing tensors with different shapes, (3) passing Python objects instead of tensors. For (1), please define your @tf.function outside of the loop. For (2), @tf.function has reduce_retracing=True option that can avoid unnecessary retracing. For (3), please refer to https://www.tensorflow.org/guide/function#controlling_retracing and https://www.tensorflow.org/api_docs/python/tf/function for  more details.\n"
          ]
        },
        {
          "name": "stderr",
          "output_type": "stream",
          "text": [
            "WARNING:tensorflow:5 out of the last 24 calls to <function Model.make_predict_function.<locals>.predict_function at 0x000001CCE1FB7310> triggered tf.function retracing. Tracing is expensive and the excessive number of tracings could be due to (1) creating @tf.function repeatedly in a loop, (2) passing tensors with different shapes, (3) passing Python objects instead of tensors. For (1), please define your @tf.function outside of the loop. For (2), @tf.function has reduce_retracing=True option that can avoid unnecessary retracing. For (3), please refer to https://www.tensorflow.org/guide/function#controlling_retracing and https://www.tensorflow.org/api_docs/python/tf/function for  more details.\n"
          ]
        },
        {
          "name": "stdout",
          "output_type": "stream",
          "text": [
            "1/1 [==============================] - 0s 52ms/step\n",
            "0.0\n",
            "WARNING:tensorflow:No training configuration found in the save file, so the model was *not* compiled. Compile it manually.\n"
          ]
        },
        {
          "name": "stderr",
          "output_type": "stream",
          "text": [
            "WARNING:tensorflow:No training configuration found in the save file, so the model was *not* compiled. Compile it manually.\n"
          ]
        },
        {
          "name": "stdout",
          "output_type": "stream",
          "text": [
            "WARNING:tensorflow:6 out of the last 25 calls to <function Model.make_predict_function.<locals>.predict_function at 0x000001CCDBBB11F0> triggered tf.function retracing. Tracing is expensive and the excessive number of tracings could be due to (1) creating @tf.function repeatedly in a loop, (2) passing tensors with different shapes, (3) passing Python objects instead of tensors. For (1), please define your @tf.function outside of the loop. For (2), @tf.function has reduce_retracing=True option that can avoid unnecessary retracing. For (3), please refer to https://www.tensorflow.org/guide/function#controlling_retracing and https://www.tensorflow.org/api_docs/python/tf/function for  more details.\n"
          ]
        },
        {
          "name": "stderr",
          "output_type": "stream",
          "text": [
            "WARNING:tensorflow:6 out of the last 25 calls to <function Model.make_predict_function.<locals>.predict_function at 0x000001CCDBBB11F0> triggered tf.function retracing. Tracing is expensive and the excessive number of tracings could be due to (1) creating @tf.function repeatedly in a loop, (2) passing tensors with different shapes, (3) passing Python objects instead of tensors. For (1), please define your @tf.function outside of the loop. For (2), @tf.function has reduce_retracing=True option that can avoid unnecessary retracing. For (3), please refer to https://www.tensorflow.org/guide/function#controlling_retracing and https://www.tensorflow.org/api_docs/python/tf/function for  more details.\n"
          ]
        },
        {
          "name": "stdout",
          "output_type": "stream",
          "text": [
            "1/1 [==============================] - 0s 69ms/step\n",
            "0.0\n",
            "WARNING:tensorflow:No training configuration found in the save file, so the model was *not* compiled. Compile it manually.\n"
          ]
        },
        {
          "name": "stderr",
          "output_type": "stream",
          "text": [
            "WARNING:tensorflow:No training configuration found in the save file, so the model was *not* compiled. Compile it manually.\n"
          ]
        },
        {
          "name": "stdout",
          "output_type": "stream",
          "text": [
            "1/1 [==============================] - 0s 52ms/step\n",
            "0.0\n",
            "WARNING:tensorflow:No training configuration found in the save file, so the model was *not* compiled. Compile it manually.\n"
          ]
        },
        {
          "name": "stderr",
          "output_type": "stream",
          "text": [
            "WARNING:tensorflow:No training configuration found in the save file, so the model was *not* compiled. Compile it manually.\n"
          ]
        },
        {
          "name": "stdout",
          "output_type": "stream",
          "text": [
            "1/1 [==============================] - 0s 54ms/step\n",
            "0.0\n",
            "WARNING:tensorflow:No training configuration found in the save file, so the model was *not* compiled. Compile it manually.\n"
          ]
        },
        {
          "name": "stderr",
          "output_type": "stream",
          "text": [
            "WARNING:tensorflow:No training configuration found in the save file, so the model was *not* compiled. Compile it manually.\n"
          ]
        },
        {
          "name": "stdout",
          "output_type": "stream",
          "text": [
            "1/1 [==============================] - 0s 48ms/step\n",
            "0.0\n",
            "WARNING:tensorflow:No training configuration found in the save file, so the model was *not* compiled. Compile it manually.\n"
          ]
        },
        {
          "name": "stderr",
          "output_type": "stream",
          "text": [
            "WARNING:tensorflow:No training configuration found in the save file, so the model was *not* compiled. Compile it manually.\n"
          ]
        },
        {
          "name": "stdout",
          "output_type": "stream",
          "text": [
            "1/1 [==============================] - 0s 50ms/step\n",
            "0.0\n",
            "WARNING:tensorflow:No training configuration found in the save file, so the model was *not* compiled. Compile it manually.\n"
          ]
        },
        {
          "name": "stderr",
          "output_type": "stream",
          "text": [
            "WARNING:tensorflow:No training configuration found in the save file, so the model was *not* compiled. Compile it manually.\n"
          ]
        },
        {
          "name": "stdout",
          "output_type": "stream",
          "text": [
            "1/1 [==============================] - 0s 54ms/step\n",
            "0.0\n",
            "WARNING:tensorflow:No training configuration found in the save file, so the model was *not* compiled. Compile it manually.\n"
          ]
        },
        {
          "name": "stderr",
          "output_type": "stream",
          "text": [
            "WARNING:tensorflow:No training configuration found in the save file, so the model was *not* compiled. Compile it manually.\n"
          ]
        },
        {
          "name": "stdout",
          "output_type": "stream",
          "text": [
            "1/1 [==============================] - 0s 55ms/step\n",
            "0.0\n",
            "WARNING:tensorflow:No training configuration found in the save file, so the model was *not* compiled. Compile it manually.\n"
          ]
        },
        {
          "name": "stderr",
          "output_type": "stream",
          "text": [
            "WARNING:tensorflow:No training configuration found in the save file, so the model was *not* compiled. Compile it manually.\n"
          ]
        },
        {
          "name": "stdout",
          "output_type": "stream",
          "text": [
            "1/1 [==============================] - 0s 50ms/step\n",
            "0.0\n",
            "WARNING:tensorflow:No training configuration found in the save file, so the model was *not* compiled. Compile it manually.\n"
          ]
        },
        {
          "name": "stderr",
          "output_type": "stream",
          "text": [
            "WARNING:tensorflow:No training configuration found in the save file, so the model was *not* compiled. Compile it manually.\n"
          ]
        },
        {
          "name": "stdout",
          "output_type": "stream",
          "text": [
            "1/1 [==============================] - 0s 50ms/step\n",
            "0.0\n",
            "WARNING:tensorflow:No training configuration found in the save file, so the model was *not* compiled. Compile it manually.\n"
          ]
        },
        {
          "name": "stderr",
          "output_type": "stream",
          "text": [
            "WARNING:tensorflow:No training configuration found in the save file, so the model was *not* compiled. Compile it manually.\n"
          ]
        },
        {
          "name": "stdout",
          "output_type": "stream",
          "text": [
            "1/1 [==============================] - 0s 55ms/step\n",
            "0.0\n",
            "WARNING:tensorflow:No training configuration found in the save file, so the model was *not* compiled. Compile it manually.\n"
          ]
        },
        {
          "name": "stderr",
          "output_type": "stream",
          "text": [
            "WARNING:tensorflow:No training configuration found in the save file, so the model was *not* compiled. Compile it manually.\n"
          ]
        },
        {
          "name": "stdout",
          "output_type": "stream",
          "text": [
            "1/1 [==============================] - 0s 50ms/step\n",
            "0.0\n",
            "WARNING:tensorflow:No training configuration found in the save file, so the model was *not* compiled. Compile it manually.\n"
          ]
        },
        {
          "name": "stderr",
          "output_type": "stream",
          "text": [
            "WARNING:tensorflow:No training configuration found in the save file, so the model was *not* compiled. Compile it manually.\n"
          ]
        },
        {
          "name": "stdout",
          "output_type": "stream",
          "text": [
            "1/1 [==============================] - 0s 55ms/step\n",
            "0.0\n",
            "WARNING:tensorflow:No training configuration found in the save file, so the model was *not* compiled. Compile it manually.\n"
          ]
        },
        {
          "name": "stderr",
          "output_type": "stream",
          "text": [
            "WARNING:tensorflow:No training configuration found in the save file, so the model was *not* compiled. Compile it manually.\n"
          ]
        },
        {
          "name": "stdout",
          "output_type": "stream",
          "text": [
            "1/1 [==============================] - 0s 54ms/step\n",
            "0.0\n",
            "WARNING:tensorflow:No training configuration found in the save file, so the model was *not* compiled. Compile it manually.\n"
          ]
        },
        {
          "name": "stderr",
          "output_type": "stream",
          "text": [
            "WARNING:tensorflow:No training configuration found in the save file, so the model was *not* compiled. Compile it manually.\n"
          ]
        },
        {
          "name": "stdout",
          "output_type": "stream",
          "text": [
            "1/1 [==============================] - 0s 55ms/step\n",
            "0.0\n",
            "WARNING:tensorflow:No training configuration found in the save file, so the model was *not* compiled. Compile it manually.\n"
          ]
        },
        {
          "name": "stderr",
          "output_type": "stream",
          "text": [
            "WARNING:tensorflow:No training configuration found in the save file, so the model was *not* compiled. Compile it manually.\n"
          ]
        },
        {
          "name": "stdout",
          "output_type": "stream",
          "text": [
            "1/1 [==============================] - 0s 51ms/step\n",
            "0.0\n",
            "WARNING:tensorflow:No training configuration found in the save file, so the model was *not* compiled. Compile it manually.\n"
          ]
        },
        {
          "name": "stderr",
          "output_type": "stream",
          "text": [
            "WARNING:tensorflow:No training configuration found in the save file, so the model was *not* compiled. Compile it manually.\n"
          ]
        },
        {
          "name": "stdout",
          "output_type": "stream",
          "text": [
            "1/1 [==============================] - 0s 57ms/step\n",
            "0.0\n",
            "WARNING:tensorflow:No training configuration found in the save file, so the model was *not* compiled. Compile it manually.\n"
          ]
        },
        {
          "name": "stderr",
          "output_type": "stream",
          "text": [
            "WARNING:tensorflow:No training configuration found in the save file, so the model was *not* compiled. Compile it manually.\n"
          ]
        },
        {
          "name": "stdout",
          "output_type": "stream",
          "text": [
            "1/1 [==============================] - 0s 52ms/step\n",
            "0.0\n",
            "WARNING:tensorflow:No training configuration found in the save file, so the model was *not* compiled. Compile it manually.\n"
          ]
        },
        {
          "name": "stderr",
          "output_type": "stream",
          "text": [
            "WARNING:tensorflow:No training configuration found in the save file, so the model was *not* compiled. Compile it manually.\n"
          ]
        },
        {
          "name": "stdout",
          "output_type": "stream",
          "text": [
            "1/1 [==============================] - 0s 48ms/step\n",
            "0.0\n",
            "WARNING:tensorflow:No training configuration found in the save file, so the model was *not* compiled. Compile it manually.\n"
          ]
        },
        {
          "name": "stderr",
          "output_type": "stream",
          "text": [
            "WARNING:tensorflow:No training configuration found in the save file, so the model was *not* compiled. Compile it manually.\n"
          ]
        },
        {
          "name": "stdout",
          "output_type": "stream",
          "text": [
            "1/1 [==============================] - 0s 48ms/step\n",
            "0.0\n",
            "WARNING:tensorflow:No training configuration found in the save file, so the model was *not* compiled. Compile it manually.\n"
          ]
        },
        {
          "name": "stderr",
          "output_type": "stream",
          "text": [
            "WARNING:tensorflow:No training configuration found in the save file, so the model was *not* compiled. Compile it manually.\n"
          ]
        },
        {
          "name": "stdout",
          "output_type": "stream",
          "text": [
            "1/1 [==============================] - 0s 48ms/step\n",
            "0.0\n",
            "WARNING:tensorflow:No training configuration found in the save file, so the model was *not* compiled. Compile it manually.\n"
          ]
        },
        {
          "name": "stderr",
          "output_type": "stream",
          "text": [
            "WARNING:tensorflow:No training configuration found in the save file, so the model was *not* compiled. Compile it manually.\n"
          ]
        },
        {
          "name": "stdout",
          "output_type": "stream",
          "text": [
            "1/1 [==============================] - 0s 54ms/step\n",
            "0.0\n",
            "WARNING:tensorflow:No training configuration found in the save file, so the model was *not* compiled. Compile it manually.\n"
          ]
        },
        {
          "name": "stderr",
          "output_type": "stream",
          "text": [
            "WARNING:tensorflow:No training configuration found in the save file, so the model was *not* compiled. Compile it manually.\n"
          ]
        },
        {
          "name": "stdout",
          "output_type": "stream",
          "text": [
            "1/1 [==============================] - 0s 56ms/step\n",
            "0.0\n",
            "WARNING:tensorflow:No training configuration found in the save file, so the model was *not* compiled. Compile it manually.\n"
          ]
        },
        {
          "name": "stderr",
          "output_type": "stream",
          "text": [
            "WARNING:tensorflow:No training configuration found in the save file, so the model was *not* compiled. Compile it manually.\n"
          ]
        },
        {
          "name": "stdout",
          "output_type": "stream",
          "text": [
            "1/1 [==============================] - 0s 50ms/step\n",
            "0.0\n",
            "WARNING:tensorflow:No training configuration found in the save file, so the model was *not* compiled. Compile it manually.\n"
          ]
        },
        {
          "name": "stderr",
          "output_type": "stream",
          "text": [
            "WARNING:tensorflow:No training configuration found in the save file, so the model was *not* compiled. Compile it manually.\n"
          ]
        },
        {
          "name": "stdout",
          "output_type": "stream",
          "text": [
            "1/1 [==============================] - 0s 51ms/step\n",
            "0.0\n",
            "WARNING:tensorflow:No training configuration found in the save file, so the model was *not* compiled. Compile it manually.\n"
          ]
        },
        {
          "name": "stderr",
          "output_type": "stream",
          "text": [
            "WARNING:tensorflow:No training configuration found in the save file, so the model was *not* compiled. Compile it manually.\n"
          ]
        },
        {
          "name": "stdout",
          "output_type": "stream",
          "text": [
            "1/1 [==============================] - 0s 52ms/step\n",
            "0.0\n",
            "WARNING:tensorflow:No training configuration found in the save file, so the model was *not* compiled. Compile it manually.\n"
          ]
        },
        {
          "name": "stderr",
          "output_type": "stream",
          "text": [
            "WARNING:tensorflow:No training configuration found in the save file, so the model was *not* compiled. Compile it manually.\n"
          ]
        },
        {
          "name": "stdout",
          "output_type": "stream",
          "text": [
            "1/1 [==============================] - 0s 49ms/step\n",
            "0.0\n",
            "WARNING:tensorflow:No training configuration found in the save file, so the model was *not* compiled. Compile it manually.\n"
          ]
        },
        {
          "name": "stderr",
          "output_type": "stream",
          "text": [
            "WARNING:tensorflow:No training configuration found in the save file, so the model was *not* compiled. Compile it manually.\n"
          ]
        },
        {
          "name": "stdout",
          "output_type": "stream",
          "text": [
            "1/1 [==============================] - 0s 53ms/step\n",
            "0.0\n",
            "WARNING:tensorflow:No training configuration found in the save file, so the model was *not* compiled. Compile it manually.\n"
          ]
        },
        {
          "name": "stderr",
          "output_type": "stream",
          "text": [
            "WARNING:tensorflow:No training configuration found in the save file, so the model was *not* compiled. Compile it manually.\n"
          ]
        },
        {
          "name": "stdout",
          "output_type": "stream",
          "text": [
            "1/1 [==============================] - 0s 52ms/step\n",
            "0.0\n",
            "WARNING:tensorflow:No training configuration found in the save file, so the model was *not* compiled. Compile it manually.\n"
          ]
        },
        {
          "name": "stderr",
          "output_type": "stream",
          "text": [
            "WARNING:tensorflow:No training configuration found in the save file, so the model was *not* compiled. Compile it manually.\n"
          ]
        },
        {
          "name": "stdout",
          "output_type": "stream",
          "text": [
            "1/1 [==============================] - 0s 49ms/step\n",
            "0.0\n",
            "WARNING:tensorflow:No training configuration found in the save file, so the model was *not* compiled. Compile it manually.\n"
          ]
        },
        {
          "name": "stderr",
          "output_type": "stream",
          "text": [
            "WARNING:tensorflow:No training configuration found in the save file, so the model was *not* compiled. Compile it manually.\n"
          ]
        },
        {
          "name": "stdout",
          "output_type": "stream",
          "text": [
            "1/1 [==============================] - 0s 48ms/step\n",
            "0.0\n",
            "WARNING:tensorflow:No training configuration found in the save file, so the model was *not* compiled. Compile it manually.\n"
          ]
        },
        {
          "name": "stderr",
          "output_type": "stream",
          "text": [
            "WARNING:tensorflow:No training configuration found in the save file, so the model was *not* compiled. Compile it manually.\n"
          ]
        },
        {
          "name": "stdout",
          "output_type": "stream",
          "text": [
            "1/1 [==============================] - 0s 47ms/step\n",
            "0.0\n",
            "WARNING:tensorflow:No training configuration found in the save file, so the model was *not* compiled. Compile it manually.\n"
          ]
        },
        {
          "name": "stderr",
          "output_type": "stream",
          "text": [
            "WARNING:tensorflow:No training configuration found in the save file, so the model was *not* compiled. Compile it manually.\n"
          ]
        },
        {
          "name": "stdout",
          "output_type": "stream",
          "text": [
            "1/1 [==============================] - 0s 53ms/step\n",
            "0.0\n",
            "WARNING:tensorflow:No training configuration found in the save file, so the model was *not* compiled. Compile it manually.\n"
          ]
        },
        {
          "name": "stderr",
          "output_type": "stream",
          "text": [
            "WARNING:tensorflow:No training configuration found in the save file, so the model was *not* compiled. Compile it manually.\n"
          ]
        },
        {
          "name": "stdout",
          "output_type": "stream",
          "text": [
            "1/1 [==============================] - 0s 53ms/step\n",
            "0.0\n",
            "WARNING:tensorflow:No training configuration found in the save file, so the model was *not* compiled. Compile it manually.\n"
          ]
        },
        {
          "name": "stderr",
          "output_type": "stream",
          "text": [
            "WARNING:tensorflow:No training configuration found in the save file, so the model was *not* compiled. Compile it manually.\n"
          ]
        },
        {
          "name": "stdout",
          "output_type": "stream",
          "text": [
            "1/1 [==============================] - 0s 52ms/step\n",
            "0.0\n",
            "WARNING:tensorflow:No training configuration found in the save file, so the model was *not* compiled. Compile it manually.\n"
          ]
        },
        {
          "name": "stderr",
          "output_type": "stream",
          "text": [
            "WARNING:tensorflow:No training configuration found in the save file, so the model was *not* compiled. Compile it manually.\n"
          ]
        },
        {
          "name": "stdout",
          "output_type": "stream",
          "text": [
            "1/1 [==============================] - 0s 55ms/step\n",
            "0.0\n",
            "WARNING:tensorflow:No training configuration found in the save file, so the model was *not* compiled. Compile it manually.\n"
          ]
        },
        {
          "name": "stderr",
          "output_type": "stream",
          "text": [
            "WARNING:tensorflow:No training configuration found in the save file, so the model was *not* compiled. Compile it manually.\n"
          ]
        },
        {
          "name": "stdout",
          "output_type": "stream",
          "text": [
            "1/1 [==============================] - 0s 52ms/step\n",
            "0.0\n",
            "WARNING:tensorflow:No training configuration found in the save file, so the model was *not* compiled. Compile it manually.\n"
          ]
        },
        {
          "name": "stderr",
          "output_type": "stream",
          "text": [
            "WARNING:tensorflow:No training configuration found in the save file, so the model was *not* compiled. Compile it manually.\n"
          ]
        },
        {
          "name": "stdout",
          "output_type": "stream",
          "text": [
            "1/1 [==============================] - 0s 51ms/step\n",
            "0.0\n",
            "WARNING:tensorflow:No training configuration found in the save file, so the model was *not* compiled. Compile it manually.\n"
          ]
        },
        {
          "name": "stderr",
          "output_type": "stream",
          "text": [
            "WARNING:tensorflow:No training configuration found in the save file, so the model was *not* compiled. Compile it manually.\n"
          ]
        },
        {
          "name": "stdout",
          "output_type": "stream",
          "text": [
            "1/1 [==============================] - 0s 51ms/step\n",
            "0.0\n",
            "WARNING:tensorflow:No training configuration found in the save file, so the model was *not* compiled. Compile it manually.\n"
          ]
        },
        {
          "name": "stderr",
          "output_type": "stream",
          "text": [
            "WARNING:tensorflow:No training configuration found in the save file, so the model was *not* compiled. Compile it manually.\n"
          ]
        },
        {
          "name": "stdout",
          "output_type": "stream",
          "text": [
            "1/1 [==============================] - 0s 49ms/step\n",
            "0.0\n",
            "WARNING:tensorflow:No training configuration found in the save file, so the model was *not* compiled. Compile it manually.\n"
          ]
        },
        {
          "name": "stderr",
          "output_type": "stream",
          "text": [
            "WARNING:tensorflow:No training configuration found in the save file, so the model was *not* compiled. Compile it manually.\n"
          ]
        },
        {
          "name": "stdout",
          "output_type": "stream",
          "text": [
            "1/1 [==============================] - 0s 54ms/step\n",
            "0.0\n",
            "WARNING:tensorflow:No training configuration found in the save file, so the model was *not* compiled. Compile it manually.\n"
          ]
        },
        {
          "name": "stderr",
          "output_type": "stream",
          "text": [
            "WARNING:tensorflow:No training configuration found in the save file, so the model was *not* compiled. Compile it manually.\n"
          ]
        },
        {
          "name": "stdout",
          "output_type": "stream",
          "text": [
            "1/1 [==============================] - 0s 51ms/step\n",
            "0.0\n",
            "WARNING:tensorflow:No training configuration found in the save file, so the model was *not* compiled. Compile it manually.\n"
          ]
        },
        {
          "name": "stderr",
          "output_type": "stream",
          "text": [
            "WARNING:tensorflow:No training configuration found in the save file, so the model was *not* compiled. Compile it manually.\n"
          ]
        },
        {
          "name": "stdout",
          "output_type": "stream",
          "text": [
            "1/1 [==============================] - 0s 49ms/step\n",
            "0.0\n",
            "WARNING:tensorflow:No training configuration found in the save file, so the model was *not* compiled. Compile it manually.\n"
          ]
        },
        {
          "name": "stderr",
          "output_type": "stream",
          "text": [
            "WARNING:tensorflow:No training configuration found in the save file, so the model was *not* compiled. Compile it manually.\n"
          ]
        },
        {
          "name": "stdout",
          "output_type": "stream",
          "text": [
            "1/1 [==============================] - 0s 51ms/step\n",
            "0.0\n",
            "WARNING:tensorflow:No training configuration found in the save file, so the model was *not* compiled. Compile it manually.\n"
          ]
        },
        {
          "name": "stderr",
          "output_type": "stream",
          "text": [
            "WARNING:tensorflow:No training configuration found in the save file, so the model was *not* compiled. Compile it manually.\n"
          ]
        },
        {
          "name": "stdout",
          "output_type": "stream",
          "text": [
            "1/1 [==============================] - 0s 56ms/step\n",
            "0.0\n",
            "WARNING:tensorflow:No training configuration found in the save file, so the model was *not* compiled. Compile it manually.\n"
          ]
        },
        {
          "name": "stderr",
          "output_type": "stream",
          "text": [
            "WARNING:tensorflow:No training configuration found in the save file, so the model was *not* compiled. Compile it manually.\n"
          ]
        },
        {
          "name": "stdout",
          "output_type": "stream",
          "text": [
            "1/1 [==============================] - 0s 50ms/step\n",
            "0.0\n",
            "WARNING:tensorflow:No training configuration found in the save file, so the model was *not* compiled. Compile it manually.\n"
          ]
        },
        {
          "name": "stderr",
          "output_type": "stream",
          "text": [
            "WARNING:tensorflow:No training configuration found in the save file, so the model was *not* compiled. Compile it manually.\n"
          ]
        },
        {
          "name": "stdout",
          "output_type": "stream",
          "text": [
            "1/1 [==============================] - 0s 58ms/step\n",
            "0.0\n",
            "WARNING:tensorflow:No training configuration found in the save file, so the model was *not* compiled. Compile it manually.\n"
          ]
        },
        {
          "name": "stderr",
          "output_type": "stream",
          "text": [
            "WARNING:tensorflow:No training configuration found in the save file, so the model was *not* compiled. Compile it manually.\n"
          ]
        },
        {
          "name": "stdout",
          "output_type": "stream",
          "text": [
            "1/1 [==============================] - 0s 51ms/step\n",
            "0.0\n",
            "WARNING:tensorflow:No training configuration found in the save file, so the model was *not* compiled. Compile it manually.\n"
          ]
        },
        {
          "name": "stderr",
          "output_type": "stream",
          "text": [
            "WARNING:tensorflow:No training configuration found in the save file, so the model was *not* compiled. Compile it manually.\n"
          ]
        },
        {
          "name": "stdout",
          "output_type": "stream",
          "text": [
            "1/1 [==============================] - 0s 51ms/step\n",
            "0.0\n",
            "WARNING:tensorflow:No training configuration found in the save file, so the model was *not* compiled. Compile it manually.\n"
          ]
        },
        {
          "name": "stderr",
          "output_type": "stream",
          "text": [
            "WARNING:tensorflow:No training configuration found in the save file, so the model was *not* compiled. Compile it manually.\n"
          ]
        },
        {
          "name": "stdout",
          "output_type": "stream",
          "text": [
            "1/1 [==============================] - 0s 48ms/step\n",
            "0.0\n",
            "WARNING:tensorflow:No training configuration found in the save file, so the model was *not* compiled. Compile it manually.\n"
          ]
        },
        {
          "name": "stderr",
          "output_type": "stream",
          "text": [
            "WARNING:tensorflow:No training configuration found in the save file, so the model was *not* compiled. Compile it manually.\n"
          ]
        },
        {
          "name": "stdout",
          "output_type": "stream",
          "text": [
            "1/1 [==============================] - 0s 51ms/step\n",
            "0.0\n",
            "WARNING:tensorflow:No training configuration found in the save file, so the model was *not* compiled. Compile it manually.\n"
          ]
        },
        {
          "name": "stderr",
          "output_type": "stream",
          "text": [
            "WARNING:tensorflow:No training configuration found in the save file, so the model was *not* compiled. Compile it manually.\n"
          ]
        },
        {
          "name": "stdout",
          "output_type": "stream",
          "text": [
            "1/1 [==============================] - 0s 54ms/step\n",
            "0.0\n",
            "WARNING:tensorflow:No training configuration found in the save file, so the model was *not* compiled. Compile it manually.\n"
          ]
        },
        {
          "name": "stderr",
          "output_type": "stream",
          "text": [
            "WARNING:tensorflow:No training configuration found in the save file, so the model was *not* compiled. Compile it manually.\n"
          ]
        },
        {
          "name": "stdout",
          "output_type": "stream",
          "text": [
            "1/1 [==============================] - 0s 55ms/step\n",
            "0.0\n",
            "WARNING:tensorflow:No training configuration found in the save file, so the model was *not* compiled. Compile it manually.\n"
          ]
        },
        {
          "name": "stderr",
          "output_type": "stream",
          "text": [
            "WARNING:tensorflow:No training configuration found in the save file, so the model was *not* compiled. Compile it manually.\n"
          ]
        },
        {
          "name": "stdout",
          "output_type": "stream",
          "text": [
            "1/1 [==============================] - 0s 51ms/step\n",
            "0.0\n",
            "WARNING:tensorflow:No training configuration found in the save file, so the model was *not* compiled. Compile it manually.\n"
          ]
        },
        {
          "name": "stderr",
          "output_type": "stream",
          "text": [
            "WARNING:tensorflow:No training configuration found in the save file, so the model was *not* compiled. Compile it manually.\n"
          ]
        },
        {
          "name": "stdout",
          "output_type": "stream",
          "text": [
            "1/1 [==============================] - 0s 62ms/step\n",
            "0.0\n",
            "WARNING:tensorflow:No training configuration found in the save file, so the model was *not* compiled. Compile it manually.\n"
          ]
        },
        {
          "name": "stderr",
          "output_type": "stream",
          "text": [
            "WARNING:tensorflow:No training configuration found in the save file, so the model was *not* compiled. Compile it manually.\n"
          ]
        },
        {
          "name": "stdout",
          "output_type": "stream",
          "text": [
            "1/1 [==============================] - 0s 52ms/step\n",
            "0.0\n",
            "WARNING:tensorflow:No training configuration found in the save file, so the model was *not* compiled. Compile it manually.\n"
          ]
        },
        {
          "name": "stderr",
          "output_type": "stream",
          "text": [
            "WARNING:tensorflow:No training configuration found in the save file, so the model was *not* compiled. Compile it manually.\n"
          ]
        },
        {
          "name": "stdout",
          "output_type": "stream",
          "text": [
            "1/1 [==============================] - 0s 51ms/step\n",
            "0.0\n",
            "WARNING:tensorflow:No training configuration found in the save file, so the model was *not* compiled. Compile it manually.\n"
          ]
        },
        {
          "name": "stderr",
          "output_type": "stream",
          "text": [
            "WARNING:tensorflow:No training configuration found in the save file, so the model was *not* compiled. Compile it manually.\n"
          ]
        },
        {
          "name": "stdout",
          "output_type": "stream",
          "text": [
            "1/1 [==============================] - 0s 54ms/step\n",
            "0.0\n",
            "WARNING:tensorflow:No training configuration found in the save file, so the model was *not* compiled. Compile it manually.\n"
          ]
        },
        {
          "name": "stderr",
          "output_type": "stream",
          "text": [
            "WARNING:tensorflow:No training configuration found in the save file, so the model was *not* compiled. Compile it manually.\n"
          ]
        },
        {
          "name": "stdout",
          "output_type": "stream",
          "text": [
            "1/1 [==============================] - 0s 48ms/step\n",
            "0.0\n",
            "WARNING:tensorflow:No training configuration found in the save file, so the model was *not* compiled. Compile it manually.\n"
          ]
        },
        {
          "name": "stderr",
          "output_type": "stream",
          "text": [
            "WARNING:tensorflow:No training configuration found in the save file, so the model was *not* compiled. Compile it manually.\n"
          ]
        },
        {
          "name": "stdout",
          "output_type": "stream",
          "text": [
            "1/1 [==============================] - 0s 50ms/step\n",
            "0.0\n",
            "WARNING:tensorflow:No training configuration found in the save file, so the model was *not* compiled. Compile it manually.\n"
          ]
        },
        {
          "name": "stderr",
          "output_type": "stream",
          "text": [
            "WARNING:tensorflow:No training configuration found in the save file, so the model was *not* compiled. Compile it manually.\n"
          ]
        },
        {
          "name": "stdout",
          "output_type": "stream",
          "text": [
            "1/1 [==============================] - 0s 55ms/step\n",
            "0.0\n",
            "WARNING:tensorflow:No training configuration found in the save file, so the model was *not* compiled. Compile it manually.\n"
          ]
        },
        {
          "name": "stderr",
          "output_type": "stream",
          "text": [
            "WARNING:tensorflow:No training configuration found in the save file, so the model was *not* compiled. Compile it manually.\n"
          ]
        },
        {
          "name": "stdout",
          "output_type": "stream",
          "text": [
            "1/1 [==============================] - 0s 51ms/step\n",
            "0.0\n",
            "WARNING:tensorflow:No training configuration found in the save file, so the model was *not* compiled. Compile it manually.\n"
          ]
        },
        {
          "name": "stderr",
          "output_type": "stream",
          "text": [
            "WARNING:tensorflow:No training configuration found in the save file, so the model was *not* compiled. Compile it manually.\n"
          ]
        },
        {
          "name": "stdout",
          "output_type": "stream",
          "text": [
            "1/1 [==============================] - 0s 49ms/step\n",
            "0.0\n",
            "WARNING:tensorflow:No training configuration found in the save file, so the model was *not* compiled. Compile it manually.\n"
          ]
        },
        {
          "name": "stderr",
          "output_type": "stream",
          "text": [
            "WARNING:tensorflow:No training configuration found in the save file, so the model was *not* compiled. Compile it manually.\n"
          ]
        },
        {
          "name": "stdout",
          "output_type": "stream",
          "text": [
            "1/1 [==============================] - 0s 55ms/step\n",
            "0.0\n",
            "WARNING:tensorflow:No training configuration found in the save file, so the model was *not* compiled. Compile it manually.\n"
          ]
        },
        {
          "name": "stderr",
          "output_type": "stream",
          "text": [
            "WARNING:tensorflow:No training configuration found in the save file, so the model was *not* compiled. Compile it manually.\n"
          ]
        },
        {
          "name": "stdout",
          "output_type": "stream",
          "text": [
            "1/1 [==============================] - 0s 51ms/step\n",
            "0.0\n",
            "WARNING:tensorflow:No training configuration found in the save file, so the model was *not* compiled. Compile it manually.\n"
          ]
        },
        {
          "name": "stderr",
          "output_type": "stream",
          "text": [
            "WARNING:tensorflow:No training configuration found in the save file, so the model was *not* compiled. Compile it manually.\n"
          ]
        },
        {
          "name": "stdout",
          "output_type": "stream",
          "text": [
            "1/1 [==============================] - 0s 55ms/step\n",
            "0.0\n",
            "WARNING:tensorflow:No training configuration found in the save file, so the model was *not* compiled. Compile it manually.\n"
          ]
        },
        {
          "name": "stderr",
          "output_type": "stream",
          "text": [
            "WARNING:tensorflow:No training configuration found in the save file, so the model was *not* compiled. Compile it manually.\n"
          ]
        },
        {
          "name": "stdout",
          "output_type": "stream",
          "text": [
            "1/1 [==============================] - 0s 54ms/step\n",
            "0.0\n",
            "WARNING:tensorflow:No training configuration found in the save file, so the model was *not* compiled. Compile it manually.\n"
          ]
        },
        {
          "name": "stderr",
          "output_type": "stream",
          "text": [
            "WARNING:tensorflow:No training configuration found in the save file, so the model was *not* compiled. Compile it manually.\n"
          ]
        },
        {
          "name": "stdout",
          "output_type": "stream",
          "text": [
            "1/1 [==============================] - 0s 50ms/step\n",
            "0.0\n",
            "WARNING:tensorflow:No training configuration found in the save file, so the model was *not* compiled. Compile it manually.\n"
          ]
        },
        {
          "name": "stderr",
          "output_type": "stream",
          "text": [
            "WARNING:tensorflow:No training configuration found in the save file, so the model was *not* compiled. Compile it manually.\n"
          ]
        },
        {
          "name": "stdout",
          "output_type": "stream",
          "text": [
            "1/1 [==============================] - 0s 49ms/step\n",
            "0.0\n",
            "WARNING:tensorflow:No training configuration found in the save file, so the model was *not* compiled. Compile it manually.\n"
          ]
        },
        {
          "name": "stderr",
          "output_type": "stream",
          "text": [
            "WARNING:tensorflow:No training configuration found in the save file, so the model was *not* compiled. Compile it manually.\n"
          ]
        },
        {
          "name": "stdout",
          "output_type": "stream",
          "text": [
            "1/1 [==============================] - 0s 61ms/step\n",
            "0.0\n",
            "WARNING:tensorflow:No training configuration found in the save file, so the model was *not* compiled. Compile it manually.\n"
          ]
        },
        {
          "name": "stderr",
          "output_type": "stream",
          "text": [
            "WARNING:tensorflow:No training configuration found in the save file, so the model was *not* compiled. Compile it manually.\n"
          ]
        },
        {
          "name": "stdout",
          "output_type": "stream",
          "text": [
            "1/1 [==============================] - 0s 50ms/step\n",
            "0.0\n",
            "WARNING:tensorflow:No training configuration found in the save file, so the model was *not* compiled. Compile it manually.\n"
          ]
        },
        {
          "name": "stderr",
          "output_type": "stream",
          "text": [
            "WARNING:tensorflow:No training configuration found in the save file, so the model was *not* compiled. Compile it manually.\n"
          ]
        },
        {
          "name": "stdout",
          "output_type": "stream",
          "text": [
            "1/1 [==============================] - 0s 49ms/step\n",
            "0.0\n",
            "WARNING:tensorflow:No training configuration found in the save file, so the model was *not* compiled. Compile it manually.\n"
          ]
        },
        {
          "name": "stderr",
          "output_type": "stream",
          "text": [
            "WARNING:tensorflow:No training configuration found in the save file, so the model was *not* compiled. Compile it manually.\n"
          ]
        },
        {
          "name": "stdout",
          "output_type": "stream",
          "text": [
            "1/1 [==============================] - 0s 55ms/step\n",
            "0.0\n",
            "WARNING:tensorflow:No training configuration found in the save file, so the model was *not* compiled. Compile it manually.\n"
          ]
        },
        {
          "name": "stderr",
          "output_type": "stream",
          "text": [
            "WARNING:tensorflow:No training configuration found in the save file, so the model was *not* compiled. Compile it manually.\n"
          ]
        },
        {
          "name": "stdout",
          "output_type": "stream",
          "text": [
            "1/1 [==============================] - 0s 49ms/step\n",
            "0.0\n",
            "WARNING:tensorflow:No training configuration found in the save file, so the model was *not* compiled. Compile it manually.\n"
          ]
        },
        {
          "name": "stderr",
          "output_type": "stream",
          "text": [
            "WARNING:tensorflow:No training configuration found in the save file, so the model was *not* compiled. Compile it manually.\n"
          ]
        },
        {
          "name": "stdout",
          "output_type": "stream",
          "text": [
            "1/1 [==============================] - 0s 47ms/step\n",
            "0.0\n",
            "WARNING:tensorflow:No training configuration found in the save file, so the model was *not* compiled. Compile it manually.\n"
          ]
        },
        {
          "name": "stderr",
          "output_type": "stream",
          "text": [
            "WARNING:tensorflow:No training configuration found in the save file, so the model was *not* compiled. Compile it manually.\n"
          ]
        },
        {
          "name": "stdout",
          "output_type": "stream",
          "text": [
            "1/1 [==============================] - 0s 51ms/step\n",
            "0.0\n",
            "WARNING:tensorflow:No training configuration found in the save file, so the model was *not* compiled. Compile it manually.\n"
          ]
        },
        {
          "name": "stderr",
          "output_type": "stream",
          "text": [
            "WARNING:tensorflow:No training configuration found in the save file, so the model was *not* compiled. Compile it manually.\n"
          ]
        },
        {
          "name": "stdout",
          "output_type": "stream",
          "text": [
            "1/1 [==============================] - 0s 51ms/step\n",
            "0.0\n",
            "WARNING:tensorflow:No training configuration found in the save file, so the model was *not* compiled. Compile it manually.\n"
          ]
        },
        {
          "name": "stderr",
          "output_type": "stream",
          "text": [
            "WARNING:tensorflow:No training configuration found in the save file, so the model was *not* compiled. Compile it manually.\n"
          ]
        },
        {
          "name": "stdout",
          "output_type": "stream",
          "text": [
            "1/1 [==============================] - 0s 49ms/step\n",
            "0.0\n",
            "WARNING:tensorflow:No training configuration found in the save file, so the model was *not* compiled. Compile it manually.\n"
          ]
        },
        {
          "name": "stderr",
          "output_type": "stream",
          "text": [
            "WARNING:tensorflow:No training configuration found in the save file, so the model was *not* compiled. Compile it manually.\n"
          ]
        },
        {
          "name": "stdout",
          "output_type": "stream",
          "text": [
            "1/1 [==============================] - 0s 53ms/step\n",
            "0.0\n",
            "WARNING:tensorflow:No training configuration found in the save file, so the model was *not* compiled. Compile it manually.\n"
          ]
        },
        {
          "name": "stderr",
          "output_type": "stream",
          "text": [
            "WARNING:tensorflow:No training configuration found in the save file, so the model was *not* compiled. Compile it manually.\n"
          ]
        },
        {
          "name": "stdout",
          "output_type": "stream",
          "text": [
            "1/1 [==============================] - 0s 48ms/step\n",
            "0.0\n",
            "WARNING:tensorflow:No training configuration found in the save file, so the model was *not* compiled. Compile it manually.\n"
          ]
        },
        {
          "name": "stderr",
          "output_type": "stream",
          "text": [
            "WARNING:tensorflow:No training configuration found in the save file, so the model was *not* compiled. Compile it manually.\n"
          ]
        },
        {
          "name": "stdout",
          "output_type": "stream",
          "text": [
            "1/1 [==============================] - 0s 50ms/step\n",
            "0.0\n",
            "WARNING:tensorflow:No training configuration found in the save file, so the model was *not* compiled. Compile it manually.\n"
          ]
        },
        {
          "name": "stderr",
          "output_type": "stream",
          "text": [
            "WARNING:tensorflow:No training configuration found in the save file, so the model was *not* compiled. Compile it manually.\n"
          ]
        },
        {
          "name": "stdout",
          "output_type": "stream",
          "text": [
            "1/1 [==============================] - 0s 54ms/step\n",
            "0.0\n",
            "WARNING:tensorflow:No training configuration found in the save file, so the model was *not* compiled. Compile it manually.\n"
          ]
        },
        {
          "name": "stderr",
          "output_type": "stream",
          "text": [
            "WARNING:tensorflow:No training configuration found in the save file, so the model was *not* compiled. Compile it manually.\n"
          ]
        },
        {
          "name": "stdout",
          "output_type": "stream",
          "text": [
            "1/1 [==============================] - 0s 50ms/step\n",
            "0.0\n",
            "WARNING:tensorflow:No training configuration found in the save file, so the model was *not* compiled. Compile it manually.\n"
          ]
        },
        {
          "name": "stderr",
          "output_type": "stream",
          "text": [
            "WARNING:tensorflow:No training configuration found in the save file, so the model was *not* compiled. Compile it manually.\n"
          ]
        },
        {
          "name": "stdout",
          "output_type": "stream",
          "text": [
            "1/1 [==============================] - 0s 53ms/step\n",
            "0.0\n",
            "WARNING:tensorflow:No training configuration found in the save file, so the model was *not* compiled. Compile it manually.\n"
          ]
        },
        {
          "name": "stderr",
          "output_type": "stream",
          "text": [
            "WARNING:tensorflow:No training configuration found in the save file, so the model was *not* compiled. Compile it manually.\n"
          ]
        },
        {
          "name": "stdout",
          "output_type": "stream",
          "text": [
            "1/1 [==============================] - 0s 56ms/step\n",
            "0.0\n",
            "WARNING:tensorflow:No training configuration found in the save file, so the model was *not* compiled. Compile it manually.\n"
          ]
        },
        {
          "name": "stderr",
          "output_type": "stream",
          "text": [
            "WARNING:tensorflow:No training configuration found in the save file, so the model was *not* compiled. Compile it manually.\n"
          ]
        },
        {
          "name": "stdout",
          "output_type": "stream",
          "text": [
            "1/1 [==============================] - 0s 52ms/step\n",
            "0.0\n",
            "WARNING:tensorflow:No training configuration found in the save file, so the model was *not* compiled. Compile it manually.\n"
          ]
        },
        {
          "name": "stderr",
          "output_type": "stream",
          "text": [
            "WARNING:tensorflow:No training configuration found in the save file, so the model was *not* compiled. Compile it manually.\n"
          ]
        },
        {
          "name": "stdout",
          "output_type": "stream",
          "text": [
            "1/1 [==============================] - 0s 57ms/step\n",
            "0.0\n",
            "WARNING:tensorflow:No training configuration found in the save file, so the model was *not* compiled. Compile it manually.\n"
          ]
        },
        {
          "name": "stderr",
          "output_type": "stream",
          "text": [
            "WARNING:tensorflow:No training configuration found in the save file, so the model was *not* compiled. Compile it manually.\n"
          ]
        },
        {
          "name": "stdout",
          "output_type": "stream",
          "text": [
            "1/1 [==============================] - 0s 55ms/step\n",
            "0.0\n",
            "WARNING:tensorflow:No training configuration found in the save file, so the model was *not* compiled. Compile it manually.\n"
          ]
        },
        {
          "name": "stderr",
          "output_type": "stream",
          "text": [
            "WARNING:tensorflow:No training configuration found in the save file, so the model was *not* compiled. Compile it manually.\n"
          ]
        },
        {
          "name": "stdout",
          "output_type": "stream",
          "text": [
            "1/1 [==============================] - 0s 51ms/step\n",
            "0.0\n",
            "WARNING:tensorflow:No training configuration found in the save file, so the model was *not* compiled. Compile it manually.\n"
          ]
        },
        {
          "name": "stderr",
          "output_type": "stream",
          "text": [
            "WARNING:tensorflow:No training configuration found in the save file, so the model was *not* compiled. Compile it manually.\n"
          ]
        },
        {
          "name": "stdout",
          "output_type": "stream",
          "text": [
            "1/1 [==============================] - 0s 49ms/step\n",
            "0.0\n",
            "WARNING:tensorflow:No training configuration found in the save file, so the model was *not* compiled. Compile it manually.\n"
          ]
        },
        {
          "name": "stderr",
          "output_type": "stream",
          "text": [
            "WARNING:tensorflow:No training configuration found in the save file, so the model was *not* compiled. Compile it manually.\n"
          ]
        },
        {
          "name": "stdout",
          "output_type": "stream",
          "text": [
            "1/1 [==============================] - 0s 49ms/step\n",
            "0.0\n",
            "WARNING:tensorflow:No training configuration found in the save file, so the model was *not* compiled. Compile it manually.\n"
          ]
        },
        {
          "name": "stderr",
          "output_type": "stream",
          "text": [
            "WARNING:tensorflow:No training configuration found in the save file, so the model was *not* compiled. Compile it manually.\n"
          ]
        },
        {
          "name": "stdout",
          "output_type": "stream",
          "text": [
            "1/1 [==============================] - 0s 53ms/step\n",
            "0.0\n",
            "WARNING:tensorflow:No training configuration found in the save file, so the model was *not* compiled. Compile it manually.\n"
          ]
        },
        {
          "name": "stderr",
          "output_type": "stream",
          "text": [
            "WARNING:tensorflow:No training configuration found in the save file, so the model was *not* compiled. Compile it manually.\n"
          ]
        },
        {
          "name": "stdout",
          "output_type": "stream",
          "text": [
            "1/1 [==============================] - 0s 51ms/step\n",
            "0.0\n",
            "WARNING:tensorflow:No training configuration found in the save file, so the model was *not* compiled. Compile it manually.\n"
          ]
        },
        {
          "name": "stderr",
          "output_type": "stream",
          "text": [
            "WARNING:tensorflow:No training configuration found in the save file, so the model was *not* compiled. Compile it manually.\n"
          ]
        },
        {
          "name": "stdout",
          "output_type": "stream",
          "text": [
            "1/1 [==============================] - 0s 55ms/step\n",
            "0.0\n",
            "WARNING:tensorflow:No training configuration found in the save file, so the model was *not* compiled. Compile it manually.\n"
          ]
        },
        {
          "name": "stderr",
          "output_type": "stream",
          "text": [
            "WARNING:tensorflow:No training configuration found in the save file, so the model was *not* compiled. Compile it manually.\n"
          ]
        },
        {
          "name": "stdout",
          "output_type": "stream",
          "text": [
            "1/1 [==============================] - 0s 51ms/step\n",
            "0.0\n",
            "WARNING:tensorflow:No training configuration found in the save file, so the model was *not* compiled. Compile it manually.\n"
          ]
        },
        {
          "name": "stderr",
          "output_type": "stream",
          "text": [
            "WARNING:tensorflow:No training configuration found in the save file, so the model was *not* compiled. Compile it manually.\n"
          ]
        },
        {
          "name": "stdout",
          "output_type": "stream",
          "text": [
            "1/1 [==============================] - 0s 50ms/step\n",
            "0.0\n",
            "WARNING:tensorflow:No training configuration found in the save file, so the model was *not* compiled. Compile it manually.\n"
          ]
        },
        {
          "name": "stderr",
          "output_type": "stream",
          "text": [
            "WARNING:tensorflow:No training configuration found in the save file, so the model was *not* compiled. Compile it manually.\n"
          ]
        },
        {
          "name": "stdout",
          "output_type": "stream",
          "text": [
            "1/1 [==============================] - 0s 56ms/step\n",
            "0.0\n",
            "WARNING:tensorflow:No training configuration found in the save file, so the model was *not* compiled. Compile it manually.\n"
          ]
        },
        {
          "name": "stderr",
          "output_type": "stream",
          "text": [
            "WARNING:tensorflow:No training configuration found in the save file, so the model was *not* compiled. Compile it manually.\n"
          ]
        },
        {
          "name": "stdout",
          "output_type": "stream",
          "text": [
            "1/1 [==============================] - 0s 51ms/step\n",
            "0.0\n",
            "WARNING:tensorflow:No training configuration found in the save file, so the model was *not* compiled. Compile it manually.\n"
          ]
        },
        {
          "name": "stderr",
          "output_type": "stream",
          "text": [
            "WARNING:tensorflow:No training configuration found in the save file, so the model was *not* compiled. Compile it manually.\n"
          ]
        },
        {
          "name": "stdout",
          "output_type": "stream",
          "text": [
            "1/1 [==============================] - 0s 48ms/step\n",
            "0.0\n",
            "WARNING:tensorflow:No training configuration found in the save file, so the model was *not* compiled. Compile it manually.\n"
          ]
        },
        {
          "name": "stderr",
          "output_type": "stream",
          "text": [
            "WARNING:tensorflow:No training configuration found in the save file, so the model was *not* compiled. Compile it manually.\n"
          ]
        },
        {
          "name": "stdout",
          "output_type": "stream",
          "text": [
            "1/1 [==============================] - 0s 50ms/step\n",
            "0.0\n",
            "WARNING:tensorflow:No training configuration found in the save file, so the model was *not* compiled. Compile it manually.\n"
          ]
        },
        {
          "name": "stderr",
          "output_type": "stream",
          "text": [
            "WARNING:tensorflow:No training configuration found in the save file, so the model was *not* compiled. Compile it manually.\n"
          ]
        },
        {
          "name": "stdout",
          "output_type": "stream",
          "text": [
            "1/1 [==============================] - 0s 49ms/step\n",
            "0.0\n",
            "WARNING:tensorflow:No training configuration found in the save file, so the model was *not* compiled. Compile it manually.\n"
          ]
        },
        {
          "name": "stderr",
          "output_type": "stream",
          "text": [
            "WARNING:tensorflow:No training configuration found in the save file, so the model was *not* compiled. Compile it manually.\n"
          ]
        },
        {
          "name": "stdout",
          "output_type": "stream",
          "text": [
            "1/1 [==============================] - 0s 50ms/step\n",
            "0.0\n",
            "WARNING:tensorflow:No training configuration found in the save file, so the model was *not* compiled. Compile it manually.\n"
          ]
        },
        {
          "name": "stderr",
          "output_type": "stream",
          "text": [
            "WARNING:tensorflow:No training configuration found in the save file, so the model was *not* compiled. Compile it manually.\n"
          ]
        },
        {
          "name": "stdout",
          "output_type": "stream",
          "text": [
            "1/1 [==============================] - 0s 51ms/step\n",
            "0.0\n",
            "WARNING:tensorflow:No training configuration found in the save file, so the model was *not* compiled. Compile it manually.\n"
          ]
        },
        {
          "name": "stderr",
          "output_type": "stream",
          "text": [
            "WARNING:tensorflow:No training configuration found in the save file, so the model was *not* compiled. Compile it manually.\n"
          ]
        },
        {
          "name": "stdout",
          "output_type": "stream",
          "text": [
            "1/1 [==============================] - 0s 53ms/step\n",
            "0.0\n",
            "WARNING:tensorflow:No training configuration found in the save file, so the model was *not* compiled. Compile it manually.\n"
          ]
        },
        {
          "name": "stderr",
          "output_type": "stream",
          "text": [
            "WARNING:tensorflow:No training configuration found in the save file, so the model was *not* compiled. Compile it manually.\n"
          ]
        },
        {
          "name": "stdout",
          "output_type": "stream",
          "text": [
            "1/1 [==============================] - 0s 48ms/step\n",
            "0.0\n",
            "WARNING:tensorflow:No training configuration found in the save file, so the model was *not* compiled. Compile it manually.\n"
          ]
        },
        {
          "name": "stderr",
          "output_type": "stream",
          "text": [
            "WARNING:tensorflow:No training configuration found in the save file, so the model was *not* compiled. Compile it manually.\n"
          ]
        },
        {
          "name": "stdout",
          "output_type": "stream",
          "text": [
            "1/1 [==============================] - 0s 53ms/step\n",
            "0.0\n",
            "WARNING:tensorflow:No training configuration found in the save file, so the model was *not* compiled. Compile it manually.\n"
          ]
        },
        {
          "name": "stderr",
          "output_type": "stream",
          "text": [
            "WARNING:tensorflow:No training configuration found in the save file, so the model was *not* compiled. Compile it manually.\n"
          ]
        },
        {
          "name": "stdout",
          "output_type": "stream",
          "text": [
            "1/1 [==============================] - 0s 53ms/step\n",
            "0.0\n",
            "WARNING:tensorflow:No training configuration found in the save file, so the model was *not* compiled. Compile it manually.\n"
          ]
        },
        {
          "name": "stderr",
          "output_type": "stream",
          "text": [
            "WARNING:tensorflow:No training configuration found in the save file, so the model was *not* compiled. Compile it manually.\n"
          ]
        },
        {
          "name": "stdout",
          "output_type": "stream",
          "text": [
            "1/1 [==============================] - 0s 51ms/step\n",
            "0.0\n",
            "WARNING:tensorflow:No training configuration found in the save file, so the model was *not* compiled. Compile it manually.\n"
          ]
        },
        {
          "name": "stderr",
          "output_type": "stream",
          "text": [
            "WARNING:tensorflow:No training configuration found in the save file, so the model was *not* compiled. Compile it manually.\n"
          ]
        },
        {
          "name": "stdout",
          "output_type": "stream",
          "text": [
            "1/1 [==============================] - 0s 53ms/step\n",
            "0.0\n",
            "WARNING:tensorflow:No training configuration found in the save file, so the model was *not* compiled. Compile it manually.\n"
          ]
        },
        {
          "name": "stderr",
          "output_type": "stream",
          "text": [
            "WARNING:tensorflow:No training configuration found in the save file, so the model was *not* compiled. Compile it manually.\n"
          ]
        },
        {
          "name": "stdout",
          "output_type": "stream",
          "text": [
            "1/1 [==============================] - 0s 52ms/step\n",
            "0.0\n",
            "WARNING:tensorflow:No training configuration found in the save file, so the model was *not* compiled. Compile it manually.\n"
          ]
        },
        {
          "name": "stderr",
          "output_type": "stream",
          "text": [
            "WARNING:tensorflow:No training configuration found in the save file, so the model was *not* compiled. Compile it manually.\n"
          ]
        },
        {
          "name": "stdout",
          "output_type": "stream",
          "text": [
            "1/1 [==============================] - 0s 50ms/step\n",
            "0.0\n",
            "WARNING:tensorflow:No training configuration found in the save file, so the model was *not* compiled. Compile it manually.\n"
          ]
        },
        {
          "name": "stderr",
          "output_type": "stream",
          "text": [
            "WARNING:tensorflow:No training configuration found in the save file, so the model was *not* compiled. Compile it manually.\n"
          ]
        },
        {
          "name": "stdout",
          "output_type": "stream",
          "text": [
            "1/1 [==============================] - 0s 50ms/step\n",
            "0.0\n",
            "WARNING:tensorflow:No training configuration found in the save file, so the model was *not* compiled. Compile it manually.\n"
          ]
        },
        {
          "name": "stderr",
          "output_type": "stream",
          "text": [
            "WARNING:tensorflow:No training configuration found in the save file, so the model was *not* compiled. Compile it manually.\n"
          ]
        },
        {
          "name": "stdout",
          "output_type": "stream",
          "text": [
            "1/1 [==============================] - 0s 53ms/step\n",
            "0.0\n",
            "WARNING:tensorflow:No training configuration found in the save file, so the model was *not* compiled. Compile it manually.\n"
          ]
        },
        {
          "name": "stderr",
          "output_type": "stream",
          "text": [
            "WARNING:tensorflow:No training configuration found in the save file, so the model was *not* compiled. Compile it manually.\n"
          ]
        },
        {
          "name": "stdout",
          "output_type": "stream",
          "text": [
            "1/1 [==============================] - 0s 50ms/step\n",
            "0.0\n",
            "WARNING:tensorflow:No training configuration found in the save file, so the model was *not* compiled. Compile it manually.\n"
          ]
        },
        {
          "name": "stderr",
          "output_type": "stream",
          "text": [
            "WARNING:tensorflow:No training configuration found in the save file, so the model was *not* compiled. Compile it manually.\n"
          ]
        },
        {
          "name": "stdout",
          "output_type": "stream",
          "text": [
            "1/1 [==============================] - 0s 52ms/step\n",
            "0.0\n",
            "WARNING:tensorflow:No training configuration found in the save file, so the model was *not* compiled. Compile it manually.\n"
          ]
        },
        {
          "name": "stderr",
          "output_type": "stream",
          "text": [
            "WARNING:tensorflow:No training configuration found in the save file, so the model was *not* compiled. Compile it manually.\n"
          ]
        },
        {
          "name": "stdout",
          "output_type": "stream",
          "text": [
            "1/1 [==============================] - 0s 51ms/step\n",
            "0.0\n",
            "WARNING:tensorflow:No training configuration found in the save file, so the model was *not* compiled. Compile it manually.\n"
          ]
        },
        {
          "name": "stderr",
          "output_type": "stream",
          "text": [
            "WARNING:tensorflow:No training configuration found in the save file, so the model was *not* compiled. Compile it manually.\n"
          ]
        },
        {
          "name": "stdout",
          "output_type": "stream",
          "text": [
            "1/1 [==============================] - 0s 49ms/step\n",
            "0.0\n",
            "WARNING:tensorflow:No training configuration found in the save file, so the model was *not* compiled. Compile it manually.\n"
          ]
        },
        {
          "name": "stderr",
          "output_type": "stream",
          "text": [
            "WARNING:tensorflow:No training configuration found in the save file, so the model was *not* compiled. Compile it manually.\n"
          ]
        },
        {
          "name": "stdout",
          "output_type": "stream",
          "text": [
            "1/1 [==============================] - 0s 53ms/step\n",
            "0.0\n",
            "WARNING:tensorflow:No training configuration found in the save file, so the model was *not* compiled. Compile it manually.\n"
          ]
        },
        {
          "name": "stderr",
          "output_type": "stream",
          "text": [
            "WARNING:tensorflow:No training configuration found in the save file, so the model was *not* compiled. Compile it manually.\n"
          ]
        },
        {
          "name": "stdout",
          "output_type": "stream",
          "text": [
            "1/1 [==============================] - 0s 49ms/step\n",
            "0.0\n",
            "WARNING:tensorflow:No training configuration found in the save file, so the model was *not* compiled. Compile it manually.\n"
          ]
        },
        {
          "name": "stderr",
          "output_type": "stream",
          "text": [
            "WARNING:tensorflow:No training configuration found in the save file, so the model was *not* compiled. Compile it manually.\n"
          ]
        },
        {
          "name": "stdout",
          "output_type": "stream",
          "text": [
            "1/1 [==============================] - 0s 52ms/step\n",
            "0.0\n",
            "WARNING:tensorflow:No training configuration found in the save file, so the model was *not* compiled. Compile it manually.\n"
          ]
        },
        {
          "name": "stderr",
          "output_type": "stream",
          "text": [
            "WARNING:tensorflow:No training configuration found in the save file, so the model was *not* compiled. Compile it manually.\n"
          ]
        },
        {
          "name": "stdout",
          "output_type": "stream",
          "text": [
            "1/1 [==============================] - 0s 50ms/step\n",
            "0.0\n",
            "WARNING:tensorflow:No training configuration found in the save file, so the model was *not* compiled. Compile it manually.\n"
          ]
        },
        {
          "name": "stderr",
          "output_type": "stream",
          "text": [
            "WARNING:tensorflow:No training configuration found in the save file, so the model was *not* compiled. Compile it manually.\n"
          ]
        },
        {
          "name": "stdout",
          "output_type": "stream",
          "text": [
            "1/1 [==============================] - 0s 51ms/step\n",
            "0.0\n",
            "WARNING:tensorflow:No training configuration found in the save file, so the model was *not* compiled. Compile it manually.\n"
          ]
        },
        {
          "name": "stderr",
          "output_type": "stream",
          "text": [
            "WARNING:tensorflow:No training configuration found in the save file, so the model was *not* compiled. Compile it manually.\n"
          ]
        },
        {
          "name": "stdout",
          "output_type": "stream",
          "text": [
            "1/1 [==============================] - 0s 51ms/step\n",
            "0.0\n",
            "WARNING:tensorflow:No training configuration found in the save file, so the model was *not* compiled. Compile it manually.\n"
          ]
        },
        {
          "name": "stderr",
          "output_type": "stream",
          "text": [
            "WARNING:tensorflow:No training configuration found in the save file, so the model was *not* compiled. Compile it manually.\n"
          ]
        },
        {
          "name": "stdout",
          "output_type": "stream",
          "text": [
            "1/1 [==============================] - 0s 51ms/step\n",
            "0.0\n",
            "WARNING:tensorflow:No training configuration found in the save file, so the model was *not* compiled. Compile it manually.\n"
          ]
        },
        {
          "name": "stderr",
          "output_type": "stream",
          "text": [
            "WARNING:tensorflow:No training configuration found in the save file, so the model was *not* compiled. Compile it manually.\n"
          ]
        },
        {
          "name": "stdout",
          "output_type": "stream",
          "text": [
            "1/1 [==============================] - 0s 48ms/step\n",
            "0.0\n",
            "WARNING:tensorflow:No training configuration found in the save file, so the model was *not* compiled. Compile it manually.\n"
          ]
        },
        {
          "name": "stderr",
          "output_type": "stream",
          "text": [
            "WARNING:tensorflow:No training configuration found in the save file, so the model was *not* compiled. Compile it manually.\n"
          ]
        },
        {
          "name": "stdout",
          "output_type": "stream",
          "text": [
            "1/1 [==============================] - 0s 47ms/step\n",
            "0.0\n",
            "WARNING:tensorflow:No training configuration found in the save file, so the model was *not* compiled. Compile it manually.\n"
          ]
        },
        {
          "name": "stderr",
          "output_type": "stream",
          "text": [
            "WARNING:tensorflow:No training configuration found in the save file, so the model was *not* compiled. Compile it manually.\n"
          ]
        },
        {
          "name": "stdout",
          "output_type": "stream",
          "text": [
            "1/1 [==============================] - 0s 49ms/step\n",
            "0.0\n",
            "WARNING:tensorflow:No training configuration found in the save file, so the model was *not* compiled. Compile it manually.\n"
          ]
        },
        {
          "name": "stderr",
          "output_type": "stream",
          "text": [
            "WARNING:tensorflow:No training configuration found in the save file, so the model was *not* compiled. Compile it manually.\n"
          ]
        },
        {
          "name": "stdout",
          "output_type": "stream",
          "text": [
            "1/1 [==============================] - 0s 53ms/step\n",
            "0.0\n",
            "WARNING:tensorflow:No training configuration found in the save file, so the model was *not* compiled. Compile it manually.\n"
          ]
        },
        {
          "name": "stderr",
          "output_type": "stream",
          "text": [
            "WARNING:tensorflow:No training configuration found in the save file, so the model was *not* compiled. Compile it manually.\n"
          ]
        },
        {
          "name": "stdout",
          "output_type": "stream",
          "text": [
            "1/1 [==============================] - 0s 50ms/step\n",
            "0.0\n",
            "WARNING:tensorflow:No training configuration found in the save file, so the model was *not* compiled. Compile it manually.\n"
          ]
        },
        {
          "name": "stderr",
          "output_type": "stream",
          "text": [
            "WARNING:tensorflow:No training configuration found in the save file, so the model was *not* compiled. Compile it manually.\n"
          ]
        },
        {
          "name": "stdout",
          "output_type": "stream",
          "text": [
            "1/1 [==============================] - 0s 52ms/step\n",
            "0.0\n",
            "WARNING:tensorflow:No training configuration found in the save file, so the model was *not* compiled. Compile it manually.\n"
          ]
        },
        {
          "name": "stderr",
          "output_type": "stream",
          "text": [
            "WARNING:tensorflow:No training configuration found in the save file, so the model was *not* compiled. Compile it manually.\n"
          ]
        },
        {
          "name": "stdout",
          "output_type": "stream",
          "text": [
            "1/1 [==============================] - 0s 53ms/step\n",
            "0.0\n",
            "WARNING:tensorflow:No training configuration found in the save file, so the model was *not* compiled. Compile it manually.\n"
          ]
        },
        {
          "name": "stderr",
          "output_type": "stream",
          "text": [
            "WARNING:tensorflow:No training configuration found in the save file, so the model was *not* compiled. Compile it manually.\n"
          ]
        },
        {
          "name": "stdout",
          "output_type": "stream",
          "text": [
            "1/1 [==============================] - 0s 52ms/step\n",
            "0.0\n",
            "WARNING:tensorflow:No training configuration found in the save file, so the model was *not* compiled. Compile it manually.\n"
          ]
        },
        {
          "name": "stderr",
          "output_type": "stream",
          "text": [
            "WARNING:tensorflow:No training configuration found in the save file, so the model was *not* compiled. Compile it manually.\n"
          ]
        },
        {
          "name": "stdout",
          "output_type": "stream",
          "text": [
            "1/1 [==============================] - 0s 51ms/step\n",
            "0.0\n",
            "WARNING:tensorflow:No training configuration found in the save file, so the model was *not* compiled. Compile it manually.\n"
          ]
        },
        {
          "name": "stderr",
          "output_type": "stream",
          "text": [
            "WARNING:tensorflow:No training configuration found in the save file, so the model was *not* compiled. Compile it manually.\n"
          ]
        },
        {
          "name": "stdout",
          "output_type": "stream",
          "text": [
            "1/1 [==============================] - 0s 50ms/step\n",
            "0.0\n",
            "WARNING:tensorflow:No training configuration found in the save file, so the model was *not* compiled. Compile it manually.\n"
          ]
        },
        {
          "name": "stderr",
          "output_type": "stream",
          "text": [
            "WARNING:tensorflow:No training configuration found in the save file, so the model was *not* compiled. Compile it manually.\n"
          ]
        },
        {
          "name": "stdout",
          "output_type": "stream",
          "text": [
            "1/1 [==============================] - 0s 49ms/step\n",
            "0.0\n",
            "WARNING:tensorflow:No training configuration found in the save file, so the model was *not* compiled. Compile it manually.\n"
          ]
        },
        {
          "name": "stderr",
          "output_type": "stream",
          "text": [
            "WARNING:tensorflow:No training configuration found in the save file, so the model was *not* compiled. Compile it manually.\n"
          ]
        },
        {
          "name": "stdout",
          "output_type": "stream",
          "text": [
            "1/1 [==============================] - 0s 51ms/step\n",
            "0.0\n",
            "WARNING:tensorflow:No training configuration found in the save file, so the model was *not* compiled. Compile it manually.\n"
          ]
        },
        {
          "name": "stderr",
          "output_type": "stream",
          "text": [
            "WARNING:tensorflow:No training configuration found in the save file, so the model was *not* compiled. Compile it manually.\n"
          ]
        },
        {
          "name": "stdout",
          "output_type": "stream",
          "text": [
            "1/1 [==============================] - 0s 51ms/step\n",
            "0.0\n",
            "WARNING:tensorflow:No training configuration found in the save file, so the model was *not* compiled. Compile it manually.\n"
          ]
        },
        {
          "name": "stderr",
          "output_type": "stream",
          "text": [
            "WARNING:tensorflow:No training configuration found in the save file, so the model was *not* compiled. Compile it manually.\n"
          ]
        },
        {
          "name": "stdout",
          "output_type": "stream",
          "text": [
            "1/1 [==============================] - 0s 50ms/step\n",
            "0.0\n",
            "WARNING:tensorflow:No training configuration found in the save file, so the model was *not* compiled. Compile it manually.\n"
          ]
        },
        {
          "name": "stderr",
          "output_type": "stream",
          "text": [
            "WARNING:tensorflow:No training configuration found in the save file, so the model was *not* compiled. Compile it manually.\n"
          ]
        },
        {
          "name": "stdout",
          "output_type": "stream",
          "text": [
            "1/1 [==============================] - 0s 52ms/step\n",
            "0.0\n",
            "WARNING:tensorflow:No training configuration found in the save file, so the model was *not* compiled. Compile it manually.\n"
          ]
        },
        {
          "name": "stderr",
          "output_type": "stream",
          "text": [
            "WARNING:tensorflow:No training configuration found in the save file, so the model was *not* compiled. Compile it manually.\n"
          ]
        },
        {
          "name": "stdout",
          "output_type": "stream",
          "text": [
            "1/1 [==============================] - 0s 54ms/step\n",
            "0.0\n",
            "WARNING:tensorflow:No training configuration found in the save file, so the model was *not* compiled. Compile it manually.\n"
          ]
        },
        {
          "name": "stderr",
          "output_type": "stream",
          "text": [
            "WARNING:tensorflow:No training configuration found in the save file, so the model was *not* compiled. Compile it manually.\n"
          ]
        },
        {
          "name": "stdout",
          "output_type": "stream",
          "text": [
            "1/1 [==============================] - 0s 54ms/step\n",
            "0.0\n",
            "WARNING:tensorflow:No training configuration found in the save file, so the model was *not* compiled. Compile it manually.\n"
          ]
        },
        {
          "name": "stderr",
          "output_type": "stream",
          "text": [
            "WARNING:tensorflow:No training configuration found in the save file, so the model was *not* compiled. Compile it manually.\n"
          ]
        },
        {
          "name": "stdout",
          "output_type": "stream",
          "text": [
            "1/1 [==============================] - 0s 53ms/step\n",
            "0.0\n",
            "WARNING:tensorflow:No training configuration found in the save file, so the model was *not* compiled. Compile it manually.\n"
          ]
        },
        {
          "name": "stderr",
          "output_type": "stream",
          "text": [
            "WARNING:tensorflow:No training configuration found in the save file, so the model was *not* compiled. Compile it manually.\n"
          ]
        },
        {
          "name": "stdout",
          "output_type": "stream",
          "text": [
            "1/1 [==============================] - 0s 47ms/step\n",
            "0.0\n",
            "WARNING:tensorflow:No training configuration found in the save file, so the model was *not* compiled. Compile it manually.\n"
          ]
        },
        {
          "name": "stderr",
          "output_type": "stream",
          "text": [
            "WARNING:tensorflow:No training configuration found in the save file, so the model was *not* compiled. Compile it manually.\n"
          ]
        },
        {
          "name": "stdout",
          "output_type": "stream",
          "text": [
            "1/1 [==============================] - 0s 48ms/step\n",
            "0.0\n",
            "WARNING:tensorflow:No training configuration found in the save file, so the model was *not* compiled. Compile it manually.\n"
          ]
        },
        {
          "name": "stderr",
          "output_type": "stream",
          "text": [
            "WARNING:tensorflow:No training configuration found in the save file, so the model was *not* compiled. Compile it manually.\n"
          ]
        },
        {
          "name": "stdout",
          "output_type": "stream",
          "text": [
            "1/1 [==============================] - 0s 50ms/step\n",
            "0.0\n",
            "WARNING:tensorflow:No training configuration found in the save file, so the model was *not* compiled. Compile it manually.\n"
          ]
        },
        {
          "name": "stderr",
          "output_type": "stream",
          "text": [
            "WARNING:tensorflow:No training configuration found in the save file, so the model was *not* compiled. Compile it manually.\n"
          ]
        },
        {
          "name": "stdout",
          "output_type": "stream",
          "text": [
            "1/1 [==============================] - 0s 54ms/step\n",
            "0.0\n",
            "WARNING:tensorflow:No training configuration found in the save file, so the model was *not* compiled. Compile it manually.\n"
          ]
        },
        {
          "name": "stderr",
          "output_type": "stream",
          "text": [
            "WARNING:tensorflow:No training configuration found in the save file, so the model was *not* compiled. Compile it manually.\n"
          ]
        },
        {
          "name": "stdout",
          "output_type": "stream",
          "text": [
            "1/1 [==============================] - 0s 54ms/step\n",
            "0.0\n",
            "WARNING:tensorflow:No training configuration found in the save file, so the model was *not* compiled. Compile it manually.\n"
          ]
        },
        {
          "name": "stderr",
          "output_type": "stream",
          "text": [
            "WARNING:tensorflow:No training configuration found in the save file, so the model was *not* compiled. Compile it manually.\n"
          ]
        },
        {
          "name": "stdout",
          "output_type": "stream",
          "text": [
            "1/1 [==============================] - 0s 54ms/step\n",
            "0.0\n",
            "WARNING:tensorflow:No training configuration found in the save file, so the model was *not* compiled. Compile it manually.\n"
          ]
        },
        {
          "name": "stderr",
          "output_type": "stream",
          "text": [
            "WARNING:tensorflow:No training configuration found in the save file, so the model was *not* compiled. Compile it manually.\n"
          ]
        },
        {
          "name": "stdout",
          "output_type": "stream",
          "text": [
            "1/1 [==============================] - 0s 52ms/step\n",
            "0.0\n",
            "WARNING:tensorflow:No training configuration found in the save file, so the model was *not* compiled. Compile it manually.\n"
          ]
        },
        {
          "name": "stderr",
          "output_type": "stream",
          "text": [
            "WARNING:tensorflow:No training configuration found in the save file, so the model was *not* compiled. Compile it manually.\n"
          ]
        },
        {
          "name": "stdout",
          "output_type": "stream",
          "text": [
            "1/1 [==============================] - 0s 52ms/step\n",
            "0.0\n",
            "WARNING:tensorflow:No training configuration found in the save file, so the model was *not* compiled. Compile it manually.\n"
          ]
        },
        {
          "name": "stderr",
          "output_type": "stream",
          "text": [
            "WARNING:tensorflow:No training configuration found in the save file, so the model was *not* compiled. Compile it manually.\n"
          ]
        },
        {
          "name": "stdout",
          "output_type": "stream",
          "text": [
            "1/1 [==============================] - 0s 51ms/step\n",
            "0.0\n",
            "WARNING:tensorflow:No training configuration found in the save file, so the model was *not* compiled. Compile it manually.\n"
          ]
        },
        {
          "name": "stderr",
          "output_type": "stream",
          "text": [
            "WARNING:tensorflow:No training configuration found in the save file, so the model was *not* compiled. Compile it manually.\n"
          ]
        },
        {
          "name": "stdout",
          "output_type": "stream",
          "text": [
            "1/1 [==============================] - 0s 52ms/step\n",
            "0.0\n",
            "WARNING:tensorflow:No training configuration found in the save file, so the model was *not* compiled. Compile it manually.\n"
          ]
        },
        {
          "name": "stderr",
          "output_type": "stream",
          "text": [
            "WARNING:tensorflow:No training configuration found in the save file, so the model was *not* compiled. Compile it manually.\n"
          ]
        },
        {
          "name": "stdout",
          "output_type": "stream",
          "text": [
            "1/1 [==============================] - 0s 58ms/step\n",
            "0.0\n",
            "WARNING:tensorflow:No training configuration found in the save file, so the model was *not* compiled. Compile it manually.\n"
          ]
        },
        {
          "name": "stderr",
          "output_type": "stream",
          "text": [
            "WARNING:tensorflow:No training configuration found in the save file, so the model was *not* compiled. Compile it manually.\n"
          ]
        },
        {
          "name": "stdout",
          "output_type": "stream",
          "text": [
            "1/1 [==============================] - 0s 52ms/step\n",
            "0.0\n",
            "WARNING:tensorflow:No training configuration found in the save file, so the model was *not* compiled. Compile it manually.\n"
          ]
        },
        {
          "name": "stderr",
          "output_type": "stream",
          "text": [
            "WARNING:tensorflow:No training configuration found in the save file, so the model was *not* compiled. Compile it manually.\n"
          ]
        },
        {
          "name": "stdout",
          "output_type": "stream",
          "text": [
            "1/1 [==============================] - 0s 50ms/step\n",
            "0.0\n",
            "WARNING:tensorflow:No training configuration found in the save file, so the model was *not* compiled. Compile it manually.\n"
          ]
        },
        {
          "name": "stderr",
          "output_type": "stream",
          "text": [
            "WARNING:tensorflow:No training configuration found in the save file, so the model was *not* compiled. Compile it manually.\n"
          ]
        },
        {
          "name": "stdout",
          "output_type": "stream",
          "text": [
            "1/1 [==============================] - 0s 50ms/step\n",
            "0.0\n",
            "WARNING:tensorflow:No training configuration found in the save file, so the model was *not* compiled. Compile it manually.\n"
          ]
        },
        {
          "name": "stderr",
          "output_type": "stream",
          "text": [
            "WARNING:tensorflow:No training configuration found in the save file, so the model was *not* compiled. Compile it manually.\n"
          ]
        },
        {
          "name": "stdout",
          "output_type": "stream",
          "text": [
            "1/1 [==============================] - 0s 52ms/step\n",
            "0.0\n",
            "WARNING:tensorflow:No training configuration found in the save file, so the model was *not* compiled. Compile it manually.\n"
          ]
        },
        {
          "name": "stderr",
          "output_type": "stream",
          "text": [
            "WARNING:tensorflow:No training configuration found in the save file, so the model was *not* compiled. Compile it manually.\n"
          ]
        },
        {
          "name": "stdout",
          "output_type": "stream",
          "text": [
            "1/1 [==============================] - 0s 51ms/step\n",
            "0.0\n",
            "WARNING:tensorflow:No training configuration found in the save file, so the model was *not* compiled. Compile it manually.\n"
          ]
        },
        {
          "name": "stderr",
          "output_type": "stream",
          "text": [
            "WARNING:tensorflow:No training configuration found in the save file, so the model was *not* compiled. Compile it manually.\n"
          ]
        },
        {
          "name": "stdout",
          "output_type": "stream",
          "text": [
            "1/1 [==============================] - 0s 55ms/step\n",
            "0.0\n",
            "WARNING:tensorflow:No training configuration found in the save file, so the model was *not* compiled. Compile it manually.\n"
          ]
        },
        {
          "name": "stderr",
          "output_type": "stream",
          "text": [
            "WARNING:tensorflow:No training configuration found in the save file, so the model was *not* compiled. Compile it manually.\n"
          ]
        },
        {
          "name": "stdout",
          "output_type": "stream",
          "text": [
            "1/1 [==============================] - 0s 54ms/step\n",
            "0.0\n",
            "WARNING:tensorflow:No training configuration found in the save file, so the model was *not* compiled. Compile it manually.\n"
          ]
        },
        {
          "name": "stderr",
          "output_type": "stream",
          "text": [
            "WARNING:tensorflow:No training configuration found in the save file, so the model was *not* compiled. Compile it manually.\n"
          ]
        },
        {
          "name": "stdout",
          "output_type": "stream",
          "text": [
            "1/1 [==============================] - 0s 52ms/step\n",
            "0.0\n",
            "WARNING:tensorflow:No training configuration found in the save file, so the model was *not* compiled. Compile it manually.\n"
          ]
        },
        {
          "name": "stderr",
          "output_type": "stream",
          "text": [
            "WARNING:tensorflow:No training configuration found in the save file, so the model was *not* compiled. Compile it manually.\n"
          ]
        },
        {
          "name": "stdout",
          "output_type": "stream",
          "text": [
            "1/1 [==============================] - 0s 50ms/step\n",
            "0.0\n",
            "WARNING:tensorflow:No training configuration found in the save file, so the model was *not* compiled. Compile it manually.\n"
          ]
        },
        {
          "name": "stderr",
          "output_type": "stream",
          "text": [
            "WARNING:tensorflow:No training configuration found in the save file, so the model was *not* compiled. Compile it manually.\n"
          ]
        },
        {
          "name": "stdout",
          "output_type": "stream",
          "text": [
            "1/1 [==============================] - 0s 50ms/step\n",
            "0.0\n",
            "WARNING:tensorflow:No training configuration found in the save file, so the model was *not* compiled. Compile it manually.\n"
          ]
        },
        {
          "name": "stderr",
          "output_type": "stream",
          "text": [
            "WARNING:tensorflow:No training configuration found in the save file, so the model was *not* compiled. Compile it manually.\n"
          ]
        },
        {
          "name": "stdout",
          "output_type": "stream",
          "text": [
            "1/1 [==============================] - 0s 55ms/step\n",
            "0.0\n",
            "WARNING:tensorflow:No training configuration found in the save file, so the model was *not* compiled. Compile it manually.\n"
          ]
        },
        {
          "name": "stderr",
          "output_type": "stream",
          "text": [
            "WARNING:tensorflow:No training configuration found in the save file, so the model was *not* compiled. Compile it manually.\n"
          ]
        },
        {
          "name": "stdout",
          "output_type": "stream",
          "text": [
            "1/1 [==============================] - 0s 59ms/step\n",
            "0.0\n",
            "WARNING:tensorflow:No training configuration found in the save file, so the model was *not* compiled. Compile it manually.\n"
          ]
        },
        {
          "name": "stderr",
          "output_type": "stream",
          "text": [
            "WARNING:tensorflow:No training configuration found in the save file, so the model was *not* compiled. Compile it manually.\n"
          ]
        },
        {
          "name": "stdout",
          "output_type": "stream",
          "text": [
            "1/1 [==============================] - 0s 50ms/step\n",
            "0.0\n",
            "WARNING:tensorflow:No training configuration found in the save file, so the model was *not* compiled. Compile it manually.\n"
          ]
        },
        {
          "name": "stderr",
          "output_type": "stream",
          "text": [
            "WARNING:tensorflow:No training configuration found in the save file, so the model was *not* compiled. Compile it manually.\n"
          ]
        },
        {
          "name": "stdout",
          "output_type": "stream",
          "text": [
            "1/1 [==============================] - 0s 51ms/step\n",
            "0.0\n",
            "WARNING:tensorflow:No training configuration found in the save file, so the model was *not* compiled. Compile it manually.\n"
          ]
        },
        {
          "name": "stderr",
          "output_type": "stream",
          "text": [
            "WARNING:tensorflow:No training configuration found in the save file, so the model was *not* compiled. Compile it manually.\n"
          ]
        },
        {
          "name": "stdout",
          "output_type": "stream",
          "text": [
            "1/1 [==============================] - 0s 48ms/step\n",
            "0.0\n",
            "WARNING:tensorflow:No training configuration found in the save file, so the model was *not* compiled. Compile it manually.\n"
          ]
        },
        {
          "name": "stderr",
          "output_type": "stream",
          "text": [
            "WARNING:tensorflow:No training configuration found in the save file, so the model was *not* compiled. Compile it manually.\n"
          ]
        },
        {
          "name": "stdout",
          "output_type": "stream",
          "text": [
            "1/1 [==============================] - 0s 47ms/step\n",
            "0.0\n",
            "WARNING:tensorflow:No training configuration found in the save file, so the model was *not* compiled. Compile it manually.\n"
          ]
        },
        {
          "name": "stderr",
          "output_type": "stream",
          "text": [
            "WARNING:tensorflow:No training configuration found in the save file, so the model was *not* compiled. Compile it manually.\n"
          ]
        },
        {
          "name": "stdout",
          "output_type": "stream",
          "text": [
            "1/1 [==============================] - 0s 48ms/step\n",
            "0.0\n",
            "WARNING:tensorflow:No training configuration found in the save file, so the model was *not* compiled. Compile it manually.\n"
          ]
        },
        {
          "name": "stderr",
          "output_type": "stream",
          "text": [
            "WARNING:tensorflow:No training configuration found in the save file, so the model was *not* compiled. Compile it manually.\n"
          ]
        },
        {
          "name": "stdout",
          "output_type": "stream",
          "text": [
            "1/1 [==============================] - 0s 53ms/step\n",
            "0.0\n",
            "WARNING:tensorflow:No training configuration found in the save file, so the model was *not* compiled. Compile it manually.\n"
          ]
        },
        {
          "name": "stderr",
          "output_type": "stream",
          "text": [
            "WARNING:tensorflow:No training configuration found in the save file, so the model was *not* compiled. Compile it manually.\n"
          ]
        },
        {
          "name": "stdout",
          "output_type": "stream",
          "text": [
            "1/1 [==============================] - 0s 52ms/step\n",
            "0.0\n",
            "WARNING:tensorflow:No training configuration found in the save file, so the model was *not* compiled. Compile it manually.\n"
          ]
        },
        {
          "name": "stderr",
          "output_type": "stream",
          "text": [
            "WARNING:tensorflow:No training configuration found in the save file, so the model was *not* compiled. Compile it manually.\n"
          ]
        },
        {
          "name": "stdout",
          "output_type": "stream",
          "text": [
            "1/1 [==============================] - 0s 55ms/step\n",
            "0.0\n",
            "WARNING:tensorflow:No training configuration found in the save file, so the model was *not* compiled. Compile it manually.\n"
          ]
        },
        {
          "name": "stderr",
          "output_type": "stream",
          "text": [
            "WARNING:tensorflow:No training configuration found in the save file, so the model was *not* compiled. Compile it manually.\n"
          ]
        },
        {
          "name": "stdout",
          "output_type": "stream",
          "text": [
            "1/1 [==============================] - 0s 50ms/step\n",
            "0.0\n",
            "WARNING:tensorflow:No training configuration found in the save file, so the model was *not* compiled. Compile it manually.\n"
          ]
        },
        {
          "name": "stderr",
          "output_type": "stream",
          "text": [
            "WARNING:tensorflow:No training configuration found in the save file, so the model was *not* compiled. Compile it manually.\n"
          ]
        },
        {
          "name": "stdout",
          "output_type": "stream",
          "text": [
            "1/1 [==============================] - 0s 57ms/step\n",
            "0.0\n",
            "WARNING:tensorflow:No training configuration found in the save file, so the model was *not* compiled. Compile it manually.\n"
          ]
        },
        {
          "name": "stderr",
          "output_type": "stream",
          "text": [
            "WARNING:tensorflow:No training configuration found in the save file, so the model was *not* compiled. Compile it manually.\n"
          ]
        },
        {
          "name": "stdout",
          "output_type": "stream",
          "text": [
            "1/1 [==============================] - 0s 51ms/step\n",
            "0.0\n",
            "WARNING:tensorflow:No training configuration found in the save file, so the model was *not* compiled. Compile it manually.\n"
          ]
        },
        {
          "name": "stderr",
          "output_type": "stream",
          "text": [
            "WARNING:tensorflow:No training configuration found in the save file, so the model was *not* compiled. Compile it manually.\n"
          ]
        },
        {
          "name": "stdout",
          "output_type": "stream",
          "text": [
            "1/1 [==============================] - 0s 55ms/step\n",
            "0.0\n",
            "WARNING:tensorflow:No training configuration found in the save file, so the model was *not* compiled. Compile it manually.\n"
          ]
        },
        {
          "name": "stderr",
          "output_type": "stream",
          "text": [
            "WARNING:tensorflow:No training configuration found in the save file, so the model was *not* compiled. Compile it manually.\n"
          ]
        },
        {
          "name": "stdout",
          "output_type": "stream",
          "text": [
            "1/1 [==============================] - 0s 55ms/step\n",
            "0.0\n",
            "WARNING:tensorflow:No training configuration found in the save file, so the model was *not* compiled. Compile it manually.\n"
          ]
        },
        {
          "name": "stderr",
          "output_type": "stream",
          "text": [
            "WARNING:tensorflow:No training configuration found in the save file, so the model was *not* compiled. Compile it manually.\n"
          ]
        },
        {
          "name": "stdout",
          "output_type": "stream",
          "text": [
            "1/1 [==============================] - 0s 50ms/step\n",
            "0.0\n",
            "WARNING:tensorflow:No training configuration found in the save file, so the model was *not* compiled. Compile it manually.\n"
          ]
        },
        {
          "name": "stderr",
          "output_type": "stream",
          "text": [
            "WARNING:tensorflow:No training configuration found in the save file, so the model was *not* compiled. Compile it manually.\n"
          ]
        },
        {
          "name": "stdout",
          "output_type": "stream",
          "text": [
            "1/1 [==============================] - 0s 51ms/step\n",
            "0.0\n",
            "WARNING:tensorflow:No training configuration found in the save file, so the model was *not* compiled. Compile it manually.\n"
          ]
        },
        {
          "name": "stderr",
          "output_type": "stream",
          "text": [
            "WARNING:tensorflow:No training configuration found in the save file, so the model was *not* compiled. Compile it manually.\n"
          ]
        },
        {
          "name": "stdout",
          "output_type": "stream",
          "text": [
            "1/1 [==============================] - 0s 52ms/step\n",
            "0.0\n",
            "WARNING:tensorflow:No training configuration found in the save file, so the model was *not* compiled. Compile it manually.\n"
          ]
        },
        {
          "name": "stderr",
          "output_type": "stream",
          "text": [
            "WARNING:tensorflow:No training configuration found in the save file, so the model was *not* compiled. Compile it manually.\n"
          ]
        },
        {
          "name": "stdout",
          "output_type": "stream",
          "text": [
            "1/1 [==============================] - 0s 50ms/step\n",
            "0.0\n",
            "WARNING:tensorflow:No training configuration found in the save file, so the model was *not* compiled. Compile it manually.\n"
          ]
        },
        {
          "name": "stderr",
          "output_type": "stream",
          "text": [
            "WARNING:tensorflow:No training configuration found in the save file, so the model was *not* compiled. Compile it manually.\n"
          ]
        },
        {
          "name": "stdout",
          "output_type": "stream",
          "text": [
            "1/1 [==============================] - 0s 57ms/step\n",
            "0.0\n",
            "WARNING:tensorflow:No training configuration found in the save file, so the model was *not* compiled. Compile it manually.\n"
          ]
        },
        {
          "name": "stderr",
          "output_type": "stream",
          "text": [
            "WARNING:tensorflow:No training configuration found in the save file, so the model was *not* compiled. Compile it manually.\n"
          ]
        },
        {
          "name": "stdout",
          "output_type": "stream",
          "text": [
            "1/1 [==============================] - 0s 49ms/step\n",
            "0.0\n",
            "WARNING:tensorflow:No training configuration found in the save file, so the model was *not* compiled. Compile it manually.\n"
          ]
        },
        {
          "name": "stderr",
          "output_type": "stream",
          "text": [
            "WARNING:tensorflow:No training configuration found in the save file, so the model was *not* compiled. Compile it manually.\n"
          ]
        },
        {
          "name": "stdout",
          "output_type": "stream",
          "text": [
            "1/1 [==============================] - 0s 52ms/step\n",
            "0.0\n",
            "WARNING:tensorflow:No training configuration found in the save file, so the model was *not* compiled. Compile it manually.\n"
          ]
        },
        {
          "name": "stderr",
          "output_type": "stream",
          "text": [
            "WARNING:tensorflow:No training configuration found in the save file, so the model was *not* compiled. Compile it manually.\n"
          ]
        },
        {
          "name": "stdout",
          "output_type": "stream",
          "text": [
            "1/1 [==============================] - 0s 53ms/step\n",
            "0.0\n",
            "WARNING:tensorflow:No training configuration found in the save file, so the model was *not* compiled. Compile it manually.\n"
          ]
        },
        {
          "name": "stderr",
          "output_type": "stream",
          "text": [
            "WARNING:tensorflow:No training configuration found in the save file, so the model was *not* compiled. Compile it manually.\n"
          ]
        },
        {
          "name": "stdout",
          "output_type": "stream",
          "text": [
            "1/1 [==============================] - 0s 53ms/step\n",
            "0.0\n",
            "WARNING:tensorflow:No training configuration found in the save file, so the model was *not* compiled. Compile it manually.\n"
          ]
        },
        {
          "name": "stderr",
          "output_type": "stream",
          "text": [
            "WARNING:tensorflow:No training configuration found in the save file, so the model was *not* compiled. Compile it manually.\n"
          ]
        },
        {
          "name": "stdout",
          "output_type": "stream",
          "text": [
            "1/1 [==============================] - 0s 56ms/step\n",
            "0.0\n",
            "WARNING:tensorflow:No training configuration found in the save file, so the model was *not* compiled. Compile it manually.\n"
          ]
        },
        {
          "name": "stderr",
          "output_type": "stream",
          "text": [
            "WARNING:tensorflow:No training configuration found in the save file, so the model was *not* compiled. Compile it manually.\n"
          ]
        },
        {
          "name": "stdout",
          "output_type": "stream",
          "text": [
            "1/1 [==============================] - 0s 54ms/step\n",
            "0.0\n",
            "WARNING:tensorflow:No training configuration found in the save file, so the model was *not* compiled. Compile it manually.\n"
          ]
        },
        {
          "name": "stderr",
          "output_type": "stream",
          "text": [
            "WARNING:tensorflow:No training configuration found in the save file, so the model was *not* compiled. Compile it manually.\n"
          ]
        },
        {
          "name": "stdout",
          "output_type": "stream",
          "text": [
            "1/1 [==============================] - 0s 51ms/step\n",
            "0.0\n",
            "WARNING:tensorflow:No training configuration found in the save file, so the model was *not* compiled. Compile it manually.\n"
          ]
        },
        {
          "name": "stderr",
          "output_type": "stream",
          "text": [
            "WARNING:tensorflow:No training configuration found in the save file, so the model was *not* compiled. Compile it manually.\n"
          ]
        },
        {
          "name": "stdout",
          "output_type": "stream",
          "text": [
            "1/1 [==============================] - 0s 49ms/step\n",
            "0.0\n",
            "WARNING:tensorflow:No training configuration found in the save file, so the model was *not* compiled. Compile it manually.\n"
          ]
        },
        {
          "name": "stderr",
          "output_type": "stream",
          "text": [
            "WARNING:tensorflow:No training configuration found in the save file, so the model was *not* compiled. Compile it manually.\n"
          ]
        },
        {
          "name": "stdout",
          "output_type": "stream",
          "text": [
            "1/1 [==============================] - 0s 52ms/step\n",
            "0.0\n",
            "WARNING:tensorflow:No training configuration found in the save file, so the model was *not* compiled. Compile it manually.\n"
          ]
        },
        {
          "name": "stderr",
          "output_type": "stream",
          "text": [
            "WARNING:tensorflow:No training configuration found in the save file, so the model was *not* compiled. Compile it manually.\n"
          ]
        },
        {
          "name": "stdout",
          "output_type": "stream",
          "text": [
            "1/1 [==============================] - 0s 56ms/step\n",
            "0.0\n",
            "WARNING:tensorflow:No training configuration found in the save file, so the model was *not* compiled. Compile it manually.\n"
          ]
        },
        {
          "name": "stderr",
          "output_type": "stream",
          "text": [
            "WARNING:tensorflow:No training configuration found in the save file, so the model was *not* compiled. Compile it manually.\n"
          ]
        },
        {
          "name": "stdout",
          "output_type": "stream",
          "text": [
            "1/1 [==============================] - 0s 48ms/step\n",
            "0.0\n",
            "WARNING:tensorflow:No training configuration found in the save file, so the model was *not* compiled. Compile it manually.\n"
          ]
        },
        {
          "name": "stderr",
          "output_type": "stream",
          "text": [
            "WARNING:tensorflow:No training configuration found in the save file, so the model was *not* compiled. Compile it manually.\n"
          ]
        },
        {
          "name": "stdout",
          "output_type": "stream",
          "text": [
            "1/1 [==============================] - 0s 49ms/step\n",
            "0.0\n",
            "WARNING:tensorflow:No training configuration found in the save file, so the model was *not* compiled. Compile it manually.\n"
          ]
        },
        {
          "name": "stderr",
          "output_type": "stream",
          "text": [
            "WARNING:tensorflow:No training configuration found in the save file, so the model was *not* compiled. Compile it manually.\n"
          ]
        },
        {
          "name": "stdout",
          "output_type": "stream",
          "text": [
            "1/1 [==============================] - 0s 49ms/step\n",
            "0.0\n",
            "WARNING:tensorflow:No training configuration found in the save file, so the model was *not* compiled. Compile it manually.\n"
          ]
        },
        {
          "name": "stderr",
          "output_type": "stream",
          "text": [
            "WARNING:tensorflow:No training configuration found in the save file, so the model was *not* compiled. Compile it manually.\n"
          ]
        },
        {
          "name": "stdout",
          "output_type": "stream",
          "text": [
            "1/1 [==============================] - 0s 51ms/step\n",
            "0.0\n",
            "WARNING:tensorflow:No training configuration found in the save file, so the model was *not* compiled. Compile it manually.\n"
          ]
        },
        {
          "name": "stderr",
          "output_type": "stream",
          "text": [
            "WARNING:tensorflow:No training configuration found in the save file, so the model was *not* compiled. Compile it manually.\n"
          ]
        },
        {
          "name": "stdout",
          "output_type": "stream",
          "text": [
            "1/1 [==============================] - 0s 51ms/step\n",
            "0.0\n",
            "WARNING:tensorflow:No training configuration found in the save file, so the model was *not* compiled. Compile it manually.\n"
          ]
        },
        {
          "name": "stderr",
          "output_type": "stream",
          "text": [
            "WARNING:tensorflow:No training configuration found in the save file, so the model was *not* compiled. Compile it manually.\n"
          ]
        },
        {
          "name": "stdout",
          "output_type": "stream",
          "text": [
            "1/1 [==============================] - 0s 51ms/step\n",
            "0.0\n",
            "WARNING:tensorflow:No training configuration found in the save file, so the model was *not* compiled. Compile it manually.\n"
          ]
        },
        {
          "name": "stderr",
          "output_type": "stream",
          "text": [
            "WARNING:tensorflow:No training configuration found in the save file, so the model was *not* compiled. Compile it manually.\n"
          ]
        },
        {
          "name": "stdout",
          "output_type": "stream",
          "text": [
            "1/1 [==============================] - 0s 49ms/step\n",
            "0.0\n",
            "WARNING:tensorflow:No training configuration found in the save file, so the model was *not* compiled. Compile it manually.\n"
          ]
        },
        {
          "name": "stderr",
          "output_type": "stream",
          "text": [
            "WARNING:tensorflow:No training configuration found in the save file, so the model was *not* compiled. Compile it manually.\n"
          ]
        },
        {
          "name": "stdout",
          "output_type": "stream",
          "text": [
            "1/1 [==============================] - 0s 54ms/step\n",
            "0.0\n",
            "WARNING:tensorflow:No training configuration found in the save file, so the model was *not* compiled. Compile it manually.\n"
          ]
        },
        {
          "name": "stderr",
          "output_type": "stream",
          "text": [
            "WARNING:tensorflow:No training configuration found in the save file, so the model was *not* compiled. Compile it manually.\n"
          ]
        },
        {
          "name": "stdout",
          "output_type": "stream",
          "text": [
            "1/1 [==============================] - 0s 57ms/step\n",
            "0.0\n",
            "WARNING:tensorflow:No training configuration found in the save file, so the model was *not* compiled. Compile it manually.\n"
          ]
        },
        {
          "name": "stderr",
          "output_type": "stream",
          "text": [
            "WARNING:tensorflow:No training configuration found in the save file, so the model was *not* compiled. Compile it manually.\n"
          ]
        },
        {
          "name": "stdout",
          "output_type": "stream",
          "text": [
            "1/1 [==============================] - 0s 50ms/step\n",
            "0.0\n",
            "WARNING:tensorflow:No training configuration found in the save file, so the model was *not* compiled. Compile it manually.\n"
          ]
        },
        {
          "name": "stderr",
          "output_type": "stream",
          "text": [
            "WARNING:tensorflow:No training configuration found in the save file, so the model was *not* compiled. Compile it manually.\n"
          ]
        },
        {
          "name": "stdout",
          "output_type": "stream",
          "text": [
            "1/1 [==============================] - 0s 59ms/step\n",
            "0.0\n",
            "WARNING:tensorflow:No training configuration found in the save file, so the model was *not* compiled. Compile it manually.\n"
          ]
        },
        {
          "name": "stderr",
          "output_type": "stream",
          "text": [
            "WARNING:tensorflow:No training configuration found in the save file, so the model was *not* compiled. Compile it manually.\n"
          ]
        },
        {
          "name": "stdout",
          "output_type": "stream",
          "text": [
            "1/1 [==============================] - 0s 51ms/step\n",
            "0.0\n",
            "WARNING:tensorflow:No training configuration found in the save file, so the model was *not* compiled. Compile it manually.\n"
          ]
        },
        {
          "name": "stderr",
          "output_type": "stream",
          "text": [
            "WARNING:tensorflow:No training configuration found in the save file, so the model was *not* compiled. Compile it manually.\n"
          ]
        },
        {
          "name": "stdout",
          "output_type": "stream",
          "text": [
            "1/1 [==============================] - 0s 53ms/step\n",
            "0.0\n",
            "WARNING:tensorflow:No training configuration found in the save file, so the model was *not* compiled. Compile it manually.\n"
          ]
        },
        {
          "name": "stderr",
          "output_type": "stream",
          "text": [
            "WARNING:tensorflow:No training configuration found in the save file, so the model was *not* compiled. Compile it manually.\n"
          ]
        },
        {
          "name": "stdout",
          "output_type": "stream",
          "text": [
            "1/1 [==============================] - 0s 55ms/step\n"
          ]
        }
      ],
      "source": [
        "# Camera preparation\n",
        "cap = cv2.VideoCapture(0)\n",
        "cap.set(cv2.CAP_PROP_FRAME_WIDTH, 960)\n",
        "cap.set(cv2.CAP_PROP_FRAME_HEIGHT, 540)\n",
        "\n",
        "# Set mediapipe model \n",
        "with mp_hands.Hands(min_detection_confidence=0.7, min_tracking_confidence=0.5,max_num_hands=1) as hands: \n",
        "\n",
        "    while cap.isOpened():\n",
        "\n",
        "       # Process Key (ESC: end) \n",
        "       key = cv2.waitKey(10)\n",
        "       if key == 27:  # ESC\n",
        "          break\n",
        "       number, mode = select_mode(key, mode)\n",
        "\n",
        "       # Camera capture #####################################################\n",
        "       ret, frame = cap.read()\n",
        "       if not ret:\n",
        "          break\n",
        "\n",
        "       # Make detections\n",
        "       image, results, debug_image = mediapipe_detection(frame, hands)\n",
        "\n",
        "       if results.multi_hand_landmarks:\n",
        "            for hand_landmarks, handedness in zip(results.multi_hand_landmarks,\n",
        "                                                  results.multi_handedness):\n",
        "                \n",
        "                # Bounding box calculation\n",
        "                brect = calc_bounding_rect(debug_image, hand_landmarks)\n",
        "\n",
        "                # Landmark calculation\n",
        "                landmark_list = calc_landmark_list(debug_image, hand_landmarks)\n",
        "\n",
        "                # Conversion to relative coordinates / normalized coordinates\n",
        "                pre_processed_Keypoints_list = pre_process_Keypoint_history(\n",
        "                    debug_image, Keypoints_history)\n",
        "                print(pre_processed_Keypoints_list[0])\n",
        "                \n",
        "                hand_sign_id=0\n",
        "                hand_sign_len = len(pre_processed_Keypoints_list)\n",
        "                if hand_sign_len == (history_length * 2):\n",
        "                    hand_sign_id = classifier_h5(pre_processed_Keypoints_list)\n",
        "\n",
        "                if hand_sign_id == 1 or hand_sign_id == 2 or  hand_sign_id == 3 or  hand_sign_id == 4:  \n",
        "                    Keypoints_history.append(landmark_list[12])\n",
        "                else:\n",
        "                    Keypoints_history.append([0, 0])\n",
        "\n",
        "                Argmax_list.append(hand_sign_id)\n",
        "                most_common_fg_id = Counter(\n",
        "                    Argmax_list).most_common()\n",
        "                \n",
        "                # Drawing part\n",
        "                debug_image = draw_bounding_rect(use_boundary_recttangle, debug_image, brect)\n",
        "                debug_image = draw_landmarks(debug_image, landmark_list)\n",
        "                debug_image = draw_info_text(\n",
        "                    debug_image,\n",
        "                    brect,\n",
        "                    handedness,\n",
        "                    actions[most_common_fg_id[0][0]],\n",
        "                )\n",
        "       else:\n",
        "           Keypoints_history.append([0, 0])\n",
        "\n",
        "\n",
        "       # debug_image = draw_info(debug_image, mode, number)\n",
        "       debug_image = draw_point_history(debug_image, Keypoints_history)\n",
        "\n",
        "\n",
        "\n",
        "       # Screen reflection \n",
        "       cv2.imshow('Hand Gesture Recognition', debug_image)\n",
        "\n",
        "\n",
        "cap.release()\n",
        "\n",
        "cv2.destroyAllWindows()\n",
        "\n",
        "        "
      ]
    },
    {
      "cell_type": "markdown",
      "metadata": {
        "id": "aBtbMyJ6WN3p"
      },
      "source": [
        "# **Build and Train The Model**"
      ]
    },
    {
      "cell_type": "markdown",
      "metadata": {
        "id": "-KrlHFFcC9za"
      },
      "source": [
        "**import necessary package**"
      ]
    },
    {
      "cell_type": "code",
      "execution_count": null,
      "metadata": {},
      "outputs": [],
      "source": [
        "%pip install  scikit-learn "
      ]
    },
    {
      "cell_type": "code",
      "execution_count": 21,
      "metadata": {
        "id": "6gvVQ0uK-_m3"
      },
      "outputs": [],
      "source": [
        "from sklearn.model_selection import train_test_split"
      ]
    },
    {
      "cell_type": "markdown",
      "metadata": {
        "id": "nK6bWXlZDNVL"
      },
      "source": [
        "**input shape**"
      ]
    },
    {
      "cell_type": "code",
      "execution_count": 22,
      "metadata": {
        "id": "2VUm3kZJC8ej"
      },
      "outputs": [],
      "source": [
        "TIME_STEPS = 16\n",
        "DIMENSION = 2"
      ]
    },
    {
      "cell_type": "markdown",
      "metadata": {
        "id": "hkCGElqkDb5N"
      },
      "source": [
        "**Load DataSet and  Features & lables**"
      ]
    },
    {
      "cell_type": "code",
      "execution_count": 23,
      "metadata": {
        "id": "QpSZjKVPD15y"
      },
      "outputs": [],
      "source": [
        "dataset = 'Gestures_Presentation_Controle_DataSet/KeyPoints.csv'\n",
        "model_save_path = 'Gestures_classifier.h5'\n",
        "Logs = 'C:/oussamaboussaid/Hand_Gestures_Detection_and_Recognition_Project/Logs'"
      ]
    },
    {
      "cell_type": "code",
      "execution_count": 24,
      "metadata": {
        "id": "I8KrPaiqDbdm"
      },
      "outputs": [],
      "source": [
        "X_features  = np.loadtxt(dataset, delimiter=',', dtype='float32', usecols=list(range(1, (TIME_STEPS * DIMENSION) + 1)))\n",
        "Y_lables  = np.loadtxt(dataset, delimiter=',', dtype='int32', usecols=(0))\n",
        "\n",
        "# split features ana lables into train and test\n",
        "RANDOM_SEED = 42\n",
        "X_train, X_test, y_train, y_test = train_test_split(X_features, Y_lables, train_size=0.75, random_state=RANDOM_SEED)"
      ]
    },
    {
      "cell_type": "code",
      "execution_count": 25,
      "metadata": {},
      "outputs": [
        {
          "data": {
            "text/plain": [
              "array([0, 3, 1, 1, 3, 3, 2, 2, 0, 3, 0, 2, 0, 3, 1, 0, 0, 2, 3, 0, 1, 1,\n",
              "       0, 3, 0, 1, 4, 0, 4, 0, 4, 0, 3, 0, 2, 1, 4, 4, 1, 0, 0, 4, 3, 0,\n",
              "       1, 0, 1, 2, 2, 1, 0, 1, 2, 1, 0, 3, 1, 1, 1, 1, 1, 1, 1, 2, 0, 3,\n",
              "       4, 1, 3, 1, 1, 0, 4, 2, 1, 0, 1, 0, 2, 4, 2, 1, 3, 2, 0, 0, 1, 0,\n",
              "       4, 4, 2, 2, 2, 0, 4, 3, 4, 3, 1, 0, 2, 0, 4, 2, 0, 0, 0, 1, 4, 0,\n",
              "       3, 2, 2, 3, 2, 1, 1, 1, 2, 2, 2, 0, 1, 2, 1, 1, 1, 3, 2, 3, 4, 0,\n",
              "       4, 3, 1, 1, 1, 3, 3, 4, 3, 4, 0, 2, 2, 1, 0, 4, 3, 1, 2, 2, 3, 2,\n",
              "       1, 3, 2, 1, 3, 0, 2, 2, 2, 0, 4, 2, 2, 0, 2, 0, 3, 1, 1, 4, 0, 3,\n",
              "       0, 4, 2, 1, 1, 4, 3, 3, 3, 2, 4, 2, 2, 1, 1, 3, 2, 4, 3, 1, 1, 1,\n",
              "       2, 1, 0, 3, 1, 1, 4, 1, 1, 0, 4, 0, 0, 0, 4, 0, 0, 2, 4, 1, 3, 2,\n",
              "       0, 2, 2, 0, 0, 0, 3, 3, 2, 0, 1, 4, 1, 0, 3, 3, 2, 4, 0, 4, 1, 2,\n",
              "       2, 2, 0, 0, 3, 2, 3, 0, 4, 4, 2, 1, 4, 0, 1, 2, 1, 2, 1, 3, 1, 2,\n",
              "       4, 3, 2, 4, 1, 2, 4, 1, 1, 4, 0, 1, 2, 0, 2, 2, 0, 3, 1, 4, 0, 0,\n",
              "       2, 3, 2, 1, 0, 2, 0, 0, 0, 3, 0, 1, 1, 1, 2, 0, 1, 2, 2, 1, 0, 1,\n",
              "       3, 3, 2, 2, 2, 2, 4, 4, 4, 1, 4, 4, 0, 1, 0, 0, 1, 0, 1, 4, 4, 4,\n",
              "       4, 2, 1, 0, 1, 3, 1, 1, 0, 4, 3, 1, 0, 1, 4, 1, 1, 2, 1, 0, 2, 3,\n",
              "       0, 2, 1, 2, 0, 4, 1, 1, 4, 2, 0, 3, 1, 2, 0, 2, 2, 4, 0, 1, 1, 0,\n",
              "       3, 0, 4, 1, 0, 1, 3, 1, 0, 0, 4, 0, 0, 1, 4, 3, 2, 2, 1, 0, 4, 1,\n",
              "       0, 0, 2, 4, 2, 4, 1, 1, 3, 1, 3, 0, 0, 2, 3, 0, 1, 4, 1, 0, 3, 3,\n",
              "       4, 2, 4, 0, 2, 1, 2, 2, 0, 1, 1, 1, 0, 2, 2, 1, 1, 0, 4, 1, 1, 4,\n",
              "       3, 0, 0, 2, 0, 0, 4, 1, 3, 0, 2, 0, 3, 0, 0, 0, 3, 2, 4, 2, 4, 1,\n",
              "       0, 0, 2, 1, 1, 0, 0, 2, 0, 3, 4, 0, 2, 1, 4, 4, 0, 0, 0, 2, 2, 1,\n",
              "       0, 2, 4, 3, 1, 2, 0, 1, 3, 3, 4, 0, 2, 2, 2, 0, 1, 4, 0, 3, 2, 2,\n",
              "       2, 2, 0, 2, 1, 0, 2, 3, 4, 4, 4, 0, 4, 2, 4, 2, 0, 2, 0, 0, 2, 3,\n",
              "       0, 2, 1, 0, 2, 2, 2, 0, 1, 4, 1, 0, 3, 2, 4, 2, 0, 2, 3, 1, 1, 0,\n",
              "       2, 1, 1, 2, 4, 1, 1, 0, 4, 2, 4, 0, 4, 0, 1, 3, 4, 0, 2, 4, 4, 0,\n",
              "       2, 1, 2, 1, 0, 3, 1, 2, 3, 0, 2, 3, 3, 1, 4, 0, 0, 4, 2, 4, 2, 3,\n",
              "       4, 2, 0, 0, 0, 3, 0, 0, 4, 3, 4, 4, 3, 1])"
            ]
          },
          "execution_count": 25,
          "metadata": {},
          "output_type": "execute_result"
        }
      ],
      "source": [
        "y_test"
      ]
    },
    {
      "cell_type": "markdown",
      "metadata": {
        "id": "9Cl2NdZWFhvz"
      },
      "source": [
        "**Define a Callback to use for EarlyStopping**"
      ]
    },
    {
      "cell_type": "code",
      "execution_count": 26,
      "metadata": {},
      "outputs": [
        {
          "name": "stdout",
          "output_type": "stream",
          "text": [
            "Requirement already satisfied: tensorflow in c:\\users\\kibbou\\appdata\\local\\packages\\pythonsoftwarefoundation.python.3.9_qbz5n2kfra8p0\\localcache\\local-packages\\python39\\site-packages (2.12.0)\n",
            "Requirement already satisfied: tensorflow-intel==2.12.0 in c:\\users\\kibbou\\appdata\\local\\packages\\pythonsoftwarefoundation.python.3.9_qbz5n2kfra8p0\\localcache\\local-packages\\python39\\site-packages (from tensorflow) (2.12.0)\n",
            "Requirement already satisfied: absl-py>=1.0.0 in c:\\users\\kibbou\\appdata\\local\\packages\\pythonsoftwarefoundation.python.3.9_qbz5n2kfra8p0\\localcache\\local-packages\\python39\\site-packages (from tensorflow-intel==2.12.0->tensorflow) (1.4.0)\n",
            "Requirement already satisfied: astunparse>=1.6.0 in c:\\users\\kibbou\\appdata\\local\\packages\\pythonsoftwarefoundation.python.3.9_qbz5n2kfra8p0\\localcache\\local-packages\\python39\\site-packages (from tensorflow-intel==2.12.0->tensorflow) (1.6.3)\n",
            "Requirement already satisfied: flatbuffers>=2.0 in c:\\users\\kibbou\\appdata\\local\\packages\\pythonsoftwarefoundation.python.3.9_qbz5n2kfra8p0\\localcache\\local-packages\\python39\\site-packages (from tensorflow-intel==2.12.0->tensorflow) (23.3.3)\n",
            "Requirement already satisfied: gast<=0.4.0,>=0.2.1 in c:\\users\\kibbou\\appdata\\local\\packages\\pythonsoftwarefoundation.python.3.9_qbz5n2kfra8p0\\localcache\\local-packages\\python39\\site-packages (from tensorflow-intel==2.12.0->tensorflow) (0.4.0)\n",
            "Requirement already satisfied: google-pasta>=0.1.1 in c:\\users\\kibbou\\appdata\\local\\packages\\pythonsoftwarefoundation.python.3.9_qbz5n2kfra8p0\\localcache\\local-packages\\python39\\site-packages (from tensorflow-intel==2.12.0->tensorflow) (0.2.0)\n",
            "Requirement already satisfied: h5py>=2.9.0 in c:\\users\\kibbou\\appdata\\local\\packages\\pythonsoftwarefoundation.python.3.9_qbz5n2kfra8p0\\localcache\\local-packages\\python39\\site-packages (from tensorflow-intel==2.12.0->tensorflow) (3.8.0)\n",
            "Requirement already satisfied: jax>=0.3.15 in c:\\users\\kibbou\\appdata\\local\\packages\\pythonsoftwarefoundation.python.3.9_qbz5n2kfra8p0\\localcache\\local-packages\\python39\\site-packages (from tensorflow-intel==2.12.0->tensorflow) (0.4.8)\n",
            "Requirement already satisfied: libclang>=13.0.0 in c:\\users\\kibbou\\appdata\\local\\packages\\pythonsoftwarefoundation.python.3.9_qbz5n2kfra8p0\\localcache\\local-packages\\python39\\site-packages (from tensorflow-intel==2.12.0->tensorflow) (16.0.0)\n",
            "Requirement already satisfied: numpy<1.24,>=1.22 in c:\\users\\kibbou\\appdata\\local\\packages\\pythonsoftwarefoundation.python.3.9_qbz5n2kfra8p0\\localcache\\local-packages\\python39\\site-packages (from tensorflow-intel==2.12.0->tensorflow) (1.23.5)\n",
            "Requirement already satisfied: opt-einsum>=2.3.2 in c:\\users\\kibbou\\appdata\\local\\packages\\pythonsoftwarefoundation.python.3.9_qbz5n2kfra8p0\\localcache\\local-packages\\python39\\site-packages (from tensorflow-intel==2.12.0->tensorflow) (3.3.0)\n",
            "Requirement already satisfied: packaging in c:\\users\\kibbou\\appdata\\local\\packages\\pythonsoftwarefoundation.python.3.9_qbz5n2kfra8p0\\localcache\\local-packages\\python39\\site-packages (from tensorflow-intel==2.12.0->tensorflow) (23.0)\n",
            "Requirement already satisfied: protobuf!=4.21.0,!=4.21.1,!=4.21.2,!=4.21.3,!=4.21.4,!=4.21.5,<5.0.0dev,>=3.20.3 in c:\\users\\kibbou\\appdata\\local\\packages\\pythonsoftwarefoundation.python.3.9_qbz5n2kfra8p0\\localcache\\local-packages\\python39\\site-packages (from tensorflow-intel==2.12.0->tensorflow) (3.20.3)\n",
            "Requirement already satisfied: setuptools in c:\\program files\\windowsapps\\pythonsoftwarefoundation.python.3.9_3.9.3568.0_x64__qbz5n2kfra8p0\\lib\\site-packages (from tensorflow-intel==2.12.0->tensorflow) (58.1.0)\n",
            "Requirement already satisfied: six>=1.12.0 in c:\\users\\kibbou\\appdata\\local\\packages\\pythonsoftwarefoundation.python.3.9_qbz5n2kfra8p0\\localcache\\local-packages\\python39\\site-packages (from tensorflow-intel==2.12.0->tensorflow) (1.16.0)\n",
            "Requirement already satisfied: termcolor>=1.1.0 in c:\\users\\kibbou\\appdata\\local\\packages\\pythonsoftwarefoundation.python.3.9_qbz5n2kfra8p0\\localcache\\local-packages\\python39\\site-packages (from tensorflow-intel==2.12.0->tensorflow) (2.3.0)\n",
            "Requirement already satisfied: typing-extensions>=3.6.6 in c:\\users\\kibbou\\appdata\\local\\packages\\pythonsoftwarefoundation.python.3.9_qbz5n2kfra8p0\\localcache\\local-packages\\python39\\site-packages (from tensorflow-intel==2.12.0->tensorflow) (4.5.0)\n",
            "Requirement already satisfied: wrapt<1.15,>=1.11.0 in c:\\users\\kibbou\\appdata\\local\\packages\\pythonsoftwarefoundation.python.3.9_qbz5n2kfra8p0\\localcache\\local-packages\\python39\\site-packages (from tensorflow-intel==2.12.0->tensorflow) (1.14.1)\n",
            "Requirement already satisfied: grpcio<2.0,>=1.24.3 in c:\\users\\kibbou\\appdata\\local\\packages\\pythonsoftwarefoundation.python.3.9_qbz5n2kfra8p0\\localcache\\local-packages\\python39\\site-packages (from tensorflow-intel==2.12.0->tensorflow) (1.54.0)\n",
            "Requirement already satisfied: tensorboard<2.13,>=2.12 in c:\\users\\kibbou\\appdata\\local\\packages\\pythonsoftwarefoundation.python.3.9_qbz5n2kfra8p0\\localcache\\local-packages\\python39\\site-packages (from tensorflow-intel==2.12.0->tensorflow) (2.12.2)\n",
            "Requirement already satisfied: tensorflow-estimator<2.13,>=2.12.0 in c:\\users\\kibbou\\appdata\\local\\packages\\pythonsoftwarefoundation.python.3.9_qbz5n2kfra8p0\\localcache\\local-packages\\python39\\site-packages (from tensorflow-intel==2.12.0->tensorflow) (2.12.0)\n",
            "Requirement already satisfied: keras<2.13,>=2.12.0 in c:\\users\\kibbou\\appdata\\local\\packages\\pythonsoftwarefoundation.python.3.9_qbz5n2kfra8p0\\localcache\\local-packages\\python39\\site-packages (from tensorflow-intel==2.12.0->tensorflow) (2.12.0)\n",
            "Requirement already satisfied: tensorflow-io-gcs-filesystem>=0.23.1 in c:\\users\\kibbou\\appdata\\local\\packages\\pythonsoftwarefoundation.python.3.9_qbz5n2kfra8p0\\localcache\\local-packages\\python39\\site-packages (from tensorflow-intel==2.12.0->tensorflow) (0.31.0)\n",
            "Requirement already satisfied: wheel<1.0,>=0.23.0 in c:\\users\\kibbou\\appdata\\local\\packages\\pythonsoftwarefoundation.python.3.9_qbz5n2kfra8p0\\localcache\\local-packages\\python39\\site-packages (from astunparse>=1.6.0->tensorflow-intel==2.12.0->tensorflow) (0.40.0)\n",
            "Requirement already satisfied: ml-dtypes>=0.0.3 in c:\\users\\kibbou\\appdata\\local\\packages\\pythonsoftwarefoundation.python.3.9_qbz5n2kfra8p0\\localcache\\local-packages\\python39\\site-packages (from jax>=0.3.15->tensorflow-intel==2.12.0->tensorflow) (0.1.0)\n",
            "Requirement already satisfied: scipy>=1.7 in c:\\users\\kibbou\\appdata\\local\\packages\\pythonsoftwarefoundation.python.3.9_qbz5n2kfra8p0\\localcache\\local-packages\\python39\\site-packages (from jax>=0.3.15->tensorflow-intel==2.12.0->tensorflow) (1.10.1)\n",
            "Requirement already satisfied: google-auth<3,>=1.6.3 in c:\\users\\kibbou\\appdata\\local\\packages\\pythonsoftwarefoundation.python.3.9_qbz5n2kfra8p0\\localcache\\local-packages\\python39\\site-packages (from tensorboard<2.13,>=2.12->tensorflow-intel==2.12.0->tensorflow) (2.17.3)\n",
            "Requirement already satisfied: google-auth-oauthlib<1.1,>=0.5 in c:\\users\\kibbou\\appdata\\local\\packages\\pythonsoftwarefoundation.python.3.9_qbz5n2kfra8p0\\localcache\\local-packages\\python39\\site-packages (from tensorboard<2.13,>=2.12->tensorflow-intel==2.12.0->tensorflow) (1.0.0)\n",
            "Requirement already satisfied: markdown>=2.6.8 in c:\\users\\kibbou\\appdata\\local\\packages\\pythonsoftwarefoundation.python.3.9_qbz5n2kfra8p0\\localcache\\local-packages\\python39\\site-packages (from tensorboard<2.13,>=2.12->tensorflow-intel==2.12.0->tensorflow) (3.4.3)\n",
            "Requirement already satisfied: requests<3,>=2.21.0 in c:\\users\\kibbou\\appdata\\local\\packages\\pythonsoftwarefoundation.python.3.9_qbz5n2kfra8p0\\localcache\\local-packages\\python39\\site-packages (from tensorboard<2.13,>=2.12->tensorflow-intel==2.12.0->tensorflow) (2.29.0)\n",
            "Requirement already satisfied: tensorboard-data-server<0.8.0,>=0.7.0 in c:\\users\\kibbou\\appdata\\local\\packages\\pythonsoftwarefoundation.python.3.9_qbz5n2kfra8p0\\localcache\\local-packages\\python39\\site-packages (from tensorboard<2.13,>=2.12->tensorflow-intel==2.12.0->tensorflow) (0.7.0)\n",
            "Requirement already satisfied: tensorboard-plugin-wit>=1.6.0 in c:\\users\\kibbou\\appdata\\local\\packages\\pythonsoftwarefoundation.python.3.9_qbz5n2kfra8p0\\localcache\\local-packages\\python39\\site-packages (from tensorboard<2.13,>=2.12->tensorflow-intel==2.12.0->tensorflow) (1.8.1)\n",
            "Requirement already satisfied: werkzeug>=1.0.1 in c:\\users\\kibbou\\appdata\\local\\packages\\pythonsoftwarefoundation.python.3.9_qbz5n2kfra8p0\\localcache\\local-packages\\python39\\site-packages (from tensorboard<2.13,>=2.12->tensorflow-intel==2.12.0->tensorflow) (2.3.2)\n",
            "Requirement already satisfied: cachetools<6.0,>=2.0.0 in c:\\users\\kibbou\\appdata\\local\\packages\\pythonsoftwarefoundation.python.3.9_qbz5n2kfra8p0\\localcache\\local-packages\\python39\\site-packages (from google-auth<3,>=1.6.3->tensorboard<2.13,>=2.12->tensorflow-intel==2.12.0->tensorflow) (5.3.0)\n",
            "Requirement already satisfied: pyasn1-modules>=0.2.1 in c:\\users\\kibbou\\appdata\\local\\packages\\pythonsoftwarefoundation.python.3.9_qbz5n2kfra8p0\\localcache\\local-packages\\python39\\site-packages (from google-auth<3,>=1.6.3->tensorboard<2.13,>=2.12->tensorflow-intel==2.12.0->tensorflow) (0.3.0)\n",
            "Requirement already satisfied: rsa<5,>=3.1.4 in c:\\users\\kibbou\\appdata\\local\\packages\\pythonsoftwarefoundation.python.3.9_qbz5n2kfra8p0\\localcache\\local-packages\\python39\\site-packages (from google-auth<3,>=1.6.3->tensorboard<2.13,>=2.12->tensorflow-intel==2.12.0->tensorflow) (4.9)\n",
            "Requirement already satisfied: requests-oauthlib>=0.7.0 in c:\\users\\kibbou\\appdata\\local\\packages\\pythonsoftwarefoundation.python.3.9_qbz5n2kfra8p0\\localcache\\local-packages\\python39\\site-packages (from google-auth-oauthlib<1.1,>=0.5->tensorboard<2.13,>=2.12->tensorflow-intel==2.12.0->tensorflow) (1.3.1)\n",
            "Requirement already satisfied: importlib-metadata>=4.4 in c:\\users\\kibbou\\appdata\\local\\packages\\pythonsoftwarefoundation.python.3.9_qbz5n2kfra8p0\\localcache\\local-packages\\python39\\site-packages (from markdown>=2.6.8->tensorboard<2.13,>=2.12->tensorflow-intel==2.12.0->tensorflow) (6.0.0)\n",
            "Requirement already satisfied: charset-normalizer<4,>=2 in c:\\users\\kibbou\\appdata\\local\\packages\\pythonsoftwarefoundation.python.3.9_qbz5n2kfra8p0\\localcache\\local-packages\\python39\\site-packages (from requests<3,>=2.21.0->tensorboard<2.13,>=2.12->tensorflow-intel==2.12.0->tensorflow) (3.1.0)\n",
            "Requirement already satisfied: idna<4,>=2.5 in c:\\users\\kibbou\\appdata\\local\\packages\\pythonsoftwarefoundation.python.3.9_qbz5n2kfra8p0\\localcache\\local-packages\\python39\\site-packages (from requests<3,>=2.21.0->tensorboard<2.13,>=2.12->tensorflow-intel==2.12.0->tensorflow) (3.4)\n",
            "Requirement already satisfied: urllib3<1.27,>=1.21.1 in c:\\users\\kibbou\\appdata\\local\\packages\\pythonsoftwarefoundation.python.3.9_qbz5n2kfra8p0\\localcache\\local-packages\\python39\\site-packages (from requests<3,>=2.21.0->tensorboard<2.13,>=2.12->tensorflow-intel==2.12.0->tensorflow) (1.26.15)\n",
            "Requirement already satisfied: certifi>=2017.4.17 in c:\\users\\kibbou\\appdata\\local\\packages\\pythonsoftwarefoundation.python.3.9_qbz5n2kfra8p0\\localcache\\local-packages\\python39\\site-packages (from requests<3,>=2.21.0->tensorboard<2.13,>=2.12->tensorflow-intel==2.12.0->tensorflow) (2022.12.7)\n",
            "Requirement already satisfied: MarkupSafe>=2.1.1 in c:\\users\\kibbou\\appdata\\local\\packages\\pythonsoftwarefoundation.python.3.9_qbz5n2kfra8p0\\localcache\\local-packages\\python39\\site-packages (from werkzeug>=1.0.1->tensorboard<2.13,>=2.12->tensorflow-intel==2.12.0->tensorflow) (2.1.2)\n",
            "Requirement already satisfied: zipp>=0.5 in c:\\users\\kibbou\\appdata\\local\\packages\\pythonsoftwarefoundation.python.3.9_qbz5n2kfra8p0\\localcache\\local-packages\\python39\\site-packages (from importlib-metadata>=4.4->markdown>=2.6.8->tensorboard<2.13,>=2.12->tensorflow-intel==2.12.0->tensorflow) (3.15.0)\n",
            "Requirement already satisfied: pyasn1<0.6.0,>=0.4.6 in c:\\users\\kibbou\\appdata\\local\\packages\\pythonsoftwarefoundation.python.3.9_qbz5n2kfra8p0\\localcache\\local-packages\\python39\\site-packages (from pyasn1-modules>=0.2.1->google-auth<3,>=1.6.3->tensorboard<2.13,>=2.12->tensorflow-intel==2.12.0->tensorflow) (0.5.0)\n",
            "Requirement already satisfied: oauthlib>=3.0.0 in c:\\users\\kibbou\\appdata\\local\\packages\\pythonsoftwarefoundation.python.3.9_qbz5n2kfra8p0\\localcache\\local-packages\\python39\\site-packages (from requests-oauthlib>=0.7.0->google-auth-oauthlib<1.1,>=0.5->tensorboard<2.13,>=2.12->tensorflow-intel==2.12.0->tensorflow) (3.2.2)\n",
            "Note: you may need to restart the kernel to use updated packages.\n"
          ]
        }
      ],
      "source": [
        "%pip install tensorflow"
      ]
    },
    {
      "cell_type": "code",
      "execution_count": 27,
      "metadata": {
        "id": "DXEZfStzFfEi"
      },
      "outputs": [],
      "source": [
        "from tensorflow.keras.callbacks import TensorBoard\n",
        "\n",
        "log_dir = os.path.join('C:/oussamaboussaid/Hand_Gestures_Detection_and_Recognition_Project/Logs')\n",
        "cp_callback = TensorBoard(log_dir=log_dir)\n",
        "\n",
        "# callback for earlyStopping\n",
        "Earlystopping_callback = tf.keras.callbacks.EarlyStopping(patience=20, verbose=1)"
      ]
    },
    {
      "cell_type": "code",
      "execution_count": 28,
      "metadata": {},
      "outputs": [
        {
          "name": "stderr",
          "output_type": "stream",
          "text": [
            "UsageError: Line magic function `%tensorboard` not found.\n"
          ]
        }
      ],
      "source": [
        "%tensorboard -- logdir={log_folder}"
      ]
    },
    {
      "cell_type": "markdown",
      "metadata": {
        "id": "VHrhIdYGEeX0"
      },
      "source": [
        "**Build The Model**"
      ]
    },
    {
      "cell_type": "code",
      "execution_count": 29,
      "metadata": {
        "id": "Uq12oEAJE37o"
      },
      "outputs": [],
      "source": [
        "# Modl Param\n",
        "use_lstm = False\n",
        "NUM_CLASSES = 5"
      ]
    },
    {
      "cell_type": "code",
      "execution_count": 30,
      "metadata": {
        "id": "BKcTUfUBD9Gh"
      },
      "outputs": [],
      "source": [
        "if use_lstm:\n",
        "    model = tf.keras.models.Sequential([\n",
        "        tf.keras.layers.InputLayer(input_shape=(TIME_STEPS * DIMENSION, )),\n",
        "        tf.keras.layers.Reshape((TIME_STEPS, DIMENSION), input_shape=(TIME_STEPS * DIMENSION, )), \n",
        "        tf.keras.layers.Dropout(0.2),\n",
        "        tf.keras.layers.LSTM(16, input_shape=[TIME_STEPS, DIMENSION]),\n",
        "        tf.keras.layers.Dropout(0.5),\n",
        "        tf.keras.layers.Dense(10, activation='relu'),\n",
        "        tf.keras.layers.Dense(NUM_CLASSES, activation='softmax')\n",
        "    ])\n",
        "else:\n",
        "    model = tf.keras.models.Sequential([\n",
        "        tf.keras.layers.InputLayer(input_shape=(TIME_STEPS * DIMENSION, )),\n",
        "        tf.keras.layers.Dropout(0.2),\n",
        "        tf.keras.layers.Dense(24, activation='relu'),\n",
        "        tf.keras.layers.Dropout(0.5),\n",
        "        tf.keras.layers.Dense(10, activation='relu'),\n",
        "        tf.keras.layers.Dense(NUM_CLASSES, activation='softmax')\n",
        "    ])"
      ]
    },
    {
      "cell_type": "code",
      "execution_count": 31,
      "metadata": {
        "id": "c1h-_dbHGYn3"
      },
      "outputs": [],
      "source": [
        "model.compile( optimizer='adam', loss='sparse_categorical_crossentropy', metrics=['accuracy'] )"
      ]
    },
    {
      "cell_type": "markdown",
      "metadata": {
        "id": "vPh6RduzGglX"
      },
      "source": [
        "**Train The Model**"
      ]
    },
    {
      "cell_type": "code",
      "execution_count": 32,
      "metadata": {
        "id": "Z8zinCJ8Gelv"
      },
      "outputs": [
        {
          "name": "stdout",
          "output_type": "stream",
          "text": [
            "Epoch 1/1000\n",
            "15/15 [==============================] - 1s 21ms/step - loss: 1.6055 - accuracy: 0.2935 - val_loss: 1.5845 - val_accuracy: 0.6020\n",
            "Epoch 2/1000\n",
            "15/15 [==============================] - 0s 5ms/step - loss: 1.5784 - accuracy: 0.4569 - val_loss: 1.5563 - val_accuracy: 0.8273\n",
            "Epoch 3/1000\n",
            "15/15 [==============================] - 0s 5ms/step - loss: 1.5487 - accuracy: 0.5540 - val_loss: 1.5232 - val_accuracy: 0.9013\n",
            "Epoch 4/1000\n",
            "15/15 [==============================] - 0s 5ms/step - loss: 1.5138 - accuracy: 0.6248 - val_loss: 1.4817 - val_accuracy: 0.9161\n",
            "Epoch 5/1000\n",
            "15/15 [==============================] - 0s 5ms/step - loss: 1.4672 - accuracy: 0.6786 - val_loss: 1.4271 - val_accuracy: 0.9260\n",
            "Epoch 6/1000\n",
            "15/15 [==============================] - 0s 5ms/step - loss: 1.4168 - accuracy: 0.6676 - val_loss: 1.3621 - val_accuracy: 0.8964\n",
            "Epoch 7/1000\n",
            "15/15 [==============================] - 0s 5ms/step - loss: 1.3425 - accuracy: 0.6742 - val_loss: 1.2860 - val_accuracy: 0.7023\n",
            "Epoch 8/1000\n",
            "15/15 [==============================] - 0s 5ms/step - loss: 1.2721 - accuracy: 0.6818 - val_loss: 1.2016 - val_accuracy: 0.7039\n",
            "Epoch 9/1000\n",
            "15/15 [==============================] - 0s 4ms/step - loss: 1.1884 - accuracy: 0.6775 - val_loss: 1.1196 - val_accuracy: 0.7056\n",
            "Epoch 10/1000\n",
            "15/15 [==============================] - 0s 4ms/step - loss: 1.1170 - accuracy: 0.6928 - val_loss: 1.0413 - val_accuracy: 0.7039\n",
            "Epoch 11/1000\n",
            "15/15 [==============================] - 0s 4ms/step - loss: 1.0534 - accuracy: 0.6961 - val_loss: 0.9708 - val_accuracy: 0.7747\n",
            "Epoch 12/1000\n",
            "15/15 [==============================] - 0s 5ms/step - loss: 0.9828 - accuracy: 0.7241 - val_loss: 0.9064 - val_accuracy: 0.8618\n",
            "Epoch 13/1000\n",
            "15/15 [==============================] - 0s 4ms/step - loss: 0.9334 - accuracy: 0.7345 - val_loss: 0.8483 - val_accuracy: 0.9194\n",
            "Epoch 14/1000\n",
            "15/15 [==============================] - 0s 4ms/step - loss: 0.8896 - accuracy: 0.7405 - val_loss: 0.7982 - val_accuracy: 0.9342\n",
            "Epoch 15/1000\n",
            "15/15 [==============================] - 0s 4ms/step - loss: 0.8374 - accuracy: 0.7844 - val_loss: 0.7531 - val_accuracy: 0.9375\n",
            "Epoch 16/1000\n",
            "15/15 [==============================] - 0s 4ms/step - loss: 0.8024 - accuracy: 0.7976 - val_loss: 0.7115 - val_accuracy: 0.9408\n",
            "Epoch 17/1000\n",
            "15/15 [==============================] - 0s 4ms/step - loss: 0.7752 - accuracy: 0.7970 - val_loss: 0.6737 - val_accuracy: 0.9457\n",
            "Epoch 18/1000\n",
            "15/15 [==============================] - 0s 4ms/step - loss: 0.7140 - accuracy: 0.8426 - val_loss: 0.6388 - val_accuracy: 0.9457\n",
            "Epoch 19/1000\n",
            "15/15 [==============================] - 0s 4ms/step - loss: 0.6922 - accuracy: 0.8415 - val_loss: 0.6067 - val_accuracy: 0.9441\n",
            "Epoch 20/1000\n",
            "15/15 [==============================] - 0s 4ms/step - loss: 0.6581 - accuracy: 0.8563 - val_loss: 0.5752 - val_accuracy: 0.9424\n",
            "Epoch 21/1000\n",
            "15/15 [==============================] - 0s 4ms/step - loss: 0.6482 - accuracy: 0.8426 - val_loss: 0.5477 - val_accuracy: 0.9441\n",
            "Epoch 22/1000\n",
            "15/15 [==============================] - 0s 4ms/step - loss: 0.6130 - accuracy: 0.8618 - val_loss: 0.5257 - val_accuracy: 0.9457\n",
            "Epoch 23/1000\n",
            "15/15 [==============================] - 0s 4ms/step - loss: 0.5925 - accuracy: 0.8596 - val_loss: 0.5042 - val_accuracy: 0.9474\n",
            "Epoch 24/1000\n",
            "15/15 [==============================] - 0s 4ms/step - loss: 0.5669 - accuracy: 0.8689 - val_loss: 0.4829 - val_accuracy: 0.9474\n",
            "Epoch 25/1000\n",
            "15/15 [==============================] - 0s 5ms/step - loss: 0.5482 - accuracy: 0.8859 - val_loss: 0.4645 - val_accuracy: 0.9474\n",
            "Epoch 26/1000\n",
            "15/15 [==============================] - 0s 4ms/step - loss: 0.5312 - accuracy: 0.8892 - val_loss: 0.4466 - val_accuracy: 0.9474\n",
            "Epoch 27/1000\n",
            "15/15 [==============================] - 0s 5ms/step - loss: 0.5200 - accuracy: 0.8897 - val_loss: 0.4321 - val_accuracy: 0.9474\n",
            "Epoch 28/1000\n",
            "15/15 [==============================] - 0s 5ms/step - loss: 0.4933 - accuracy: 0.8947 - val_loss: 0.4218 - val_accuracy: 0.9539\n",
            "Epoch 29/1000\n",
            "15/15 [==============================] - 0s 5ms/step - loss: 0.4842 - accuracy: 0.8914 - val_loss: 0.4108 - val_accuracy: 0.9539\n",
            "Epoch 30/1000\n",
            "15/15 [==============================] - 0s 4ms/step - loss: 0.4795 - accuracy: 0.8936 - val_loss: 0.4006 - val_accuracy: 0.9523\n",
            "Epoch 31/1000\n",
            "15/15 [==============================] - 0s 5ms/step - loss: 0.4453 - accuracy: 0.9007 - val_loss: 0.3894 - val_accuracy: 0.9539\n",
            "Epoch 32/1000\n",
            "15/15 [==============================] - 0s 5ms/step - loss: 0.4455 - accuracy: 0.9018 - val_loss: 0.3797 - val_accuracy: 0.9539\n",
            "Epoch 33/1000\n",
            "15/15 [==============================] - 0s 5ms/step - loss: 0.4332 - accuracy: 0.9007 - val_loss: 0.3721 - val_accuracy: 0.9539\n",
            "Epoch 34/1000\n",
            "15/15 [==============================] - 0s 5ms/step - loss: 0.4337 - accuracy: 0.9002 - val_loss: 0.3635 - val_accuracy: 0.9523\n",
            "Epoch 35/1000\n",
            "15/15 [==============================] - 0s 5ms/step - loss: 0.4367 - accuracy: 0.9007 - val_loss: 0.3568 - val_accuracy: 0.9523\n",
            "Epoch 36/1000\n",
            "15/15 [==============================] - 0s 5ms/step - loss: 0.4192 - accuracy: 0.8974 - val_loss: 0.3539 - val_accuracy: 0.9523\n",
            "Epoch 37/1000\n",
            "15/15 [==============================] - 0s 5ms/step - loss: 0.4074 - accuracy: 0.9095 - val_loss: 0.3471 - val_accuracy: 0.9523\n",
            "Epoch 38/1000\n",
            "15/15 [==============================] - 0s 5ms/step - loss: 0.3960 - accuracy: 0.9166 - val_loss: 0.3409 - val_accuracy: 0.9556\n",
            "Epoch 39/1000\n",
            "15/15 [==============================] - 0s 5ms/step - loss: 0.4026 - accuracy: 0.9183 - val_loss: 0.3352 - val_accuracy: 0.9556\n",
            "Epoch 40/1000\n",
            "15/15 [==============================] - 0s 5ms/step - loss: 0.3872 - accuracy: 0.9150 - val_loss: 0.3326 - val_accuracy: 0.9539\n",
            "Epoch 41/1000\n",
            "15/15 [==============================] - 0s 5ms/step - loss: 0.3834 - accuracy: 0.9177 - val_loss: 0.3303 - val_accuracy: 0.9556\n",
            "Epoch 42/1000\n",
            "15/15 [==============================] - 0s 5ms/step - loss: 0.3855 - accuracy: 0.9133 - val_loss: 0.3267 - val_accuracy: 0.9556\n",
            "Epoch 43/1000\n",
            "15/15 [==============================] - 0s 5ms/step - loss: 0.3627 - accuracy: 0.9254 - val_loss: 0.3252 - val_accuracy: 0.9556\n",
            "Epoch 44/1000\n",
            "15/15 [==============================] - 0s 5ms/step - loss: 0.3715 - accuracy: 0.9122 - val_loss: 0.3240 - val_accuracy: 0.9556\n",
            "Epoch 45/1000\n",
            "15/15 [==============================] - 0s 5ms/step - loss: 0.3614 - accuracy: 0.9172 - val_loss: 0.3219 - val_accuracy: 0.9572\n",
            "Epoch 46/1000\n",
            "15/15 [==============================] - 0s 5ms/step - loss: 0.3488 - accuracy: 0.9281 - val_loss: 0.3183 - val_accuracy: 0.9572\n",
            "Epoch 47/1000\n",
            "15/15 [==============================] - 0s 5ms/step - loss: 0.3337 - accuracy: 0.9287 - val_loss: 0.3160 - val_accuracy: 0.9572\n",
            "Epoch 48/1000\n",
            "15/15 [==============================] - 0s 5ms/step - loss: 0.3336 - accuracy: 0.9248 - val_loss: 0.3144 - val_accuracy: 0.9572\n",
            "Epoch 49/1000\n",
            "15/15 [==============================] - 0s 5ms/step - loss: 0.3389 - accuracy: 0.9270 - val_loss: 0.3133 - val_accuracy: 0.9572\n",
            "Epoch 50/1000\n",
            "15/15 [==============================] - 0s 5ms/step - loss: 0.3260 - accuracy: 0.9292 - val_loss: 0.3107 - val_accuracy: 0.9572\n",
            "Epoch 51/1000\n",
            "15/15 [==============================] - 0s 5ms/step - loss: 0.3325 - accuracy: 0.9254 - val_loss: 0.3098 - val_accuracy: 0.9572\n",
            "Epoch 52/1000\n",
            "15/15 [==============================] - 0s 5ms/step - loss: 0.3284 - accuracy: 0.9254 - val_loss: 0.3083 - val_accuracy: 0.9572\n",
            "Epoch 53/1000\n",
            "15/15 [==============================] - 0s 5ms/step - loss: 0.3310 - accuracy: 0.9298 - val_loss: 0.3071 - val_accuracy: 0.9572\n",
            "Epoch 54/1000\n",
            "15/15 [==============================] - 0s 5ms/step - loss: 0.3155 - accuracy: 0.9331 - val_loss: 0.3057 - val_accuracy: 0.9572\n",
            "Epoch 55/1000\n",
            "15/15 [==============================] - 0s 5ms/step - loss: 0.3052 - accuracy: 0.9314 - val_loss: 0.3043 - val_accuracy: 0.9572\n",
            "Epoch 56/1000\n",
            "15/15 [==============================] - 0s 5ms/step - loss: 0.3175 - accuracy: 0.9325 - val_loss: 0.3038 - val_accuracy: 0.9572\n",
            "Epoch 57/1000\n",
            "15/15 [==============================] - 0s 4ms/step - loss: 0.3269 - accuracy: 0.9287 - val_loss: 0.3031 - val_accuracy: 0.9572\n",
            "Epoch 58/1000\n",
            "15/15 [==============================] - 0s 6ms/step - loss: 0.3125 - accuracy: 0.9342 - val_loss: 0.3016 - val_accuracy: 0.9572\n",
            "Epoch 59/1000\n",
            "15/15 [==============================] - 0s 5ms/step - loss: 0.3110 - accuracy: 0.9314 - val_loss: 0.3029 - val_accuracy: 0.9589\n",
            "Epoch 60/1000\n",
            "15/15 [==============================] - 0s 5ms/step - loss: 0.3079 - accuracy: 0.9413 - val_loss: 0.3013 - val_accuracy: 0.9589\n",
            "Epoch 61/1000\n",
            "15/15 [==============================] - 0s 5ms/step - loss: 0.2973 - accuracy: 0.9364 - val_loss: 0.3010 - val_accuracy: 0.9589\n",
            "Epoch 62/1000\n",
            "15/15 [==============================] - 0s 5ms/step - loss: 0.2880 - accuracy: 0.9375 - val_loss: 0.3015 - val_accuracy: 0.9589\n",
            "Epoch 63/1000\n",
            "15/15 [==============================] - 0s 5ms/step - loss: 0.3045 - accuracy: 0.9364 - val_loss: 0.3003 - val_accuracy: 0.9589\n",
            "Epoch 64/1000\n",
            "15/15 [==============================] - 0s 5ms/step - loss: 0.3027 - accuracy: 0.9342 - val_loss: 0.2997 - val_accuracy: 0.9589\n",
            "Epoch 65/1000\n",
            "15/15 [==============================] - 0s 5ms/step - loss: 0.2878 - accuracy: 0.9419 - val_loss: 0.2992 - val_accuracy: 0.9589\n",
            "Epoch 66/1000\n",
            "15/15 [==============================] - 0s 5ms/step - loss: 0.2900 - accuracy: 0.9391 - val_loss: 0.2986 - val_accuracy: 0.9589\n",
            "Epoch 67/1000\n",
            "15/15 [==============================] - 0s 5ms/step - loss: 0.2738 - accuracy: 0.9435 - val_loss: 0.2970 - val_accuracy: 0.9589\n",
            "Epoch 68/1000\n",
            "15/15 [==============================] - 0s 5ms/step - loss: 0.2824 - accuracy: 0.9391 - val_loss: 0.2950 - val_accuracy: 0.9589\n",
            "Epoch 69/1000\n",
            "15/15 [==============================] - 0s 5ms/step - loss: 0.2877 - accuracy: 0.9358 - val_loss: 0.2943 - val_accuracy: 0.9589\n",
            "Epoch 70/1000\n",
            "15/15 [==============================] - 0s 5ms/step - loss: 0.2856 - accuracy: 0.9375 - val_loss: 0.2946 - val_accuracy: 0.9589\n",
            "Epoch 71/1000\n",
            "15/15 [==============================] - 0s 5ms/step - loss: 0.2946 - accuracy: 0.9353 - val_loss: 0.2919 - val_accuracy: 0.9589\n",
            "Epoch 72/1000\n",
            "15/15 [==============================] - 0s 5ms/step - loss: 0.2778 - accuracy: 0.9408 - val_loss: 0.2931 - val_accuracy: 0.9589\n",
            "Epoch 73/1000\n",
            "15/15 [==============================] - 0s 5ms/step - loss: 0.2773 - accuracy: 0.9419 - val_loss: 0.2943 - val_accuracy: 0.9589\n",
            "Epoch 74/1000\n",
            "15/15 [==============================] - 0s 5ms/step - loss: 0.2687 - accuracy: 0.9435 - val_loss: 0.2924 - val_accuracy: 0.9589\n",
            "Epoch 75/1000\n",
            "15/15 [==============================] - 0s 5ms/step - loss: 0.2862 - accuracy: 0.9397 - val_loss: 0.2915 - val_accuracy: 0.9589\n",
            "Epoch 76/1000\n",
            "15/15 [==============================] - 0s 5ms/step - loss: 0.2734 - accuracy: 0.9451 - val_loss: 0.2911 - val_accuracy: 0.9589\n",
            "Epoch 77/1000\n",
            "15/15 [==============================] - 0s 5ms/step - loss: 0.2637 - accuracy: 0.9413 - val_loss: 0.2913 - val_accuracy: 0.9589\n",
            "Epoch 78/1000\n",
            "15/15 [==============================] - 0s 5ms/step - loss: 0.2678 - accuracy: 0.9462 - val_loss: 0.2895 - val_accuracy: 0.9589\n",
            "Epoch 79/1000\n",
            "15/15 [==============================] - 0s 5ms/step - loss: 0.2802 - accuracy: 0.9386 - val_loss: 0.2878 - val_accuracy: 0.9589\n",
            "Epoch 80/1000\n",
            "15/15 [==============================] - 0s 5ms/step - loss: 0.2521 - accuracy: 0.9479 - val_loss: 0.2878 - val_accuracy: 0.9589\n",
            "Epoch 81/1000\n",
            "15/15 [==============================] - 0s 5ms/step - loss: 0.2824 - accuracy: 0.9380 - val_loss: 0.2872 - val_accuracy: 0.9589\n",
            "Epoch 82/1000\n",
            "15/15 [==============================] - 0s 4ms/step - loss: 0.2662 - accuracy: 0.9397 - val_loss: 0.2884 - val_accuracy: 0.9589\n",
            "Epoch 83/1000\n",
            "15/15 [==============================] - 0s 5ms/step - loss: 0.2697 - accuracy: 0.9451 - val_loss: 0.2871 - val_accuracy: 0.9589\n",
            "Epoch 84/1000\n",
            "15/15 [==============================] - 0s 5ms/step - loss: 0.2581 - accuracy: 0.9468 - val_loss: 0.2855 - val_accuracy: 0.9589\n",
            "Epoch 85/1000\n",
            "15/15 [==============================] - 0s 4ms/step - loss: 0.2520 - accuracy: 0.9468 - val_loss: 0.2846 - val_accuracy: 0.9589\n",
            "Epoch 86/1000\n",
            "15/15 [==============================] - 0s 5ms/step - loss: 0.2683 - accuracy: 0.9435 - val_loss: 0.2838 - val_accuracy: 0.9589\n",
            "Epoch 87/1000\n",
            "15/15 [==============================] - 0s 5ms/step - loss: 0.2459 - accuracy: 0.9495 - val_loss: 0.2835 - val_accuracy: 0.9589\n",
            "Epoch 88/1000\n",
            "15/15 [==============================] - 0s 5ms/step - loss: 0.2517 - accuracy: 0.9430 - val_loss: 0.2836 - val_accuracy: 0.9589\n",
            "Epoch 89/1000\n",
            "15/15 [==============================] - 0s 5ms/step - loss: 0.2617 - accuracy: 0.9424 - val_loss: 0.2826 - val_accuracy: 0.9589\n",
            "Epoch 90/1000\n",
            "15/15 [==============================] - 0s 5ms/step - loss: 0.2535 - accuracy: 0.9484 - val_loss: 0.2821 - val_accuracy: 0.9589\n",
            "Epoch 91/1000\n",
            "15/15 [==============================] - 0s 5ms/step - loss: 0.2535 - accuracy: 0.9479 - val_loss: 0.2816 - val_accuracy: 0.9589\n",
            "Epoch 92/1000\n",
            "15/15 [==============================] - 0s 5ms/step - loss: 0.2523 - accuracy: 0.9413 - val_loss: 0.2822 - val_accuracy: 0.9589\n",
            "Epoch 93/1000\n",
            "15/15 [==============================] - 0s 4ms/step - loss: 0.2428 - accuracy: 0.9479 - val_loss: 0.2813 - val_accuracy: 0.9589\n",
            "Epoch 94/1000\n",
            "15/15 [==============================] - 0s 5ms/step - loss: 0.2549 - accuracy: 0.9468 - val_loss: 0.2822 - val_accuracy: 0.9589\n",
            "Epoch 95/1000\n",
            "15/15 [==============================] - 0s 5ms/step - loss: 0.2475 - accuracy: 0.9490 - val_loss: 0.2815 - val_accuracy: 0.9589\n",
            "Epoch 96/1000\n",
            "15/15 [==============================] - 0s 5ms/step - loss: 0.2579 - accuracy: 0.9440 - val_loss: 0.2805 - val_accuracy: 0.9589\n",
            "Epoch 97/1000\n",
            "15/15 [==============================] - 0s 5ms/step - loss: 0.2468 - accuracy: 0.9468 - val_loss: 0.2804 - val_accuracy: 0.9589\n",
            "Epoch 98/1000\n",
            "15/15 [==============================] - 0s 5ms/step - loss: 0.2451 - accuracy: 0.9451 - val_loss: 0.2781 - val_accuracy: 0.9589\n",
            "Epoch 99/1000\n",
            "15/15 [==============================] - 0s 5ms/step - loss: 0.2568 - accuracy: 0.9413 - val_loss: 0.2776 - val_accuracy: 0.9589\n",
            "Epoch 100/1000\n",
            "15/15 [==============================] - 0s 5ms/step - loss: 0.2380 - accuracy: 0.9457 - val_loss: 0.2763 - val_accuracy: 0.9589\n",
            "Epoch 101/1000\n",
            "15/15 [==============================] - 0s 5ms/step - loss: 0.2577 - accuracy: 0.9386 - val_loss: 0.2773 - val_accuracy: 0.9589\n",
            "Epoch 102/1000\n",
            "15/15 [==============================] - 0s 5ms/step - loss: 0.2409 - accuracy: 0.9506 - val_loss: 0.2754 - val_accuracy: 0.9589\n",
            "Epoch 103/1000\n",
            "15/15 [==============================] - 0s 4ms/step - loss: 0.2351 - accuracy: 0.9539 - val_loss: 0.2738 - val_accuracy: 0.9589\n",
            "Epoch 104/1000\n",
            "15/15 [==============================] - 0s 5ms/step - loss: 0.2439 - accuracy: 0.9440 - val_loss: 0.2719 - val_accuracy: 0.9589\n",
            "Epoch 105/1000\n",
            "15/15 [==============================] - 0s 5ms/step - loss: 0.2314 - accuracy: 0.9479 - val_loss: 0.2716 - val_accuracy: 0.9589\n",
            "Epoch 106/1000\n",
            "15/15 [==============================] - 0s 5ms/step - loss: 0.2433 - accuracy: 0.9435 - val_loss: 0.2715 - val_accuracy: 0.9589\n",
            "Epoch 107/1000\n",
            "15/15 [==============================] - 0s 5ms/step - loss: 0.2343 - accuracy: 0.9479 - val_loss: 0.2709 - val_accuracy: 0.9589\n",
            "Epoch 108/1000\n",
            "15/15 [==============================] - 0s 5ms/step - loss: 0.2211 - accuracy: 0.9479 - val_loss: 0.2711 - val_accuracy: 0.9589\n",
            "Epoch 109/1000\n",
            "15/15 [==============================] - 0s 5ms/step - loss: 0.2432 - accuracy: 0.9440 - val_loss: 0.2716 - val_accuracy: 0.9589\n",
            "Epoch 110/1000\n",
            "15/15 [==============================] - 0s 5ms/step - loss: 0.2286 - accuracy: 0.9484 - val_loss: 0.2703 - val_accuracy: 0.9589\n",
            "Epoch 111/1000\n",
            "15/15 [==============================] - 0s 5ms/step - loss: 0.2164 - accuracy: 0.9572 - val_loss: 0.2689 - val_accuracy: 0.9589\n",
            "Epoch 112/1000\n",
            "15/15 [==============================] - 0s 5ms/step - loss: 0.2417 - accuracy: 0.9484 - val_loss: 0.2686 - val_accuracy: 0.9589\n",
            "Epoch 113/1000\n",
            "15/15 [==============================] - 0s 5ms/step - loss: 0.2308 - accuracy: 0.9501 - val_loss: 0.2675 - val_accuracy: 0.9589\n",
            "Epoch 114/1000\n",
            "15/15 [==============================] - 0s 5ms/step - loss: 0.2185 - accuracy: 0.9550 - val_loss: 0.2658 - val_accuracy: 0.9589\n",
            "Epoch 115/1000\n",
            "15/15 [==============================] - 0s 5ms/step - loss: 0.2250 - accuracy: 0.9545 - val_loss: 0.2651 - val_accuracy: 0.9589\n",
            "Epoch 116/1000\n",
            "15/15 [==============================] - 0s 5ms/step - loss: 0.2109 - accuracy: 0.9523 - val_loss: 0.2649 - val_accuracy: 0.9589\n",
            "Epoch 117/1000\n",
            "15/15 [==============================] - 0s 5ms/step - loss: 0.2344 - accuracy: 0.9430 - val_loss: 0.2652 - val_accuracy: 0.9589\n",
            "Epoch 118/1000\n",
            "15/15 [==============================] - 0s 5ms/step - loss: 0.2278 - accuracy: 0.9468 - val_loss: 0.2649 - val_accuracy: 0.9589\n",
            "Epoch 119/1000\n",
            "15/15 [==============================] - 0s 5ms/step - loss: 0.2178 - accuracy: 0.9567 - val_loss: 0.2632 - val_accuracy: 0.9589\n",
            "Epoch 120/1000\n",
            "15/15 [==============================] - 0s 5ms/step - loss: 0.2167 - accuracy: 0.9545 - val_loss: 0.2615 - val_accuracy: 0.9589\n",
            "Epoch 121/1000\n",
            "15/15 [==============================] - 0s 5ms/step - loss: 0.2251 - accuracy: 0.9468 - val_loss: 0.2612 - val_accuracy: 0.9589\n",
            "Epoch 122/1000\n",
            "15/15 [==============================] - 0s 5ms/step - loss: 0.2319 - accuracy: 0.9473 - val_loss: 0.2619 - val_accuracy: 0.9589\n",
            "Epoch 123/1000\n",
            "15/15 [==============================] - 0s 6ms/step - loss: 0.2267 - accuracy: 0.9534 - val_loss: 0.2611 - val_accuracy: 0.9589\n",
            "Epoch 124/1000\n",
            "15/15 [==============================] - 0s 5ms/step - loss: 0.2251 - accuracy: 0.9512 - val_loss: 0.2597 - val_accuracy: 0.9589\n",
            "Epoch 125/1000\n",
            "15/15 [==============================] - 0s 5ms/step - loss: 0.2258 - accuracy: 0.9523 - val_loss: 0.2593 - val_accuracy: 0.9589\n",
            "Epoch 126/1000\n",
            "15/15 [==============================] - 0s 5ms/step - loss: 0.2248 - accuracy: 0.9512 - val_loss: 0.2575 - val_accuracy: 0.9589\n",
            "Epoch 127/1000\n",
            "15/15 [==============================] - 0s 5ms/step - loss: 0.2104 - accuracy: 0.9506 - val_loss: 0.2568 - val_accuracy: 0.9589\n",
            "Epoch 128/1000\n",
            "15/15 [==============================] - 0s 5ms/step - loss: 0.2295 - accuracy: 0.9512 - val_loss: 0.2562 - val_accuracy: 0.9589\n",
            "Epoch 129/1000\n",
            "15/15 [==============================] - 0s 5ms/step - loss: 0.2249 - accuracy: 0.9468 - val_loss: 0.2563 - val_accuracy: 0.9589\n",
            "Epoch 130/1000\n",
            "15/15 [==============================] - 0s 5ms/step - loss: 0.2299 - accuracy: 0.9517 - val_loss: 0.2553 - val_accuracy: 0.9589\n",
            "Epoch 131/1000\n",
            "15/15 [==============================] - 0s 5ms/step - loss: 0.2113 - accuracy: 0.9484 - val_loss: 0.2546 - val_accuracy: 0.9589\n",
            "Epoch 132/1000\n",
            "15/15 [==============================] - 0s 5ms/step - loss: 0.2068 - accuracy: 0.9501 - val_loss: 0.2539 - val_accuracy: 0.9589\n",
            "Epoch 133/1000\n",
            "15/15 [==============================] - 0s 5ms/step - loss: 0.2189 - accuracy: 0.9501 - val_loss: 0.2535 - val_accuracy: 0.9589\n",
            "Epoch 134/1000\n",
            "15/15 [==============================] - 0s 5ms/step - loss: 0.2179 - accuracy: 0.9506 - val_loss: 0.2529 - val_accuracy: 0.9589\n",
            "Epoch 135/1000\n",
            "15/15 [==============================] - 0s 5ms/step - loss: 0.2263 - accuracy: 0.9506 - val_loss: 0.2517 - val_accuracy: 0.9589\n",
            "Epoch 136/1000\n",
            "15/15 [==============================] - 0s 5ms/step - loss: 0.2204 - accuracy: 0.9534 - val_loss: 0.2518 - val_accuracy: 0.9589\n",
            "Epoch 137/1000\n",
            "15/15 [==============================] - 0s 5ms/step - loss: 0.2137 - accuracy: 0.9506 - val_loss: 0.2517 - val_accuracy: 0.9589\n",
            "Epoch 138/1000\n",
            "15/15 [==============================] - 0s 5ms/step - loss: 0.2127 - accuracy: 0.9506 - val_loss: 0.2506 - val_accuracy: 0.9589\n",
            "Epoch 139/1000\n",
            "15/15 [==============================] - 0s 5ms/step - loss: 0.2152 - accuracy: 0.9479 - val_loss: 0.2499 - val_accuracy: 0.9589\n",
            "Epoch 140/1000\n",
            "15/15 [==============================] - 0s 5ms/step - loss: 0.1974 - accuracy: 0.9539 - val_loss: 0.2481 - val_accuracy: 0.9589\n",
            "Epoch 141/1000\n",
            "15/15 [==============================] - 0s 5ms/step - loss: 0.2113 - accuracy: 0.9506 - val_loss: 0.2484 - val_accuracy: 0.9556\n",
            "Epoch 142/1000\n",
            "15/15 [==============================] - 0s 5ms/step - loss: 0.2099 - accuracy: 0.9517 - val_loss: 0.2475 - val_accuracy: 0.9589\n",
            "Epoch 143/1000\n",
            "15/15 [==============================] - 0s 5ms/step - loss: 0.2069 - accuracy: 0.9550 - val_loss: 0.2459 - val_accuracy: 0.9589\n",
            "Epoch 144/1000\n",
            "15/15 [==============================] - 0s 5ms/step - loss: 0.2083 - accuracy: 0.9506 - val_loss: 0.2453 - val_accuracy: 0.9589\n",
            "Epoch 145/1000\n",
            "15/15 [==============================] - 0s 5ms/step - loss: 0.2176 - accuracy: 0.9506 - val_loss: 0.2444 - val_accuracy: 0.9589\n",
            "Epoch 146/1000\n",
            "15/15 [==============================] - 0s 5ms/step - loss: 0.2051 - accuracy: 0.9523 - val_loss: 0.2436 - val_accuracy: 0.9589\n",
            "Epoch 147/1000\n",
            "15/15 [==============================] - 0s 5ms/step - loss: 0.2090 - accuracy: 0.9506 - val_loss: 0.2428 - val_accuracy: 0.9589\n",
            "Epoch 148/1000\n",
            "15/15 [==============================] - 0s 5ms/step - loss: 0.2113 - accuracy: 0.9490 - val_loss: 0.2420 - val_accuracy: 0.9589\n",
            "Epoch 149/1000\n",
            "15/15 [==============================] - 0s 5ms/step - loss: 0.2175 - accuracy: 0.9490 - val_loss: 0.2417 - val_accuracy: 0.9589\n",
            "Epoch 150/1000\n",
            "15/15 [==============================] - 0s 5ms/step - loss: 0.1944 - accuracy: 0.9567 - val_loss: 0.2414 - val_accuracy: 0.9589\n",
            "Epoch 151/1000\n",
            "15/15 [==============================] - 0s 5ms/step - loss: 0.2056 - accuracy: 0.9517 - val_loss: 0.2414 - val_accuracy: 0.9589\n",
            "Epoch 152/1000\n",
            "15/15 [==============================] - 0s 5ms/step - loss: 0.2099 - accuracy: 0.9501 - val_loss: 0.2404 - val_accuracy: 0.9589\n",
            "Epoch 153/1000\n",
            "15/15 [==============================] - 0s 5ms/step - loss: 0.1959 - accuracy: 0.9556 - val_loss: 0.2391 - val_accuracy: 0.9589\n",
            "Epoch 154/1000\n",
            "15/15 [==============================] - 0s 5ms/step - loss: 0.2140 - accuracy: 0.9572 - val_loss: 0.2382 - val_accuracy: 0.9589\n",
            "Epoch 155/1000\n",
            "15/15 [==============================] - 0s 5ms/step - loss: 0.2073 - accuracy: 0.9550 - val_loss: 0.2356 - val_accuracy: 0.9589\n",
            "Epoch 156/1000\n",
            "15/15 [==============================] - 0s 5ms/step - loss: 0.2098 - accuracy: 0.9484 - val_loss: 0.2338 - val_accuracy: 0.9589\n",
            "Epoch 157/1000\n",
            "15/15 [==============================] - 0s 4ms/step - loss: 0.2055 - accuracy: 0.9479 - val_loss: 0.2339 - val_accuracy: 0.9589\n",
            "Epoch 158/1000\n",
            "15/15 [==============================] - 0s 5ms/step - loss: 0.2063 - accuracy: 0.9539 - val_loss: 0.2332 - val_accuracy: 0.9589\n",
            "Epoch 159/1000\n",
            "15/15 [==============================] - 0s 5ms/step - loss: 0.2026 - accuracy: 0.9556 - val_loss: 0.2322 - val_accuracy: 0.9589\n",
            "Epoch 160/1000\n",
            "15/15 [==============================] - 0s 5ms/step - loss: 0.2047 - accuracy: 0.9539 - val_loss: 0.2319 - val_accuracy: 0.9556\n",
            "Epoch 161/1000\n",
            "15/15 [==============================] - 0s 5ms/step - loss: 0.2126 - accuracy: 0.9506 - val_loss: 0.2275 - val_accuracy: 0.9589\n",
            "Epoch 162/1000\n",
            "15/15 [==============================] - 0s 5ms/step - loss: 0.2048 - accuracy: 0.9479 - val_loss: 0.2261 - val_accuracy: 0.9589\n",
            "Epoch 163/1000\n",
            "15/15 [==============================] - 0s 5ms/step - loss: 0.1926 - accuracy: 0.9539 - val_loss: 0.2268 - val_accuracy: 0.9572\n",
            "Epoch 164/1000\n",
            "15/15 [==============================] - 0s 5ms/step - loss: 0.2007 - accuracy: 0.9512 - val_loss: 0.2256 - val_accuracy: 0.9589\n",
            "Epoch 165/1000\n",
            "15/15 [==============================] - 0s 5ms/step - loss: 0.1885 - accuracy: 0.9550 - val_loss: 0.2247 - val_accuracy: 0.9589\n",
            "Epoch 166/1000\n",
            "15/15 [==============================] - 0s 5ms/step - loss: 0.1974 - accuracy: 0.9501 - val_loss: 0.2246 - val_accuracy: 0.9589\n",
            "Epoch 167/1000\n",
            "15/15 [==============================] - 0s 5ms/step - loss: 0.2000 - accuracy: 0.9572 - val_loss: 0.2254 - val_accuracy: 0.9556\n",
            "Epoch 168/1000\n",
            "15/15 [==============================] - 0s 5ms/step - loss: 0.2022 - accuracy: 0.9550 - val_loss: 0.2220 - val_accuracy: 0.9589\n",
            "Epoch 169/1000\n",
            "15/15 [==============================] - 0s 5ms/step - loss: 0.1965 - accuracy: 0.9556 - val_loss: 0.2204 - val_accuracy: 0.9589\n",
            "Epoch 170/1000\n",
            "15/15 [==============================] - 0s 5ms/step - loss: 0.1956 - accuracy: 0.9490 - val_loss: 0.2188 - val_accuracy: 0.9589\n",
            "Epoch 171/1000\n",
            "15/15 [==============================] - 0s 5ms/step - loss: 0.1970 - accuracy: 0.9523 - val_loss: 0.2184 - val_accuracy: 0.9589\n",
            "Epoch 172/1000\n",
            "15/15 [==============================] - 0s 7ms/step - loss: 0.1934 - accuracy: 0.9534 - val_loss: 0.2184 - val_accuracy: 0.9589\n",
            "Epoch 173/1000\n",
            "15/15 [==============================] - 0s 4ms/step - loss: 0.1829 - accuracy: 0.9572 - val_loss: 0.2183 - val_accuracy: 0.9556\n",
            "Epoch 174/1000\n",
            "15/15 [==============================] - 0s 5ms/step - loss: 0.1990 - accuracy: 0.9501 - val_loss: 0.2191 - val_accuracy: 0.9556\n",
            "Epoch 175/1000\n",
            "15/15 [==============================] - 0s 5ms/step - loss: 0.1950 - accuracy: 0.9512 - val_loss: 0.2197 - val_accuracy: 0.9556\n",
            "Epoch 176/1000\n",
            "15/15 [==============================] - 0s 5ms/step - loss: 0.1872 - accuracy: 0.9589 - val_loss: 0.2192 - val_accuracy: 0.9556\n",
            "Epoch 177/1000\n",
            "15/15 [==============================] - 0s 5ms/step - loss: 0.2033 - accuracy: 0.9528 - val_loss: 0.2184 - val_accuracy: 0.9556\n",
            "Epoch 178/1000\n",
            "15/15 [==============================] - 0s 5ms/step - loss: 0.1867 - accuracy: 0.9561 - val_loss: 0.2190 - val_accuracy: 0.9572\n",
            "Epoch 179/1000\n",
            "15/15 [==============================] - 0s 5ms/step - loss: 0.1840 - accuracy: 0.9605 - val_loss: 0.2180 - val_accuracy: 0.9572\n",
            "Epoch 180/1000\n",
            "15/15 [==============================] - 0s 5ms/step - loss: 0.1851 - accuracy: 0.9578 - val_loss: 0.2158 - val_accuracy: 0.9556\n",
            "Epoch 181/1000\n",
            "15/15 [==============================] - 0s 4ms/step - loss: 0.1931 - accuracy: 0.9572 - val_loss: 0.2154 - val_accuracy: 0.9556\n",
            "Epoch 182/1000\n",
            "15/15 [==============================] - 0s 5ms/step - loss: 0.1859 - accuracy: 0.9528 - val_loss: 0.2165 - val_accuracy: 0.9572\n",
            "Epoch 183/1000\n",
            "15/15 [==============================] - 0s 5ms/step - loss: 0.1839 - accuracy: 0.9600 - val_loss: 0.2159 - val_accuracy: 0.9572\n",
            "Epoch 184/1000\n",
            "15/15 [==============================] - 0s 5ms/step - loss: 0.1825 - accuracy: 0.9578 - val_loss: 0.2160 - val_accuracy: 0.9572\n",
            "Epoch 185/1000\n",
            "15/15 [==============================] - 0s 5ms/step - loss: 0.1887 - accuracy: 0.9556 - val_loss: 0.2156 - val_accuracy: 0.9589\n",
            "Epoch 186/1000\n",
            "15/15 [==============================] - 0s 5ms/step - loss: 0.1846 - accuracy: 0.9605 - val_loss: 0.2145 - val_accuracy: 0.9572\n",
            "Epoch 187/1000\n",
            "15/15 [==============================] - 0s 5ms/step - loss: 0.1841 - accuracy: 0.9550 - val_loss: 0.2129 - val_accuracy: 0.9556\n",
            "Epoch 188/1000\n",
            "15/15 [==============================] - 0s 5ms/step - loss: 0.1876 - accuracy: 0.9589 - val_loss: 0.2124 - val_accuracy: 0.9556\n",
            "Epoch 189/1000\n",
            "15/15 [==============================] - 0s 5ms/step - loss: 0.1826 - accuracy: 0.9550 - val_loss: 0.2118 - val_accuracy: 0.9572\n",
            "Epoch 190/1000\n",
            "15/15 [==============================] - 0s 5ms/step - loss: 0.1856 - accuracy: 0.9539 - val_loss: 0.2120 - val_accuracy: 0.9572\n",
            "Epoch 191/1000\n",
            "15/15 [==============================] - 0s 5ms/step - loss: 0.1874 - accuracy: 0.9545 - val_loss: 0.2118 - val_accuracy: 0.9572\n",
            "Epoch 192/1000\n",
            "15/15 [==============================] - 0s 5ms/step - loss: 0.1768 - accuracy: 0.9594 - val_loss: 0.2111 - val_accuracy: 0.9556\n",
            "Epoch 193/1000\n",
            "15/15 [==============================] - 0s 5ms/step - loss: 0.1879 - accuracy: 0.9556 - val_loss: 0.2108 - val_accuracy: 0.9556\n",
            "Epoch 194/1000\n",
            "15/15 [==============================] - 0s 5ms/step - loss: 0.1898 - accuracy: 0.9545 - val_loss: 0.2101 - val_accuracy: 0.9572\n",
            "Epoch 195/1000\n",
            "15/15 [==============================] - 0s 5ms/step - loss: 0.1835 - accuracy: 0.9534 - val_loss: 0.2103 - val_accuracy: 0.9589\n",
            "Epoch 196/1000\n",
            "15/15 [==============================] - 0s 5ms/step - loss: 0.1844 - accuracy: 0.9561 - val_loss: 0.2095 - val_accuracy: 0.9572\n",
            "Epoch 197/1000\n",
            "15/15 [==============================] - 0s 5ms/step - loss: 0.1782 - accuracy: 0.9583 - val_loss: 0.2086 - val_accuracy: 0.9572\n",
            "Epoch 198/1000\n",
            "15/15 [==============================] - 0s 5ms/step - loss: 0.1881 - accuracy: 0.9528 - val_loss: 0.2084 - val_accuracy: 0.9572\n",
            "Epoch 199/1000\n",
            "15/15 [==============================] - 0s 5ms/step - loss: 0.1889 - accuracy: 0.9561 - val_loss: 0.2095 - val_accuracy: 0.9589\n",
            "Epoch 200/1000\n",
            "15/15 [==============================] - 0s 5ms/step - loss: 0.1822 - accuracy: 0.9589 - val_loss: 0.2093 - val_accuracy: 0.9589\n",
            "Epoch 201/1000\n",
            "15/15 [==============================] - 0s 5ms/step - loss: 0.1881 - accuracy: 0.9550 - val_loss: 0.2079 - val_accuracy: 0.9572\n",
            "Epoch 202/1000\n",
            "15/15 [==============================] - 0s 5ms/step - loss: 0.1754 - accuracy: 0.9550 - val_loss: 0.2072 - val_accuracy: 0.9572\n",
            "Epoch 203/1000\n",
            "15/15 [==============================] - 0s 5ms/step - loss: 0.1764 - accuracy: 0.9545 - val_loss: 0.2079 - val_accuracy: 0.9589\n",
            "Epoch 204/1000\n",
            "15/15 [==============================] - 0s 5ms/step - loss: 0.1862 - accuracy: 0.9528 - val_loss: 0.2075 - val_accuracy: 0.9589\n",
            "Epoch 205/1000\n",
            "15/15 [==============================] - 0s 5ms/step - loss: 0.1817 - accuracy: 0.9545 - val_loss: 0.2067 - val_accuracy: 0.9589\n",
            "Epoch 206/1000\n",
            "15/15 [==============================] - 0s 5ms/step - loss: 0.1643 - accuracy: 0.9654 - val_loss: 0.2061 - val_accuracy: 0.9589\n",
            "Epoch 207/1000\n",
            "15/15 [==============================] - 0s 5ms/step - loss: 0.1828 - accuracy: 0.9506 - val_loss: 0.2056 - val_accuracy: 0.9589\n",
            "Epoch 208/1000\n",
            "15/15 [==============================] - 0s 5ms/step - loss: 0.1838 - accuracy: 0.9545 - val_loss: 0.2049 - val_accuracy: 0.9589\n",
            "Epoch 209/1000\n",
            "15/15 [==============================] - 0s 5ms/step - loss: 0.1881 - accuracy: 0.9545 - val_loss: 0.2031 - val_accuracy: 0.9589\n",
            "Epoch 210/1000\n",
            "15/15 [==============================] - 0s 4ms/step - loss: 0.1871 - accuracy: 0.9578 - val_loss: 0.2041 - val_accuracy: 0.9589\n",
            "Epoch 211/1000\n",
            "15/15 [==============================] - 0s 5ms/step - loss: 0.1894 - accuracy: 0.9561 - val_loss: 0.2028 - val_accuracy: 0.9589\n",
            "Epoch 212/1000\n",
            "15/15 [==============================] - 0s 5ms/step - loss: 0.1866 - accuracy: 0.9567 - val_loss: 0.2020 - val_accuracy: 0.9589\n",
            "Epoch 213/1000\n",
            "15/15 [==============================] - 0s 5ms/step - loss: 0.1641 - accuracy: 0.9605 - val_loss: 0.2026 - val_accuracy: 0.9589\n",
            "Epoch 214/1000\n",
            "15/15 [==============================] - 0s 5ms/step - loss: 0.1752 - accuracy: 0.9567 - val_loss: 0.2017 - val_accuracy: 0.9589\n",
            "Epoch 215/1000\n",
            "15/15 [==============================] - 0s 5ms/step - loss: 0.1714 - accuracy: 0.9578 - val_loss: 0.2018 - val_accuracy: 0.9589\n",
            "Epoch 216/1000\n",
            "15/15 [==============================] - 0s 6ms/step - loss: 0.1796 - accuracy: 0.9528 - val_loss: 0.2017 - val_accuracy: 0.9589\n",
            "Epoch 217/1000\n",
            "15/15 [==============================] - 0s 5ms/step - loss: 0.1717 - accuracy: 0.9561 - val_loss: 0.2020 - val_accuracy: 0.9589\n",
            "Epoch 218/1000\n",
            "15/15 [==============================] - 0s 5ms/step - loss: 0.1744 - accuracy: 0.9583 - val_loss: 0.2011 - val_accuracy: 0.9589\n",
            "Epoch 219/1000\n",
            "15/15 [==============================] - 0s 5ms/step - loss: 0.1759 - accuracy: 0.9567 - val_loss: 0.2001 - val_accuracy: 0.9589\n",
            "Epoch 220/1000\n",
            "15/15 [==============================] - 0s 5ms/step - loss: 0.1741 - accuracy: 0.9556 - val_loss: 0.1996 - val_accuracy: 0.9589\n",
            "Epoch 221/1000\n",
            "15/15 [==============================] - 0s 5ms/step - loss: 0.1873 - accuracy: 0.9506 - val_loss: 0.1989 - val_accuracy: 0.9589\n",
            "Epoch 222/1000\n",
            "15/15 [==============================] - 0s 5ms/step - loss: 0.1784 - accuracy: 0.9556 - val_loss: 0.1991 - val_accuracy: 0.9589\n",
            "Epoch 223/1000\n",
            "15/15 [==============================] - 0s 5ms/step - loss: 0.1761 - accuracy: 0.9578 - val_loss: 0.1984 - val_accuracy: 0.9589\n",
            "Epoch 224/1000\n",
            "15/15 [==============================] - 0s 5ms/step - loss: 0.1808 - accuracy: 0.9556 - val_loss: 0.1981 - val_accuracy: 0.9589\n",
            "Epoch 225/1000\n",
            "15/15 [==============================] - 0s 5ms/step - loss: 0.1753 - accuracy: 0.9550 - val_loss: 0.1990 - val_accuracy: 0.9589\n",
            "Epoch 226/1000\n",
            "15/15 [==============================] - 0s 5ms/step - loss: 0.1733 - accuracy: 0.9616 - val_loss: 0.1996 - val_accuracy: 0.9589\n",
            "Epoch 227/1000\n",
            "15/15 [==============================] - 0s 5ms/step - loss: 0.1779 - accuracy: 0.9611 - val_loss: 0.1983 - val_accuracy: 0.9589\n",
            "Epoch 228/1000\n",
            "15/15 [==============================] - 0s 5ms/step - loss: 0.1769 - accuracy: 0.9611 - val_loss: 0.1974 - val_accuracy: 0.9589\n",
            "Epoch 229/1000\n",
            "15/15 [==============================] - 0s 4ms/step - loss: 0.1804 - accuracy: 0.9517 - val_loss: 0.1968 - val_accuracy: 0.9589\n",
            "Epoch 230/1000\n",
            "15/15 [==============================] - 0s 5ms/step - loss: 0.1762 - accuracy: 0.9545 - val_loss: 0.1961 - val_accuracy: 0.9589\n",
            "Epoch 231/1000\n",
            "15/15 [==============================] - 0s 5ms/step - loss: 0.1802 - accuracy: 0.9528 - val_loss: 0.1959 - val_accuracy: 0.9589\n",
            "Epoch 232/1000\n",
            "15/15 [==============================] - 0s 5ms/step - loss: 0.1719 - accuracy: 0.9556 - val_loss: 0.1972 - val_accuracy: 0.9589\n",
            "Epoch 233/1000\n",
            "15/15 [==============================] - 0s 5ms/step - loss: 0.1733 - accuracy: 0.9583 - val_loss: 0.1956 - val_accuracy: 0.9589\n",
            "Epoch 234/1000\n",
            "15/15 [==============================] - 0s 5ms/step - loss: 0.1728 - accuracy: 0.9561 - val_loss: 0.1959 - val_accuracy: 0.9589\n",
            "Epoch 235/1000\n",
            "15/15 [==============================] - 0s 5ms/step - loss: 0.1709 - accuracy: 0.9572 - val_loss: 0.1967 - val_accuracy: 0.9589\n",
            "Epoch 236/1000\n",
            "15/15 [==============================] - 0s 5ms/step - loss: 0.1705 - accuracy: 0.9561 - val_loss: 0.1953 - val_accuracy: 0.9589\n",
            "Epoch 237/1000\n",
            "15/15 [==============================] - 0s 5ms/step - loss: 0.1877 - accuracy: 0.9517 - val_loss: 0.1937 - val_accuracy: 0.9589\n",
            "Epoch 238/1000\n",
            "15/15 [==============================] - 0s 5ms/step - loss: 0.1596 - accuracy: 0.9616 - val_loss: 0.1938 - val_accuracy: 0.9589\n",
            "Epoch 239/1000\n",
            "15/15 [==============================] - 0s 5ms/step - loss: 0.1637 - accuracy: 0.9605 - val_loss: 0.1938 - val_accuracy: 0.9589\n",
            "Epoch 240/1000\n",
            "15/15 [==============================] - 0s 5ms/step - loss: 0.1659 - accuracy: 0.9567 - val_loss: 0.1953 - val_accuracy: 0.9589\n",
            "Epoch 241/1000\n",
            "15/15 [==============================] - 0s 5ms/step - loss: 0.1706 - accuracy: 0.9561 - val_loss: 0.1927 - val_accuracy: 0.9589\n",
            "Epoch 242/1000\n",
            "15/15 [==============================] - 0s 5ms/step - loss: 0.1779 - accuracy: 0.9556 - val_loss: 0.1924 - val_accuracy: 0.9589\n",
            "Epoch 243/1000\n",
            "15/15 [==============================] - 0s 5ms/step - loss: 0.1851 - accuracy: 0.9479 - val_loss: 0.1922 - val_accuracy: 0.9589\n",
            "Epoch 244/1000\n",
            "15/15 [==============================] - 0s 5ms/step - loss: 0.1680 - accuracy: 0.9605 - val_loss: 0.1911 - val_accuracy: 0.9589\n",
            "Epoch 245/1000\n",
            "15/15 [==============================] - 0s 5ms/step - loss: 0.1678 - accuracy: 0.9572 - val_loss: 0.1907 - val_accuracy: 0.9589\n",
            "Epoch 246/1000\n",
            "15/15 [==============================] - 0s 5ms/step - loss: 0.1733 - accuracy: 0.9583 - val_loss: 0.1899 - val_accuracy: 0.9589\n",
            "Epoch 247/1000\n",
            "15/15 [==============================] - 0s 5ms/step - loss: 0.1666 - accuracy: 0.9572 - val_loss: 0.1890 - val_accuracy: 0.9589\n",
            "Epoch 248/1000\n",
            "15/15 [==============================] - 0s 5ms/step - loss: 0.1753 - accuracy: 0.9567 - val_loss: 0.1881 - val_accuracy: 0.9589\n",
            "Epoch 249/1000\n",
            "15/15 [==============================] - 0s 5ms/step - loss: 0.1846 - accuracy: 0.9506 - val_loss: 0.1878 - val_accuracy: 0.9589\n",
            "Epoch 250/1000\n",
            "15/15 [==============================] - 0s 5ms/step - loss: 0.1821 - accuracy: 0.9550 - val_loss: 0.1894 - val_accuracy: 0.9589\n",
            "Epoch 251/1000\n",
            "15/15 [==============================] - 0s 5ms/step - loss: 0.1834 - accuracy: 0.9534 - val_loss: 0.1890 - val_accuracy: 0.9589\n",
            "Epoch 252/1000\n",
            "15/15 [==============================] - 0s 6ms/step - loss: 0.1742 - accuracy: 0.9600 - val_loss: 0.1890 - val_accuracy: 0.9589\n",
            "Epoch 253/1000\n",
            "15/15 [==============================] - 0s 5ms/step - loss: 0.1711 - accuracy: 0.9561 - val_loss: 0.1893 - val_accuracy: 0.9589\n",
            "Epoch 254/1000\n",
            "15/15 [==============================] - 0s 5ms/step - loss: 0.1698 - accuracy: 0.9600 - val_loss: 0.1888 - val_accuracy: 0.9589\n",
            "Epoch 255/1000\n",
            "15/15 [==============================] - 0s 5ms/step - loss: 0.1705 - accuracy: 0.9594 - val_loss: 0.1879 - val_accuracy: 0.9589\n",
            "Epoch 256/1000\n",
            "15/15 [==============================] - 0s 5ms/step - loss: 0.1654 - accuracy: 0.9583 - val_loss: 0.1885 - val_accuracy: 0.9589\n",
            "Epoch 257/1000\n",
            "15/15 [==============================] - 0s 5ms/step - loss: 0.1680 - accuracy: 0.9572 - val_loss: 0.1883 - val_accuracy: 0.9589\n",
            "Epoch 258/1000\n",
            "15/15 [==============================] - 0s 5ms/step - loss: 0.1650 - accuracy: 0.9611 - val_loss: 0.1870 - val_accuracy: 0.9589\n",
            "Epoch 259/1000\n",
            "15/15 [==============================] - 0s 5ms/step - loss: 0.1663 - accuracy: 0.9578 - val_loss: 0.1875 - val_accuracy: 0.9589\n",
            "Epoch 260/1000\n",
            "15/15 [==============================] - 0s 5ms/step - loss: 0.1762 - accuracy: 0.9572 - val_loss: 0.1863 - val_accuracy: 0.9589\n",
            "Epoch 261/1000\n",
            "15/15 [==============================] - 0s 5ms/step - loss: 0.1734 - accuracy: 0.9572 - val_loss: 0.1869 - val_accuracy: 0.9589\n",
            "Epoch 262/1000\n",
            "15/15 [==============================] - 0s 5ms/step - loss: 0.1739 - accuracy: 0.9600 - val_loss: 0.1882 - val_accuracy: 0.9589\n",
            "Epoch 263/1000\n",
            "15/15 [==============================] - 0s 5ms/step - loss: 0.1679 - accuracy: 0.9567 - val_loss: 0.1879 - val_accuracy: 0.9589\n",
            "Epoch 264/1000\n",
            "15/15 [==============================] - 0s 5ms/step - loss: 0.1586 - accuracy: 0.9611 - val_loss: 0.1873 - val_accuracy: 0.9589\n",
            "Epoch 265/1000\n",
            "15/15 [==============================] - 0s 5ms/step - loss: 0.1640 - accuracy: 0.9583 - val_loss: 0.1863 - val_accuracy: 0.9589\n",
            "Epoch 266/1000\n",
            "15/15 [==============================] - 0s 5ms/step - loss: 0.1627 - accuracy: 0.9589 - val_loss: 0.1858 - val_accuracy: 0.9589\n",
            "Epoch 267/1000\n",
            "15/15 [==============================] - 0s 5ms/step - loss: 0.1660 - accuracy: 0.9578 - val_loss: 0.1850 - val_accuracy: 0.9589\n",
            "Epoch 268/1000\n",
            "15/15 [==============================] - 0s 5ms/step - loss: 0.1741 - accuracy: 0.9567 - val_loss: 0.1853 - val_accuracy: 0.9589\n",
            "Epoch 269/1000\n",
            "15/15 [==============================] - 0s 5ms/step - loss: 0.1659 - accuracy: 0.9583 - val_loss: 0.1850 - val_accuracy: 0.9589\n",
            "Epoch 270/1000\n",
            "15/15 [==============================] - 0s 5ms/step - loss: 0.1709 - accuracy: 0.9578 - val_loss: 0.1851 - val_accuracy: 0.9589\n",
            "Epoch 271/1000\n",
            "15/15 [==============================] - 0s 5ms/step - loss: 0.1674 - accuracy: 0.9572 - val_loss: 0.1842 - val_accuracy: 0.9589\n",
            "Epoch 272/1000\n",
            "15/15 [==============================] - 0s 5ms/step - loss: 0.1650 - accuracy: 0.9583 - val_loss: 0.1848 - val_accuracy: 0.9589\n",
            "Epoch 273/1000\n",
            "15/15 [==============================] - 0s 5ms/step - loss: 0.1670 - accuracy: 0.9578 - val_loss: 0.1843 - val_accuracy: 0.9589\n",
            "Epoch 274/1000\n",
            "15/15 [==============================] - 0s 5ms/step - loss: 0.1670 - accuracy: 0.9605 - val_loss: 0.1835 - val_accuracy: 0.9589\n",
            "Epoch 275/1000\n",
            "15/15 [==============================] - 0s 5ms/step - loss: 0.1699 - accuracy: 0.9567 - val_loss: 0.1839 - val_accuracy: 0.9589\n",
            "Epoch 276/1000\n",
            "15/15 [==============================] - 0s 5ms/step - loss: 0.1706 - accuracy: 0.9583 - val_loss: 0.1845 - val_accuracy: 0.9589\n",
            "Epoch 277/1000\n",
            "15/15 [==============================] - 0s 5ms/step - loss: 0.1709 - accuracy: 0.9534 - val_loss: 0.1849 - val_accuracy: 0.9589\n",
            "Epoch 278/1000\n",
            "15/15 [==============================] - 0s 5ms/step - loss: 0.1644 - accuracy: 0.9589 - val_loss: 0.1835 - val_accuracy: 0.9589\n",
            "Epoch 279/1000\n",
            "15/15 [==============================] - 0s 5ms/step - loss: 0.1599 - accuracy: 0.9572 - val_loss: 0.1830 - val_accuracy: 0.9589\n",
            "Epoch 280/1000\n",
            "15/15 [==============================] - 0s 5ms/step - loss: 0.1737 - accuracy: 0.9567 - val_loss: 0.1829 - val_accuracy: 0.9589\n",
            "Epoch 281/1000\n",
            "15/15 [==============================] - 0s 5ms/step - loss: 0.1640 - accuracy: 0.9572 - val_loss: 0.1834 - val_accuracy: 0.9589\n",
            "Epoch 282/1000\n",
            "15/15 [==============================] - 0s 5ms/step - loss: 0.1680 - accuracy: 0.9561 - val_loss: 0.1829 - val_accuracy: 0.9589\n",
            "Epoch 283/1000\n",
            "15/15 [==============================] - 0s 5ms/step - loss: 0.1777 - accuracy: 0.9545 - val_loss: 0.1819 - val_accuracy: 0.9589\n",
            "Epoch 284/1000\n",
            "15/15 [==============================] - 0s 5ms/step - loss: 0.1638 - accuracy: 0.9600 - val_loss: 0.1819 - val_accuracy: 0.9589\n",
            "Epoch 285/1000\n",
            "15/15 [==============================] - 0s 5ms/step - loss: 0.1779 - accuracy: 0.9523 - val_loss: 0.1820 - val_accuracy: 0.9589\n",
            "Epoch 286/1000\n",
            "15/15 [==============================] - 0s 5ms/step - loss: 0.1737 - accuracy: 0.9545 - val_loss: 0.1830 - val_accuracy: 0.9589\n",
            "Epoch 287/1000\n",
            "15/15 [==============================] - 0s 5ms/step - loss: 0.1584 - accuracy: 0.9611 - val_loss: 0.1809 - val_accuracy: 0.9589\n",
            "Epoch 288/1000\n",
            "15/15 [==============================] - 0s 6ms/step - loss: 0.1561 - accuracy: 0.9622 - val_loss: 0.1813 - val_accuracy: 0.9589\n",
            "Epoch 289/1000\n",
            "15/15 [==============================] - 0s 5ms/step - loss: 0.1703 - accuracy: 0.9600 - val_loss: 0.1810 - val_accuracy: 0.9589\n",
            "Epoch 290/1000\n",
            "15/15 [==============================] - 0s 5ms/step - loss: 0.1590 - accuracy: 0.9643 - val_loss: 0.1804 - val_accuracy: 0.9589\n",
            "Epoch 291/1000\n",
            "15/15 [==============================] - 0s 5ms/step - loss: 0.1638 - accuracy: 0.9594 - val_loss: 0.1806 - val_accuracy: 0.9589\n",
            "Epoch 292/1000\n",
            "15/15 [==============================] - 0s 5ms/step - loss: 0.1547 - accuracy: 0.9616 - val_loss: 0.1814 - val_accuracy: 0.9589\n",
            "Epoch 293/1000\n",
            "15/15 [==============================] - 0s 5ms/step - loss: 0.1510 - accuracy: 0.9600 - val_loss: 0.1812 - val_accuracy: 0.9589\n",
            "Epoch 294/1000\n",
            "15/15 [==============================] - 0s 5ms/step - loss: 0.1669 - accuracy: 0.9589 - val_loss: 0.1811 - val_accuracy: 0.9589\n",
            "Epoch 295/1000\n",
            "15/15 [==============================] - 0s 5ms/step - loss: 0.1682 - accuracy: 0.9605 - val_loss: 0.1805 - val_accuracy: 0.9589\n",
            "Epoch 296/1000\n",
            "15/15 [==============================] - 0s 4ms/step - loss: 0.1595 - accuracy: 0.9605 - val_loss: 0.1808 - val_accuracy: 0.9589\n",
            "Epoch 297/1000\n",
            "15/15 [==============================] - 0s 5ms/step - loss: 0.1557 - accuracy: 0.9594 - val_loss: 0.1812 - val_accuracy: 0.9589\n",
            "Epoch 298/1000\n",
            "15/15 [==============================] - 0s 5ms/step - loss: 0.1583 - accuracy: 0.9611 - val_loss: 0.1816 - val_accuracy: 0.9589\n",
            "Epoch 299/1000\n",
            "15/15 [==============================] - 0s 5ms/step - loss: 0.1515 - accuracy: 0.9638 - val_loss: 0.1825 - val_accuracy: 0.9589\n",
            "Epoch 300/1000\n",
            "15/15 [==============================] - 0s 5ms/step - loss: 0.1582 - accuracy: 0.9627 - val_loss: 0.1835 - val_accuracy: 0.9589\n",
            "Epoch 301/1000\n",
            "15/15 [==============================] - 0s 5ms/step - loss: 0.1538 - accuracy: 0.9589 - val_loss: 0.1825 - val_accuracy: 0.9589\n",
            "Epoch 302/1000\n",
            "15/15 [==============================] - 0s 5ms/step - loss: 0.1594 - accuracy: 0.9589 - val_loss: 0.1808 - val_accuracy: 0.9589\n",
            "Epoch 303/1000\n",
            "15/15 [==============================] - 0s 5ms/step - loss: 0.1497 - accuracy: 0.9611 - val_loss: 0.1815 - val_accuracy: 0.9589\n",
            "Epoch 304/1000\n",
            "15/15 [==============================] - 0s 5ms/step - loss: 0.1582 - accuracy: 0.9622 - val_loss: 0.1823 - val_accuracy: 0.9589\n",
            "Epoch 305/1000\n",
            "15/15 [==============================] - 0s 5ms/step - loss: 0.1655 - accuracy: 0.9605 - val_loss: 0.1830 - val_accuracy: 0.9589\n",
            "Epoch 306/1000\n",
            "15/15 [==============================] - 0s 5ms/step - loss: 0.1512 - accuracy: 0.9622 - val_loss: 0.1820 - val_accuracy: 0.9589\n",
            "Epoch 307/1000\n",
            "15/15 [==============================] - 0s 5ms/step - loss: 0.1698 - accuracy: 0.9578 - val_loss: 0.1815 - val_accuracy: 0.9589\n",
            "Epoch 308/1000\n",
            "15/15 [==============================] - 0s 4ms/step - loss: 0.1609 - accuracy: 0.9589 - val_loss: 0.1811 - val_accuracy: 0.9589\n",
            "Epoch 309/1000\n",
            "15/15 [==============================] - 0s 4ms/step - loss: 0.1703 - accuracy: 0.9589 - val_loss: 0.1814 - val_accuracy: 0.9589\n",
            "Epoch 310/1000\n",
            "15/15 [==============================] - 0s 5ms/step - loss: 0.1670 - accuracy: 0.9589 - val_loss: 0.1826 - val_accuracy: 0.9589\n",
            "Epoch 310: early stopping\n"
          ]
        },
        {
          "data": {
            "text/plain": [
              "<keras.callbacks.History at 0x1ccd6f91730>"
            ]
          },
          "execution_count": 32,
          "metadata": {},
          "output_type": "execute_result"
        }
      ],
      "source": [
        "model.fit( X_train, y_train, epochs=1000, batch_size=128, validation_data=(X_test, y_test), callbacks=[cp_callback, Earlystopping_callback] )"
      ]
    },
    {
      "cell_type": "markdown",
      "metadata": {
        "id": "-MYEi2rCHM8W"
      },
      "source": [
        "**Model Summary**"
      ]
    },
    {
      "cell_type": "code",
      "execution_count": 33,
      "metadata": {
        "id": "_SdpF4ABHMaf"
      },
      "outputs": [
        {
          "name": "stdout",
          "output_type": "stream",
          "text": [
            "Model: \"sequential\"\n",
            "_________________________________________________________________\n",
            " Layer (type)                Output Shape              Param #   \n",
            "=================================================================\n",
            " dropout (Dropout)           (None, 32)                0         \n",
            "                                                                 \n",
            " dense (Dense)               (None, 24)                792       \n",
            "                                                                 \n",
            " dropout_1 (Dropout)         (None, 24)                0         \n",
            "                                                                 \n",
            " dense_1 (Dense)             (None, 10)                250       \n",
            "                                                                 \n",
            " dense_2 (Dense)             (None, 5)                 55        \n",
            "                                                                 \n",
            "=================================================================\n",
            "Total params: 1,097\n",
            "Trainable params: 1,097\n",
            "Non-trainable params: 0\n",
            "_________________________________________________________________\n"
          ]
        }
      ],
      "source": [
        "model.summary()"
      ]
    },
    {
      "cell_type": "markdown",
      "metadata": {
        "id": "80ainbBnHaUF"
      },
      "source": [
        "**Save Weights**\n"
      ]
    },
    {
      "cell_type": "code",
      "execution_count": 34,
      "metadata": {},
      "outputs": [
        {
          "name": "stdout",
          "output_type": "stream",
          "text": [
            "7/7 [==============================] - 0s 1ms/step - loss: 0.1826 - accuracy: 0.9589\n"
          ]
        }
      ],
      "source": [
        "# モデル評価\n",
        "val_loss, val_acc = model.evaluate(X_test, y_test, batch_size=100)"
      ]
    },
    {
      "cell_type": "code",
      "execution_count": 35,
      "metadata": {
        "id": "TohRVMTjHRRN"
      },
      "outputs": [],
      "source": [
        "model.save(model_save_path, include_optimizer=False)"
      ]
    },
    {
      "cell_type": "markdown",
      "metadata": {
        "id": "EqgxK0QnH-1F"
      },
      "source": [
        "**Test the model ( Make Predictions )**"
      ]
    },
    {
      "cell_type": "code",
      "execution_count": 36,
      "metadata": {},
      "outputs": [
        {
          "name": "stdout",
          "output_type": "stream",
          "text": [
            "WARNING:tensorflow:No training configuration found in the save file, so the model was *not* compiled. Compile it manually.\n"
          ]
        }
      ],
      "source": [
        "from keras.models import load_model\n",
        "model = load_model(model_save_path)"
      ]
    },
    {
      "cell_type": "code",
      "execution_count": 37,
      "metadata": {
        "id": "dVKeVOYEHt29"
      },
      "outputs": [
        {
          "name": "stdout",
          "output_type": "stream",
          "text": [
            "1/1 [==============================] - 0s 70ms/step\n",
            "[0.952886   0.02034619 0.00559157 0.00375919 0.01741693]\n",
            "0\n",
            "stop\n"
          ]
        }
      ],
      "source": [
        "predict_result = model.predict(np.array([X_test[0]]))\n",
        "print(np.squeeze(predict_result))\n",
        "print(np.argmax(np.squeeze(predict_result)))\n",
        "print(actions[np.argmax(np.squeeze(predict_result))])\n"
      ]
    },
    {
      "cell_type": "markdown",
      "metadata": {
        "id": "ST-k7UC4HtIu"
      },
      "source": [
        "Evaluate The Model\n",
        "\n",
        "Confusion matrix"
      ]
    },
    {
      "cell_type": "code",
      "execution_count": 38,
      "metadata": {},
      "outputs": [
        {
          "name": "stdout",
          "output_type": "stream",
          "text": [
            "Requirement already satisfied: seaborn in c:\\users\\kibbou\\appdata\\local\\packages\\pythonsoftwarefoundation.python.3.9_qbz5n2kfra8p0\\localcache\\local-packages\\python39\\site-packages (0.12.2)\n",
            "Requirement already satisfied: numpy!=1.24.0,>=1.17 in c:\\users\\kibbou\\appdata\\local\\packages\\pythonsoftwarefoundation.python.3.9_qbz5n2kfra8p0\\localcache\\local-packages\\python39\\site-packages (from seaborn) (1.23.5)\n",
            "Requirement already satisfied: pandas>=0.25 in c:\\users\\kibbou\\appdata\\local\\packages\\pythonsoftwarefoundation.python.3.9_qbz5n2kfra8p0\\localcache\\local-packages\\python39\\site-packages (from seaborn) (2.0.1)\n",
            "Requirement already satisfied: matplotlib!=3.6.1,>=3.1 in c:\\users\\kibbou\\appdata\\local\\packages\\pythonsoftwarefoundation.python.3.9_qbz5n2kfra8p0\\localcache\\local-packages\\python39\\site-packages (from seaborn) (3.7.1)\n",
            "Requirement already satisfied: contourpy>=1.0.1 in c:\\users\\kibbou\\appdata\\local\\packages\\pythonsoftwarefoundation.python.3.9_qbz5n2kfra8p0\\localcache\\local-packages\\python39\\site-packages (from matplotlib!=3.6.1,>=3.1->seaborn) (1.0.7)\n",
            "Requirement already satisfied: cycler>=0.10 in c:\\users\\kibbou\\appdata\\local\\packages\\pythonsoftwarefoundation.python.3.9_qbz5n2kfra8p0\\localcache\\local-packages\\python39\\site-packages (from matplotlib!=3.6.1,>=3.1->seaborn) (0.11.0)\n",
            "Requirement already satisfied: fonttools>=4.22.0 in c:\\users\\kibbou\\appdata\\local\\packages\\pythonsoftwarefoundation.python.3.9_qbz5n2kfra8p0\\localcache\\local-packages\\python39\\site-packages (from matplotlib!=3.6.1,>=3.1->seaborn) (4.39.0)\n",
            "Requirement already satisfied: kiwisolver>=1.0.1 in c:\\users\\kibbou\\appdata\\local\\packages\\pythonsoftwarefoundation.python.3.9_qbz5n2kfra8p0\\localcache\\local-packages\\python39\\site-packages (from matplotlib!=3.6.1,>=3.1->seaborn) (1.4.4)\n",
            "Requirement already satisfied: packaging>=20.0 in c:\\users\\kibbou\\appdata\\local\\packages\\pythonsoftwarefoundation.python.3.9_qbz5n2kfra8p0\\localcache\\local-packages\\python39\\site-packages (from matplotlib!=3.6.1,>=3.1->seaborn) (23.0)\n",
            "Requirement already satisfied: pillow>=6.2.0 in c:\\users\\kibbou\\appdata\\local\\packages\\pythonsoftwarefoundation.python.3.9_qbz5n2kfra8p0\\localcache\\local-packages\\python39\\site-packages (from matplotlib!=3.6.1,>=3.1->seaborn) (9.4.0)\n",
            "Requirement already satisfied: pyparsing>=2.3.1 in c:\\users\\kibbou\\appdata\\local\\packages\\pythonsoftwarefoundation.python.3.9_qbz5n2kfra8p0\\localcache\\local-packages\\python39\\site-packages (from matplotlib!=3.6.1,>=3.1->seaborn) (3.0.9)\n",
            "Requirement already satisfied: python-dateutil>=2.7 in c:\\users\\kibbou\\appdata\\local\\packages\\pythonsoftwarefoundation.python.3.9_qbz5n2kfra8p0\\localcache\\local-packages\\python39\\site-packages (from matplotlib!=3.6.1,>=3.1->seaborn) (2.8.2)\n",
            "Requirement already satisfied: importlib-resources>=3.2.0 in c:\\users\\kibbou\\appdata\\local\\packages\\pythonsoftwarefoundation.python.3.9_qbz5n2kfra8p0\\localcache\\local-packages\\python39\\site-packages (from matplotlib!=3.6.1,>=3.1->seaborn) (5.12.0)\n",
            "Requirement already satisfied: pytz>=2020.1 in c:\\users\\kibbou\\appdata\\local\\packages\\pythonsoftwarefoundation.python.3.9_qbz5n2kfra8p0\\localcache\\local-packages\\python39\\site-packages (from pandas>=0.25->seaborn) (2023.3)\n",
            "Requirement already satisfied: tzdata>=2022.1 in c:\\users\\kibbou\\appdata\\local\\packages\\pythonsoftwarefoundation.python.3.9_qbz5n2kfra8p0\\localcache\\local-packages\\python39\\site-packages (from pandas>=0.25->seaborn) (2023.3)\n",
            "Requirement already satisfied: zipp>=3.1.0 in c:\\users\\kibbou\\appdata\\local\\packages\\pythonsoftwarefoundation.python.3.9_qbz5n2kfra8p0\\localcache\\local-packages\\python39\\site-packages (from importlib-resources>=3.2.0->matplotlib!=3.6.1,>=3.1->seaborn) (3.15.0)\n",
            "Requirement already satisfied: six>=1.5 in c:\\users\\kibbou\\appdata\\local\\packages\\pythonsoftwarefoundation.python.3.9_qbz5n2kfra8p0\\localcache\\local-packages\\python39\\site-packages (from python-dateutil>=2.7->matplotlib!=3.6.1,>=3.1->seaborn) (1.16.0)\n",
            "Note: you may need to restart the kernel to use updated packages.\n"
          ]
        }
      ],
      "source": [
        "%pip install seaborn"
      ]
    },
    {
      "cell_type": "code",
      "execution_count": 39,
      "metadata": {
        "id": "BJlhMcP9IrH_"
      },
      "outputs": [
        {
          "name": "stdout",
          "output_type": "stream",
          "text": [
            "19/19 [==============================] - 0s 889us/step\n"
          ]
        },
        {
          "data": {
            "image/png": "[encoded data removed]",
            "text/plain": [
              "<Figure size 700x600 with 2 Axes>"
            ]
          },
          "metadata": {},
          "output_type": "display_data"
        },
        {
          "name": "stdout",
          "output_type": "stream",
          "text": [
            "Classification Report\n",
            "              precision    recall  f1-score   support\n",
            "\n",
            "           0       0.94      0.99      0.96       153\n",
            "           1       0.96      0.96      0.96       141\n",
            "           2       0.96      0.98      0.97       135\n",
            "           3       1.00      0.89      0.94        83\n",
            "           4       0.97      0.95      0.96        96\n",
            "\n",
            "    accuracy                           0.96       608\n",
            "   macro avg       0.96      0.95      0.96       608\n",
            "weighted avg       0.96      0.96      0.96       608\n",
            "\n"
          ]
        }
      ],
      "source": [
        "import pandas as pd\n",
        "import seaborn as sns\n",
        "import matplotlib.pyplot as plt\n",
        "from sklearn.metrics import confusion_matrix, classification_report\n",
        "\n",
        "def print_confusion_matrix(y_true, y_pred, report=True):\n",
        "    labels = sorted(list(set(y_true)))\n",
        "    cmx_data = confusion_matrix(y_true, y_pred, labels=labels)\n",
        "    \n",
        "    df_cmx = pd.DataFrame(cmx_data, index=labels, columns=labels)\n",
        " \n",
        "    fig, ax = plt.subplots(figsize=(7, 6))\n",
        "    sns.heatmap(df_cmx, annot=True, fmt='g' ,square=False)\n",
        "    ax.set_ylim(len(set(y_true)), 0)\n",
        "    plt.show()\n",
        "    \n",
        "    if report:\n",
        "        print('Classification Report')\n",
        "        print(classification_report(y_test, y_pred))\n",
        "\n",
        "Y_pred = model.predict(X_test)\n",
        "y_pred = np.argmax(Y_pred, axis=1)\n",
        "\n",
        "print_confusion_matrix(y_test, y_pred)"
      ]
    },
    {
      "cell_type": "markdown",
      "metadata": {
        "id": "YOjMMGaQMTJT"
      },
      "source": [
        "# Convert to model for Tensorflow-Lite"
      ]
    },
    {
      "cell_type": "markdown",
      "metadata": {
        "id": "918YSOd1MT6w"
      },
      "source": [
        "\n",
        "**Save as a model dedicated to inference**\n"
      ]
    },
    {
      "cell_type": "code",
      "execution_count": 40,
      "metadata": {
        "id": "pP65LqTnMYmg"
      },
      "outputs": [
        {
          "name": "stdout",
          "output_type": "stream",
          "text": [
            "WARNING:tensorflow:No training configuration found in the save file, so the model was *not* compiled. Compile it manually.\n"
          ]
        }
      ],
      "source": [
        "model = tf.keras.models.load_model(model_save_path)"
      ]
    },
    {
      "cell_type": "code",
      "execution_count": 41,
      "metadata": {
        "id": "cIvusWueOUeG"
      },
      "outputs": [],
      "source": [
        "tflite_save_path = 'Gestures_classifier.tflite'"
      ]
    },
    {
      "cell_type": "markdown",
      "metadata": {
        "id": "6_VdeUznPAQH"
      },
      "source": [
        "**Transform model (quantization)**"
      ]
    },
    {
      "cell_type": "code",
      "execution_count": 42,
      "metadata": {
        "id": "2SFZL0OIO5XO"
      },
      "outputs": [
        {
          "name": "stdout",
          "output_type": "stream",
          "text": [
            "INFO:tensorflow:Assets written to: C:\\Users\\Kibbou\\AppData\\Local\\Temp\\tmpts5l81nm\\assets\n"
          ]
        },
        {
          "data": {
            "text/plain": [
              "6476"
            ]
          },
          "execution_count": 42,
          "metadata": {},
          "output_type": "execute_result"
        }
      ],
      "source": [
        "converter = tf.lite.TFLiteConverter.from_keras_model(model)  # converter = tf.lite.TFLiteConverter.from_saved_model(saved_model_path)\n",
        "converter.optimizations = [tf.lite.Optimize.DEFAULT]\n",
        "tflite_quantized_model = converter.convert()\n",
        "\n",
        "open(tflite_save_path, 'wb').write(tflite_quantized_model)"
      ]
    },
    {
      "cell_type": "markdown",
      "metadata": {
        "id": "m0NFsx5IPLNu"
      },
      "source": [
        "**Inference test**"
      ]
    },
    {
      "cell_type": "code",
      "execution_count": 43,
      "metadata": {
        "id": "vlJdomaNPCdl"
      },
      "outputs": [],
      "source": [
        "interpreter = tf.lite.Interpreter(model_path=tflite_save_path)\n",
        "interpreter.allocate_tensors()"
      ]
    },
    {
      "cell_type": "code",
      "execution_count": 44,
      "metadata": {
        "id": "ixfMtwVlPNpO"
      },
      "outputs": [
        {
          "name": "stdout",
          "output_type": "stream",
          "text": [
            "[{'name': 'serving_default_input_1:0', 'index': 0, 'shape': array([ 1, 32]), 'shape_signature': array([-1, 32]), 'dtype': <class 'numpy.float32'>, 'quantization': (0.0, 0), 'quantization_parameters': {'scales': array([], dtype=float32), 'zero_points': array([], dtype=int32), 'quantized_dimension': 0}, 'sparsity_parameters': {}}]\n"
          ]
        }
      ],
      "source": [
        "# get input/output tensor\n",
        "input_details = interpreter.get_input_details()\n",
        "output_details = interpreter.get_output_details()\n",
        "print(input_details)"
      ]
    },
    {
      "cell_type": "code",
      "execution_count": 45,
      "metadata": {
        "id": "mns-mOWFPUzg"
      },
      "outputs": [],
      "source": [
        "interpreter.set_tensor(input_details[0]['index'], np.array([X_test[0]]))"
      ]
    },
    {
      "cell_type": "code",
      "execution_count": 46,
      "metadata": {
        "id": "4MaRZsDCPYQu"
      },
      "outputs": [
        {
          "name": "stdout",
          "output_type": "stream",
          "text": [
            "CPU times: total: 0 ns\n",
            "Wall time: 0 ns\n"
          ]
        }
      ],
      "source": [
        "%%time\n",
        "# Inference implementation\n",
        "interpreter.invoke()           \n",
        "tflite_results = interpreter.get_tensor(output_details[0]['index'])"
      ]
    },
    {
      "cell_type": "code",
      "execution_count": 47,
      "metadata": {
        "id": "KOwMkRnRPmAU"
      },
      "outputs": [
        {
          "name": "stdout",
          "output_type": "stream",
          "text": [
            "[0.952886   0.02034618 0.00559157 0.00375919 0.01741692]\n",
            "0\n"
          ]
        }
      ],
      "source": [
        "print(np.squeeze(tflite_results))\n",
        "print(np.argmax(np.squeeze(tflite_results)))"
      ]
    }
  ],
  "metadata": {
    "colab": {
      "provenance": []
    },
    "kernelspec": {
      "display_name": "base",
      "language": "python",
      "name": "python3"
    },
    "language_info": {
      "codemirror_mode": {
        "name": "ipython",
        "version": 3
      },
      "file_extension": ".py",
      "mimetype": "text/x-python",
      "name": "python",
      "nbconvert_exporter": "python",
      "pygments_lexer": "ipython3",
      "version": "3.9.13"
    },
    "orig_nbformat": 4,
    "vscode": {
      "interpreter": {
        "hash": "7a3233f10c65cea83d95747b19164ab9f17459359e8424dc1a176cea08d7ac23"
      }
    }
  },
  "nbformat": 4,
  "nbformat_minor": 0
}
