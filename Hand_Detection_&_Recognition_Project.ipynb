{
  "cells": [
    {
      "cell_type": "code",
      "execution_count": null,
      "metadata": {
        "id": "jGI8K15iWN2n"
      },
      "outputs": [],
      "source": [
        "\n",
        "# Install dependencies \n",
        "# pip install opencv-python \n",
        "%pip install mediapipe\n"
      ]
    },
    {
      "cell_type": "markdown",
      "metadata": {
        "id": "rodWEAufWN2y"
      },
      "source": [
        "# Import packages"
      ]
    },
    {
      "cell_type": "code",
      "execution_count": 28,
      "metadata": {
        "id": "N0b9wzQ0WN24"
      },
      "outputs": [],
      "source": [
        "import mediapipe as mp\n",
        "import cv2\n",
        "import numpy as np\n",
        "import uuid\n",
        "import os\n",
        "import copy\n",
        "import itertools\n",
        "from collections import deque, Counter\n",
        "import csv\n",
        "import tensorflow as tf\n",
        "\n"
      ]
    },
    {
      "cell_type": "markdown",
      "metadata": {
        "id": "5Y0mtPShWN27"
      },
      "source": [
        "# Initials MP Hands"
      ]
    },
    {
      "cell_type": "code",
      "execution_count": 15,
      "metadata": {
        "id": "uKM8UnZWWN28"
      },
      "outputs": [],
      "source": [
        "mp_hands = mp.solutions.hands # hands model\n",
        "mp_drawing = mp.solutions.drawing_utils # Drawing utilities"
      ]
    },
    {
      "cell_type": "markdown",
      "source": [
        "# Detecting Hands Function\n",
        "A list of 21 hand landmarks on the left hand. Each landmark consists of x, y and z. x and y are normalized to [0.0, 1.0] by the image width and height respectively."
      ],
      "metadata": {
        "id": "Rr9LUO97ZRBp"
      }
    },
    {
      "cell_type": "code",
      "execution_count": 13,
      "metadata": {
        "id": "pcfh4hlzWN29"
      },
      "outputs": [],
      "source": [
        "def mediapipe_detection(image, model):\n",
        "    image = cv2.cvtColor(image, cv2.COLOR_BGR2RGB) # COLOR CONVERSION BGR 2 RGB\n",
        "    image = cv2.flip(image, 1)                     # Mirror display\n",
        "    debug_image = copy.deepcopy(image)\n",
        "    image.flags.writeable = False                  # Image is no longer writeable\n",
        "    results = model.process(image)                 # Make prediction\n",
        "    image.flags.writeable = True                   # Image is now writeable \n",
        "    image = cv2.cvtColor(image, cv2.COLOR_RGB2BGR) # COLOR COVERSION RGB 2 BGR\n",
        "    return image, results ,debug_image"
      ]
    },
    {
      "cell_type": "markdown",
      "source": [
        "# Drawing Landmarks"
      ],
      "metadata": {
        "id": "B6DaZ939iMe1"
      }
    },
    {
      "cell_type": "code",
      "execution_count": 9,
      "metadata": {
        "id": "qMdAJSpuWN3A"
      },
      "outputs": [],
      "source": [
        "def draw_landmarks(image, results):\n",
        "    # Draw Hand connections\n",
        "    mp_drawing.draw_landmarks(image, results.multi_hand_landmarks, mp_hands.HAND_CONNECTIONS, \n",
        "                             mp_drawing.DrawingSpec(color=(33, 225, 225), thickness=2, circle_radius=4),\n",
        "                             mp_drawing.DrawingSpec(color=(33, 225, 225), thickness=2, circle_radius=2),\n",
        "                             )"
      ]
    },
    {
      "cell_type": "code",
      "source": [
        "def draw_bounding_rect(use_brect, image, brect):\n",
        "    if use_brect:\n",
        "        # Outer rectangle\n",
        "        cv2.rectangle(image, (brect[0], brect[1]), (brect[2], brect[3]),\n",
        "                     (0, 0, 0), 1)\n",
        "\n",
        "    return image"
      ],
      "metadata": {
        "id": "46FqmyOJ20hA"
      },
      "execution_count": 31,
      "outputs": []
    },
    {
      "cell_type": "code",
      "source": [
        "def draw_info(image, fps, mode, number):\n",
        "    cv2.putText(image, \"FPS:\" + str(fps), (10, 30), cv2.FONT_HERSHEY_SIMPLEX,\n",
        "               1.0, (0, 0, 0), 4, cv2.LINE_AA)\n",
        "    cv2.putText(image, \"FPS:\" + str(fps), (10, 30), cv2.FONT_HERSHEY_SIMPLEX,\n",
        "               1.0, (255, 255, 255), 2, cv2.LINE_AA)\n",
        "\n",
        "    mode_string = ['Logging Key Point', 'Logging Point History']\n",
        "    if 1 <= mode <= 2:\n",
        "        cv2.putText(image, \"MODE:\" + mode_string[mode - 1], (10, 90),\n",
        "                   cv2.FONT_HERSHEY_SIMPLEX, 0.6, (255, 255, 255), 1,\n",
        "                   cv2.LINE_AA)\n",
        "        if 0 <= number <= 9:\n",
        "            cv2.putText(image, \"NUM:\" + str(number), (10, 110),\n",
        "                       cv2.FONT_HERSHEY_SIMPLEX, 0.6, (255, 255, 255), 1,\n",
        "                       cv2.LINE_AA)\n",
        "    return image\n"
      ],
      "metadata": {
        "id": "Qki7IswT3bfO"
      },
      "execution_count": 32,
      "outputs": []
    },
    {
      "cell_type": "code",
      "source": [
        "def draw_info_text(image, brect, handedness, hand_sign_text,\n",
        "                   finger_gesture_text):\n",
        "    cv2.rectangle(image, (brect[0], brect[1]), (brect[2], brect[1] - 22),\n",
        "                 (0, 0, 0), -1)\n",
        "\n",
        "    info_text = handedness.classification[0].label[0:]\n",
        "    if finger_gesture_text != \"\":\n",
        "        cv2.putText(image, \"Finger Gesture:\" + finger_gesture_text, (10, 60),\n",
        "                   cv2.FONT_HERSHEY_SIMPLEX, 1.0, (0, 0, 0), 4, cv2.LINE_AA)\n",
        "        cv2.putText(image, \"Finger Gesture:\" + finger_gesture_text, (10, 60),\n",
        "                   cv2.FONT_HERSHEY_SIMPLEX, 1.0, (255, 255, 255), 2,\n",
        "                   cv2.LINE_AA)\n",
        "\n",
        "    return image"
      ],
      "metadata": {
        "id": "-i2iHLrS4bTW"
      },
      "execution_count": 33,
      "outputs": []
    },
    {
      "cell_type": "code",
      "source": [
        "def draw_point_history(image, point_history):\n",
        "    for index, point in enumerate(point_history):\n",
        "        if point[0] != 0 and point[1] != 0:\n",
        "            cv2.circle(image, (point[0], point[1]), 1 + int(index / 2),\n",
        "                      (152, 251, 152), 2)\n",
        "\n",
        "    return image"
      ],
      "metadata": {
        "id": "Brw7n4HS9Z9c"
      },
      "execution_count": 34,
      "outputs": []
    },
    {
      "cell_type": "markdown",
      "source": [
        "# Read labels"
      ],
      "metadata": {
        "id": "NsuViGsDh-oH"
      }
    },
    {
      "cell_type": "code",
      "source": [
        "actions = ['goLeft', 'goRight', 'modeDiaPo','modeNormal','write']"
      ],
      "metadata": {
        "id": "FDYT9xlThahn"
      },
      "execution_count": 17,
      "outputs": []
    },
    {
      "cell_type": "markdown",
      "source": [
        "# FPS Measurement"
      ],
      "metadata": {
        "id": "1BoFcngGihK9"
      }
    },
    {
      "cell_type": "code",
      "source": [
        "\n",
        "class CvFpsCalc(object):\n",
        "\n",
        "    def __init__(self, buffer_len=1):\n",
        "        self._start_tick = cv2.getTickCount()\n",
        "        self._freq = 1000.0 / cv2.getTickFrequency()\n",
        "        self._difftimes = deque(maxlen=buffer_len)\n",
        "\n",
        "    def get(self):\n",
        "        current_tick = cv2.getTickCount()\n",
        "        different_time = (current_tick - self._start_tick) * self._freq\n",
        "        self._start_tick = current_tick\n",
        "\n",
        "        self._difftimes.append(different_time)\n",
        "\n",
        "        fps = 1000.0 / (sum(self._difftimes) / len(self._difftimes))\n",
        "        fps_rounded = round(fps, 2)\n",
        "\n",
        "        return fps_rounded\n"
      ],
      "metadata": {
        "id": "93Mb2zq8igo_"
      },
      "execution_count": 23,
      "outputs": []
    },
    {
      "cell_type": "markdown",
      "source": [
        "# Draw The Rectangle Of Hand"
      ],
      "metadata": {
        "id": "_LcBv9AvnYUP"
      }
    },
    {
      "cell_type": "code",
      "source": [
        "def calc_bounding_rect(image, landmarks):\n",
        "    image_width, image_height = image.shape[1], image.shape[0]\n",
        "\n",
        "    landmark_array = np.empty((0, 2), int)\n",
        "\n",
        "    for _, landmark in enumerate(landmarks.landmark):\n",
        "        landmark_x = min(int(landmark.x * image_width), image_width - 1) \n",
        "        landmark_y = min(int(landmark.y * image_height), image_height - 1)\n",
        "\n",
        "        landmark_point = [np.array((landmark_x, landmark_y))]\n",
        "\n",
        "        landmark_array = np.append(landmark_array, landmark_point, axis=0)\n",
        "\n",
        "    x, y, w, h = cv2.boundingRect(landmark_array)\n",
        "\n",
        "    return [x, y, x + w, y + h] # retuen the coords of 4 points of the rect"
      ],
      "metadata": {
        "id": "KLwP1UM_nYH5"
      },
      "execution_count": 24,
      "outputs": []
    },
    {
      "cell_type": "markdown",
      "source": [
        "#Extract Keypoint Values of Hand\n"
      ],
      "metadata": {
        "id": "q1LOAcnKn-9v"
      }
    },
    {
      "cell_type": "code",
      "source": [
        "def calc_landmark_list(image, landmarks):\n",
        "    image_width, image_height = image.shape[1], image.shape[0]\n",
        "\n",
        "    landmark_point = []\n",
        "\n",
        "    # Keypoint\n",
        "    for _, landmark in enumerate(landmarks.landmark):\n",
        "        landmark_x = min(int(landmark.x * image_width), image_width - 1)\n",
        "        landmark_y = min(int(landmark.y * image_height), image_height - 1)\n",
        "\n",
        "        landmark_point.append([landmark_x, landmark_y])\n",
        "\n",
        "    return landmark_point # keypoint => [[x1,y1],[x2,y2]]"
      ],
      "metadata": {
        "id": "ay1ozsC9n-AR"
      },
      "execution_count": 18,
      "outputs": []
    },
    {
      "cell_type": "markdown",
      "source": [
        "# Preprocess Data (Normalisation)\n",
        "\n",
        "In our case  Coords"
      ],
      "metadata": {
        "id": "tmt0kW3hsG40"
      }
    },
    {
      "cell_type": "code",
      "source": [
        "def pre_process_Keypoint_history(image, Keypoints_history):\n",
        "    image_width, image_height = image.shape[1], image.shape[0]\n",
        "\n",
        "    temporarly_Keypoints_history = copy.deepcopy(Keypoints_history)\n",
        "\n",
        "    # Convert to relative coordinates\n",
        "    base_x, base_y = 0, 0\n",
        "    for index, point in enumerate(temporarly_Keypoints_history):\n",
        "        if index == 0:\n",
        "            base_x, base_y = point[0], point[1] # point => [x,y]\n",
        "\n",
        "        \n",
        "        # Normalization of Coords\n",
        "        temporarly_Keypoints_history[index][0] = (temporarly_Keypoints_history[index][0] -\n",
        "                                        base_x) / image_width # x / image width\n",
        "        temporarly_Keypoints_history[index][1] = (temporarly_Keypoints_history[index][1] -\n",
        "                                        base_y) / image_height # y / image height\n",
        "\n",
        "    # Convert to a one-dimensional list (Flatten the temporarly_Keypoints_history list to 1d list )\n",
        "    temporarly_Keypoints_history = list(\n",
        "        itertools.chain.from_iterable(temporarly_Keypoints_history))\n",
        "\n",
        "    return temporarly_Keypoints_history"
      ],
      "metadata": {
        "id": "HCv-vAPOpbuX"
      },
      "execution_count": 25,
      "outputs": []
    },
    {
      "cell_type": "code",
      "source": [
        "def pre_process_landmark(landmark_list):\n",
        "    temporarly_landmark_list = copy.deepcopy(landmark_list)\n",
        "\n",
        "    # Convert to relative coordinates\n",
        "    base_x, base_y = 0, 0\n",
        "    for index, landmark_point in enumerate(temporarly_landmark_list):\n",
        "        if index == 0:\n",
        "            base_x, base_y = landmark_point[0], landmark_point[1]\n",
        "\n",
        "        temporarly_landmark_list[index][0] = temporarly_landmark_list[index][0] - base_x\n",
        "        temporarly_landmark_list[index][1] = temporarly_landmark_list[index][1] - base_y\n",
        "\n",
        "    # Convert to a one-dimensional list\n",
        "    temporarly_landmark_list = list(\n",
        "        itertools.chain.from_iterable(temporarly_landmark_list))\n",
        "\n",
        "    # Normalization\n",
        "    max_value = max(list(map(abs, temporarly_landmark_list)))\n",
        "\n",
        "    def normalize_(n):\n",
        "        return n / max_value\n",
        "\n",
        "    temporarly_landmark_list = list(map(normalize_, temporarly_landmark_list))\n",
        "\n",
        "    return temporarly_landmark_list"
      ],
      "metadata": {
        "id": "WKojZ8og2Rjg"
      },
      "execution_count": 30,
      "outputs": []
    },
    {
      "cell_type": "markdown",
      "source": [
        "#Save Collected Coords"
      ],
      "metadata": {
        "id": "oYe6SGpOtFP7"
      }
    },
    {
      "cell_type": "code",
      "source": [
        "def logging_csv(number, mode, point_history_list):\n",
        "\n",
        "    if mode == 0:\n",
        "        pass\n",
        "    \"\"\"\n",
        "    if mode == 1 and (0 <= number <= 9):\n",
        "        csv_path = 'model/keypoint_classifier/keypoint.csv'\n",
        "        with open(csv_path, 'a', newline=\"\") as f:\n",
        "            writer = csv.writer(f)\n",
        "            writer.writerow([number, *landmark_list])\n",
        "    \"\"\"\n",
        "    if mode == 2 and (0 <= number <= 9):\n",
        "        csv_path = 'Gestures_Presentation_Controle_DataSet/KeyPoints.csv'\n",
        "        with open(csv_path, 'a', newline=\"\") as f:\n",
        "            writer = csv.writer(f)\n",
        "            writer.writerow([number, *point_history_list])\n",
        "    return"
      ],
      "metadata": {
        "id": "do3LhTDks2Vn"
      },
      "execution_count": 26,
      "outputs": []
    },
    {
      "cell_type": "markdown",
      "source": [
        "# Get MetaData of The Trained Model And Predict The Gesture Using tensorflow Lite"
      ],
      "metadata": {
        "id": "qxhf1NqLyxQr"
      }
    },
    {
      "cell_type": "code",
      "source": [
        "class Gestues_classifier(object):\n",
        "    def __init__(\n",
        "        self,\n",
        "        model_path='Gestues_classifier.tflite',\n",
        "        score_th=0.5,\n",
        "        invalid_value=0,\n",
        "        num_threads=1,\n",
        "    ):\n",
        "        self.interpreter = tf.lite.Interpreter(model_path=model_path,\n",
        "                                               num_threads=num_threads)\n",
        "\n",
        "        self.interpreter.allocate_tensors()\n",
        "        self.input_details = self.interpreter.get_input_details()\n",
        "        self.output_details = self.interpreter.get_output_details()\n",
        "\n",
        "        self.score_th = score_th\n",
        "        self.invalid_value = invalid_value\n",
        "\n",
        "    def __call__(\n",
        "        self,\n",
        "        Keypoints_history,\n",
        "    ):\n",
        "        input_details_tensor_index = self.input_details[0]['index']\n",
        "        self.interpreter.set_tensor(\n",
        "            input_details_tensor_index,\n",
        "            np.array([Keypoints_history], dtype=np.float32))\n",
        "        self.interpreter.invoke()\n",
        "\n",
        "        output_details_tensor_index = self.output_details[0]['index']\n",
        "\n",
        "        result = self.interpreter.get_tensor(output_details_tensor_index) # Get the list of Predections \n",
        "\n",
        "        result_index = np.argmax(np.squeeze(result)) # Get the index of  predection with the bigger percent\n",
        "\n",
        "        if np.squeeze(result)[result_index] < self.score_th:\n",
        "            result_index = self.invalid_value\n",
        "\n",
        "        return result_index\n"
      ],
      "metadata": {
        "id": "OGaO8R7Gyhcc"
      },
      "execution_count": 29,
      "outputs": []
    },
    {
      "cell_type": "markdown",
      "source": [
        "# Choise of Mode"
      ],
      "metadata": {
        "id": "hghBGX42-hUS"
      }
    },
    {
      "cell_type": "code",
      "source": [
        "def select_mode(key, mode):\n",
        "    number = -1\n",
        "    if 48 <= key <= 57:  # 0 ~ 9\n",
        "        number = key - 48\n",
        "    if key == 110:  # n\n",
        "        mode = 0\n",
        "    if key == 107:  # k\n",
        "        mode = 1\n",
        "    if key == 104:  # h\n",
        "        mode = 2\n",
        "    return number, mode"
      ],
      "metadata": {
        "id": "RG6j4Uu6-gqo"
      },
      "execution_count": null,
      "outputs": []
    },
    {
      "cell_type": "code",
      "source": [
        "# Parameters Initialisation \n",
        "cvFpsCalc = CvFpsCalc(buffer_len=10)\n",
        "history_length = 16 # lenght of list that takes max indexes of predections \n",
        "Keypoints_history = deque(maxlen=history_length)\n",
        "Argmax_list = deque(maxlen=history_length)\n",
        "mode = 0 #mode Normal \n",
        "use_boundary_recttangle = True"
      ],
      "metadata": {
        "id": "DltqNhrbjSQl"
      },
      "execution_count": 27,
      "outputs": []
    },
    {
      "cell_type": "code",
      "source": [
        "# Camera preparation\n",
        "cap = cv2.VideoCapture(0)\n",
        "cap.set(cv2.CAP_PROP_FRAME_WIDTH, 960)\n",
        "cap.set(cv2.CAP_PROP_FRAME_HEIGHT, 540)\n",
        "\n",
        "# Set mediapipe model \n",
        "with mp_hands.Hands(min_detection_confidence=0.7, min_tracking_confidence=0.5,max_num_hands=1) as hands: \n",
        "\n",
        "    while cap.isOpened():\n",
        "\n",
        "       fps = cvFpsCalc.get()\n",
        "       # Process Key (ESC: end) \n",
        "       key = cv2.waitKey(10)\n",
        "       if key == 27:  # ESC\n",
        "          break\n",
        "       number, mode = select_mode(key, mode)\n",
        "\n",
        "       # Camera capture #####################################################\n",
        "       ret, frame = cap.read()\n",
        "       if not ret:\n",
        "          break\n",
        "\n",
        "       # Make detections\n",
        "       image, results, debug_image = mediapipe_detection(frame, hands)\n",
        "\n",
        "       if results.multi_hand_landmarks is not None:\n",
        "            for hand_landmarks, handedness in zip(results.multi_hand_landmarks,\n",
        "                                                  results.multi_handedness):\n",
        "                \n",
        "                # Bounding box calculation\n",
        "                brect = calc_bounding_rect(debug_image, hand_landmarks)\n",
        "\n",
        "                # Landmark calculation\n",
        "                landmark_list = calc_landmark_list(debug_image, hand_landmarks)\n",
        "                pre_processed_landmark_list = pre_process_landmark(\n",
        "                    landmark_list)\n",
        "\n",
        "\n",
        "                # Conversion to relative coordinates / normalized coordinates\n",
        "                pre_processed_Keypoints_list = pre_process_Keypoint_history(\n",
        "                    debug_image, Keypoints_history)\n",
        "                \n",
        "                # Write to the dataset file\n",
        "                logging_csv(number, mode, pre_processed_Keypoints_list)\n",
        "\n",
        "                # Gesture classification\n",
        "                gesture_id = 0\n",
        "                Keypoint_history_len = len(pre_processed_Keypoints_list)\n",
        "                if Keypoint_history_len == (history_length * 2): # take just 32 frame\n",
        "                    gesture_id = Gestues_classifier(\n",
        "                        pre_processed_Keypoints_list)\n",
        "\n",
        "                # Calculates the gesture IDs in the latest detection\n",
        "                Argmax_list.append(gesture_id) \n",
        "                most_common_Gesture_id = Counter(\n",
        "                    Argmax_list).most_common() # most_common_Gesture_id => [(gesturs1,nb_of),()]\n",
        "\n",
        "                # Drawing part\n",
        "                debug_image = draw_bounding_rect(use_boundary_recttangle, debug_image, brect)\n",
        "                debug_image = draw_landmarks(debug_image, landmark_list)\n",
        "                debug_image = draw_info_text(\n",
        "                    debug_image,\n",
        "                    brect,\n",
        "                    handedness,\n",
        "                    actions[most_common_Gesture_id[0][0]],\n",
        "                )\n",
        "\n",
        "       else :\n",
        "         Keypoints_history.append([0, 0])\n",
        "\n",
        "       debug_image = draw_info(debug_image, fps, mode, number)\n",
        "       debug_image = draw_point_history(debug_image, Keypoints_history)\n",
        "\n",
        "\n",
        "       # Screen reflection \n",
        "       cv2.imshow('Hand Gesture Recognition', debug_image)\n",
        "\n",
        "\n",
        "cap.release()\n",
        "cv2.destroyAllWindows()\n",
        "        "
      ],
      "metadata": {
        "id": "cwSHCLEqf7nJ"
      },
      "execution_count": null,
      "outputs": []
    },
    {
      "cell_type": "markdown",
      "metadata": {
        "id": "aBtbMyJ6WN3p"
      },
      "source": [
        "# **Build and Train The Model**"
      ]
    },
    {
      "cell_type": "markdown",
      "source": [
        "**import necessary package**"
      ],
      "metadata": {
        "id": "-KrlHFFcC9za"
      }
    },
    {
      "cell_type": "code",
      "source": [
        "from sklearn.model_selection import train_test_split"
      ],
      "metadata": {
        "id": "6gvVQ0uK-_m3"
      },
      "execution_count": null,
      "outputs": []
    },
    {
      "cell_type": "markdown",
      "source": [
        "**input shape**"
      ],
      "metadata": {
        "id": "nK6bWXlZDNVL"
      }
    },
    {
      "cell_type": "code",
      "source": [
        "TIME_STEPS = 16\n",
        "DIMENSION = 2"
      ],
      "metadata": {
        "id": "2VUm3kZJC8ej"
      },
      "execution_count": null,
      "outputs": []
    },
    {
      "cell_type": "markdown",
      "source": [
        "**Load DataSet and  Features & lables**"
      ],
      "metadata": {
        "id": "hkCGElqkDb5N"
      }
    },
    {
      "cell_type": "code",
      "source": [
        "dataset = 'Gestures_Presentation_Controle_DataSet/KeyPoints.csv'\n",
        "model_save_path = 'Gestures_classifier.hdf5'"
      ],
      "metadata": {
        "id": "QpSZjKVPD15y"
      },
      "execution_count": null,
      "outputs": []
    },
    {
      "cell_type": "code",
      "source": [
        "X_features  = np.loadtxt(dataset, delimiter=',', dtype='float32', usecols=list(range(1, (TIME_STEPS * DIMENSION) + 1)))\n",
        "Y_lables  = np.loadtxt(dataset, delimiter=',', dtype='int32', usecols=(0))\n",
        "\n",
        "# split features ana lables into train and test\n",
        "RANDOM_SEED = 42\n",
        "X_train, X_test, y_train, y_test = train_test_split(X_features, Y_lables, train_size=0.75, random_state=RANDOM_SEED)"
      ],
      "metadata": {
        "id": "I8KrPaiqDbdm"
      },
      "execution_count": null,
      "outputs": []
    },
    {
      "cell_type": "markdown",
      "source": [
        "**Define a Callback to use for EarlyStopping**"
      ],
      "metadata": {
        "id": "9Cl2NdZWFhvz"
      }
    },
    {
      "cell_type": "code",
      "source": [
        "# Model checkpoint callback\n",
        "cp_callback = tf.keras.callbacks.ModelCheckpoint(\n",
        "    model_save_path, verbose=1, save_weights_only=False)\n",
        "\n",
        "# callback for earlyStopping\n",
        "Earlystopping_callback = tf.keras.callbacks.EarlyStopping(patience=20, verbose=1)"
      ],
      "metadata": {
        "id": "DXEZfStzFfEi"
      },
      "execution_count": null,
      "outputs": []
    },
    {
      "cell_type": "markdown",
      "source": [
        "**Build The Model**"
      ],
      "metadata": {
        "id": "VHrhIdYGEeX0"
      }
    },
    {
      "cell_type": "code",
      "source": [
        "# Modl Param\n",
        "use_lstm = False\n",
        "model = None\n",
        "NUM_CLASSES = 4"
      ],
      "metadata": {
        "id": "Uq12oEAJE37o"
      },
      "execution_count": null,
      "outputs": []
    },
    {
      "cell_type": "code",
      "source": [
        "if use_lstm:\n",
        "    model = tf.keras.models.Sequential([\n",
        "        tf.keras.layers.InputLayer(input_shape=(TIME_STEPS * DIMENSION, )),\n",
        "        tf.keras.layers.Reshape((TIME_STEPS, DIMENSION), input_shape=(TIME_STEPS * DIMENSION, )), \n",
        "        tf.keras.layers.Dropout(0.2),\n",
        "        tf.keras.layers.LSTM(16, input_shape=[TIME_STEPS, DIMENSION]),\n",
        "        tf.keras.layers.Dropout(0.5),\n",
        "        tf.keras.layers.Dense(10, activation='relu'),\n",
        "        tf.keras.layers.Dense(NUM_CLASSES, activation='softmax')\n",
        "    ])\n",
        "else:\n",
        "    model = tf.keras.models.Sequential([\n",
        "        tf.keras.layers.InputLayer(input_shape=(TIME_STEPS * DIMENSION, )),\n",
        "        tf.keras.layers.Dropout(0.2),\n",
        "        tf.keras.layers.Dense(24, activation='relu'),\n",
        "        tf.keras.layers.Dropout(0.5),\n",
        "        tf.keras.layers.Dense(10, activation='relu'),\n",
        "        tf.keras.layers.Dense(NUM_CLASSES, activation='softmax')\n",
        "    ])"
      ],
      "metadata": {
        "id": "BKcTUfUBD9Gh"
      },
      "execution_count": null,
      "outputs": []
    },
    {
      "cell_type": "code",
      "source": [
        "model.compile( optimizer='adam', loss='sparse_categorical_crossentropy', metrics=['accuracy'] )"
      ],
      "metadata": {
        "id": "c1h-_dbHGYn3"
      },
      "execution_count": null,
      "outputs": []
    },
    {
      "cell_type": "markdown",
      "source": [
        "**Train The Model**"
      ],
      "metadata": {
        "id": "vPh6RduzGglX"
      }
    },
    {
      "cell_type": "code",
      "source": [
        "model.fit( X_train, y_train, epochs=1000, batch_size=128, validation_data=(X_test, y_test), callbacks=[cp_callback, Earlystopping_callback] )"
      ],
      "metadata": {
        "id": "Z8zinCJ8Gelv"
      },
      "execution_count": null,
      "outputs": []
    },
    {
      "cell_type": "markdown",
      "source": [
        "**Model Summary**"
      ],
      "metadata": {
        "id": "-MYEi2rCHM8W"
      }
    },
    {
      "cell_type": "code",
      "source": [
        "model.summary()"
      ],
      "metadata": {
        "id": "_SdpF4ABHMaf"
      },
      "execution_count": null,
      "outputs": []
    },
    {
      "cell_type": "markdown",
      "source": [
        "**Save Weights**\n"
      ],
      "metadata": {
        "id": "80ainbBnHaUF"
      }
    },
    {
      "cell_type": "code",
      "source": [
        "model.save(model_save_path, include_optimizer=False)"
      ],
      "metadata": {
        "id": "TohRVMTjHRRN"
      },
      "execution_count": null,
      "outputs": []
    },
    {
      "cell_type": "markdown",
      "source": [
        "**Test the model ( Make Predictions )**"
      ],
      "metadata": {
        "id": "EqgxK0QnH-1F"
      }
    },
    {
      "cell_type": "code",
      "source": [
        "predict_result = model.predict(np.array([X_test[0]]))\n",
        "print(np.squeeze(predict_result))\n",
        "print(np.argmax(np.squeeze(predict_result)))\n",
        "print(actions[np.argmax(np.squeeze(predict_result))])\n"
      ],
      "metadata": {
        "id": "dVKeVOYEHt29"
      },
      "execution_count": null,
      "outputs": []
    },
    {
      "cell_type": "markdown",
      "source": [
        "Evaluate The Model\n",
        "\n",
        "Confusion matrix"
      ],
      "metadata": {
        "id": "ST-k7UC4HtIu"
      }
    },
    {
      "cell_type": "code",
      "source": [
        "import pandas as pd\n",
        "import seaborn as sns\n",
        "import matplotlib.pyplot as plt\n",
        "from sklearn.metrics import confusion_matrix, classification_report\n",
        "\n",
        "def print_confusion_matrix(y_true, y_pred, report=True):\n",
        "    labels = sorted(list(set(y_true)))\n",
        "    cmx_data = confusion_matrix(y_true, y_pred, labels=labels)\n",
        "    \n",
        "    df_cmx = pd.DataFrame(cmx_data, index=labels, columns=labels)\n",
        " \n",
        "    fig, ax = plt.subplots(figsize=(7, 6))\n",
        "    sns.heatmap(df_cmx, annot=True, fmt='g' ,square=False)\n",
        "    ax.set_ylim(len(set(y_true)), 0)\n",
        "    plt.show()\n",
        "    \n",
        "    if report:\n",
        "        print('Classification Report')\n",
        "        print(classification_report(y_test, y_pred))\n",
        "\n",
        "Y_pred = model.predict(X_test)\n",
        "y_pred = np.argmax(Y_pred, axis=1)\n",
        "\n",
        "print_confusion_matrix(y_test, y_pred)"
      ],
      "metadata": {
        "id": "BJlhMcP9IrH_"
      },
      "execution_count": null,
      "outputs": []
    },
    {
      "cell_type": "markdown",
      "source": [
        "# Convert to model for Tensorflow-Lite"
      ],
      "metadata": {
        "id": "YOjMMGaQMTJT"
      }
    },
    {
      "cell_type": "markdown",
      "source": [
        "\n",
        "**Save as a model dedicated to inference**\n"
      ],
      "metadata": {
        "id": "918YSOd1MT6w"
      }
    },
    {
      "cell_type": "code",
      "source": [
        "model = tf.keras.models.load_model(model_save_path)"
      ],
      "metadata": {
        "id": "pP65LqTnMYmg"
      },
      "execution_count": null,
      "outputs": []
    },
    {
      "cell_type": "code",
      "source": [
        "tflite_save_path = 'Gestures_classifier.tflite'"
      ],
      "metadata": {
        "id": "cIvusWueOUeG"
      },
      "execution_count": null,
      "outputs": []
    },
    {
      "cell_type": "markdown",
      "source": [
        "**Transform model (quantization)**"
      ],
      "metadata": {
        "id": "6_VdeUznPAQH"
      }
    },
    {
      "cell_type": "code",
      "source": [
        "converter = tf.lite.TFLiteConverter.from_keras_model(model)  # converter = tf.lite.TFLiteConverter.from_saved_model(saved_model_path)\n",
        "converter.optimizations = [tf.lite.Optimize.DEFAULT]\n",
        "tflite_quantized_model = converter.convert()\n",
        "\n",
        "open(tflite_save_path, 'wb').write(tflite_quantized_model)"
      ],
      "metadata": {
        "id": "2SFZL0OIO5XO"
      },
      "execution_count": null,
      "outputs": []
    },
    {
      "cell_type": "markdown",
      "source": [
        "**Inference test**"
      ],
      "metadata": {
        "id": "m0NFsx5IPLNu"
      }
    },
    {
      "cell_type": "code",
      "source": [
        "interpreter = tf.lite.Interpreter(model_path=tflite_save_path)\n",
        "interpreter.allocate_tensors()"
      ],
      "metadata": {
        "id": "vlJdomaNPCdl"
      },
      "execution_count": null,
      "outputs": []
    },
    {
      "cell_type": "code",
      "source": [
        "# get input/output tensor\n",
        "input_details = interpreter.get_input_details()\n",
        "output_details = interpreter.get_output_details()\n",
        "print(input_details)"
      ],
      "metadata": {
        "id": "ixfMtwVlPNpO"
      },
      "execution_count": null,
      "outputs": []
    },
    {
      "cell_type": "code",
      "source": [
        "interpreter.set_tensor(input_details[0]['index'], np.array([X_test[0]]))"
      ],
      "metadata": {
        "id": "mns-mOWFPUzg"
      },
      "execution_count": null,
      "outputs": []
    },
    {
      "cell_type": "code",
      "source": [
        "%%time\n",
        "# Inference implementation\n",
        "interpreter.invoke()\n",
        "tflite_results = interpreter.get_tensor(output_details[0]['index'])"
      ],
      "metadata": {
        "id": "4MaRZsDCPYQu"
      },
      "execution_count": null,
      "outputs": []
    },
    {
      "cell_type": "code",
      "source": [
        "print(np.squeeze(tflite_results))\n",
        "print(np.argmax(np.squeeze(tflite_results)))"
      ],
      "metadata": {
        "id": "KOwMkRnRPmAU"
      },
      "execution_count": null,
      "outputs": []
    }
  ],
  "metadata": {
    "kernelspec": {
      "display_name": "base",
      "language": "python",
      "name": "python3"
    },
    "language_info": {
      "codemirror_mode": {
        "name": "ipython",
        "version": 3
      },
      "file_extension": ".py",
      "mimetype": "text/x-python",
      "name": "python",
      "nbconvert_exporter": "python",
      "pygments_lexer": "ipython3",
      "version": "3.9.13"
    },
    "orig_nbformat": 4,
    "vscode": {
      "interpreter": {
        "hash": "7a3233f10c65cea83d95747b19164ab9f17459359e8424dc1a176cea08d7ac23"
      }
    },
    "colab": {
      "provenance": []
    }
  },
  "nbformat": 4,
  "nbformat_minor": 0
}